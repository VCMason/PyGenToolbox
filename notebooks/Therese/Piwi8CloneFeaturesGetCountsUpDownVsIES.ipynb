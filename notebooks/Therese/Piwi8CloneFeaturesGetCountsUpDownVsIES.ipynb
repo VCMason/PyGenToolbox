{
 "cells": [
  {
   "cell_type": "code",
   "execution_count": 41,
   "metadata": {},
   "outputs": [
    {
     "name": "stdout",
     "output_type": "stream",
     "text": [
      "The autoreload extension is already loaded. To reload it, use:\n",
      "  %reload_ext autoreload\n"
     ]
    }
   ],
   "source": [
    "%load_ext autoreload\n",
    "%autoreload 2"
   ]
  },
  {
   "cell_type": "code",
   "execution_count": 16,
   "metadata": {},
   "outputs": [],
   "source": [
    "import pygentoolbox.Tools\n",
    "#dir(pygentoolbox.Tools)"
   ]
  },
  {
   "cell_type": "code",
   "execution_count": 9,
   "metadata": {},
   "outputs": [
    {
     "name": "stdin",
     "output_type": "stream",
     "text": [
      "Full path to .gff3 file:  D:\\LinuxShare\\Ciliates\\Genomes\\Annotations\\internal_eliminated_sequence_PGM_ParTIES.pt_51_with_ies.gff3\n",
      "Designate cloned feature base name (ex: IES_clone:  IES_clone\n"
     ]
    },
    {
     "name": "stdout",
     "output_type": "stream",
     "text": [
      "Finished cloning features to output file: D:\\LinuxShare\\Ciliates\\Genomes\\Annotations\\internal_eliminated_sequence_PGM_ParTIES.pt_51_with_ies.clone.gff3\n",
      "Number of cloned features with negative start coordinates adjusted to 1 = 15\n"
     ]
    }
   ],
   "source": [
    "pygentoolbox.Tools.clone_features_up_down()"
   ]
  },
  {
   "cell_type": "code",
   "execution_count": 10,
   "metadata": {},
   "outputs": [],
   "source": [
    "## Linux\n",
    "# bedtools intersect -a /media/sf_LinuxShare/Ciliates/Genomes/Annotations/internal_eliminated_sequence_PGM_ParTIES.pt_51_with_ies.clone.gff3 -b /media/sf_LinuxShare/Projects/Theresa/Hisat2/FlagHA_Pt08/Pt_51_MacAndIES/52_Late.sort.bam -c > /media/sf_LinuxShare/Projects/Theresa/bedtools/intersect/Intersect_MacAndIES_52Late_Piwi08_UpDownFeatures.tsv\n",
    "# bedtools intersect -a /media/sf_LinuxShare/Ciliates/Genomes/Annotations/internal_eliminated_sequence_PGM_ParTIES.pt_51_with_ies.clone.gff3 -b /media/sf_LinuxShare/Projects/Theresa/Hisat2/FlagHA_Pt08/Pt_51_MacAndIES/53_Later.sort.bam -c > /media/sf_LinuxShare/Projects/Theresa/bedtools/intersect/Intersect_MacAndIES_53Later_Piwi08_UpDownFeatures.tsv\n"
   ]
  },
  {
   "cell_type": "code",
   "execution_count": 1,
   "metadata": {},
   "outputs": [
    {
     "name": "stdout",
     "output_type": "stream",
     "text": [
      "Added fields: up, ies, down, diffup, diffdown\n",
      "Output file: D:\\LinuxShare\\Projects\\Theresa\\bedtools\\intersect\\Intersect_MacAndIES_52Late_Piwi08_UpDownFeatures.diff.tsv\n",
      "Number of ies with up and down features with >= 5 coverage: 18\n"
     ]
    }
   ],
   "source": [
    "f = 'D:\\\\LinuxShare\\\\Projects\\\\Theresa\\\\bedtools\\\\intersect\\\\Intersect_MacAndIES_52Late_Piwi08_UpDownFeatures.tsv'\n",
    "depthcutoff = 5\n",
    "import pygentoolbox.CompareEachIESToUpAndDownClonedFeature\n",
    "pygentoolbox.CompareEachIESToUpAndDownClonedFeature.compare_ies_to_features_up_and_down(f, 5)"
   ]
  },
  {
   "cell_type": "code",
   "execution_count": 2,
   "metadata": {},
   "outputs": [
    {
     "name": "stdout",
     "output_type": "stream",
     "text": [
      "Added fields: up, ies, down, diffup, diffdown\n",
      "Output file: D:\\LinuxShare\\Projects\\Theresa\\bedtools\\intersect\\Intersect_MacAndIES_53Later_Piwi08_UpDownFeatures.diff.tsv\n",
      "Number of ies with up and down features with >= 5 coverage: 37\n"
     ]
    }
   ],
   "source": [
    "f = 'D:\\\\LinuxShare\\\\Projects\\\\Theresa\\\\bedtools\\\\intersect\\\\Intersect_MacAndIES_53Later_Piwi08_UpDownFeatures.tsv'\n",
    "depthcutoff = 5\n",
    "import pygentoolbox.CompareEachIESToUpAndDownClonedFeature\n",
    "pygentoolbox.CompareEachIESToUpAndDownClonedFeature.compare_ies_to_features_up_and_down(f, 5)"
   ]
  },
  {
   "cell_type": "code",
   "execution_count": 3,
   "metadata": {},
   "outputs": [
    {
     "name": "stdout",
     "output_type": "stream",
     "text": [
      "2019-06-25 10:58:45.570104\n"
     ]
    }
   ],
   "source": [
    "import datetime\n",
    "print(datetime.datetime.now())"
   ]
  },
  {
   "cell_type": "code",
   "execution_count": null,
   "metadata": {},
   "outputs": [],
   "source": []
  }
 ],
 "metadata": {
  "kernelspec": {
   "display_name": "Python 3",
   "language": "python",
   "name": "python3"
  },
  "language_info": {
   "codemirror_mode": {
    "name": "ipython",
    "version": 3
   },
   "file_extension": ".py",
   "mimetype": "text/x-python",
   "name": "python",
   "nbconvert_exporter": "python",
   "pygments_lexer": "ipython3",
   "version": "3.7.3"
  }
 },
 "nbformat": 4,
 "nbformat_minor": 2
}
