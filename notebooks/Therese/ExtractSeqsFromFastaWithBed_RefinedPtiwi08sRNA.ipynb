{
 "cells": [
  {
   "cell_type": "code",
   "execution_count": 1,
   "metadata": {},
   "outputs": [
    {
     "name": "stdout",
     "output_type": "stream",
     "text": [
      "2021-06-28 12:04:23.310680\n"
     ]
    }
   ],
   "source": [
    "%load_ext autoreload\n",
    "%autoreload 2\n",
    "import datetime\n",
    "import os\n",
    "print(datetime.datetime.now())\n",
    "\n",
    "from pygentoolbox import ExtractSequencesFromFastaWithBed\n",
    "# from pygentoolbox.Tools import read_interleaved_fasta_as_noninterleaved\n",
    "# from pygentoolbox.Tools import make_circos_karyotype_file\n",
    "#dir(pygentoolbox.Tools)\n",
    "%matplotlib inline\n",
    "import matplotlib.pyplot as plt"
   ]
  },
  {
   "cell_type": "code",
   "execution_count": 2,
   "metadata": {},
   "outputs": [
    {
     "name": "stdout",
     "output_type": "stream",
     "text": [
      "Output file: /media/sf_LinuxShare/Projects/Theresa/Hisat2/FlagHA_Pt08/Pt_51_Mac/52_Late_Ptiwi08RIP.33RefinedsRNAClusters.w100.d500.Mac.fasta\n"
     ]
    }
   ],
   "source": [
    "fastafile = '/media/sf_LinuxShare/Ciliates/Genomes/Seqs/ptetraurelia_mac_51.fa'\n",
    "bedfile = '/media/sf_LinuxShare/Projects/Theresa/Hisat2/FlagHA_Pt08/Pt_51_Mac/RefinedPtiwi08sRNACoordinates.bed'\n",
    "outfile = '/media/sf_LinuxShare/Projects/Theresa/Hisat2/FlagHA_Pt08/Pt_51_Mac/52_Late_Ptiwi08RIP.33RefinedsRNAClusters.w100.d500.Mac.fasta'\n",
    "\n",
    "\n",
    "ExtractSequencesFromFastaWithBed.main(fastafile, bedfile, outfile)"
   ]
  },
  {
   "cell_type": "code",
   "execution_count": null,
   "metadata": {},
   "outputs": [],
   "source": []
  }
 ],
 "metadata": {
  "kernelspec": {
   "display_name": "Python 3",
   "language": "python",
   "name": "python3"
  },
  "language_info": {
   "codemirror_mode": {
    "name": "ipython",
    "version": 3
   },
   "file_extension": ".py",
   "mimetype": "text/x-python",
   "name": "python",
   "nbconvert_exporter": "python",
   "pygments_lexer": "ipython3",
   "version": "3.7.4"
  }
 },
 "nbformat": 4,
 "nbformat_minor": 4
}
