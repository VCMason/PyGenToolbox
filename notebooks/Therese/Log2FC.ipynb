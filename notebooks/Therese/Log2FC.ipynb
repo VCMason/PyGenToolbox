{
 "cells": [
  {
   "cell_type": "code",
   "execution_count": 1,
   "metadata": {},
   "outputs": [
    {
     "name": "stdout",
     "output_type": "stream",
     "text": [
      "2019-10-22 14:28:01.383681\n"
     ]
    }
   ],
   "source": [
    "%load_ext autoreload\n",
    "%autoreload 2\n",
    "import datetime\n",
    "print(datetime.datetime.now())\n",
    "\n",
    "import pygentoolbox.Tools\n",
    "#dir(pygentoolbox.Tools)\n",
    "import pandas as pd\n",
    "import itertools\n",
    "import os\n",
    "import math\n",
    "\n",
    "# TP2 = 0\n",
    "# TP10 = 1\n",
    "# TP16 = 2\n",
    "# TP25 = 3"
   ]
  },
  {
   "cell_type": "code",
   "execution_count": 28,
   "metadata": {},
   "outputs": [
    {
     "name": "stdout",
     "output_type": "stream",
     "text": [
      "['Scaffold' 'Eugene' 'Feature' 'Start' 'End' 'Dot1' 'Orientation' 'Dot2'\n",
      " 'ID' 'tpm_EV.Late' 'tpm_Ptiwi08KD']\n",
      "                    tpm_EV.Late  tpm_Ptiwi08KD\n",
      "ID                                            \n",
      "PTET.51.1.G0010001     0.000000       0.997844\n",
      "PTET.51.1.G0010002     0.000000       0.900771\n",
      "PTET.51.1.G0010003     0.775506       0.107615\n",
      "PTET.51.1.G0010004     0.000000       0.000000\n",
      "PTET.51.1.G0010005     0.000000       0.051532\n",
      "(41533, 2)\n",
      "(280, 2)\n",
      "[(0, 1)]\n",
      "0 1\n",
      "                    Log2FC_0VS1\n",
      "ID                             \n",
      "PTET.51.1.G0010107     1.264297\n",
      "PTET.51.1.G0010296     0.357406\n",
      "PTET.51.1.G0010421    -1.216830\n",
      "PTET.51.1.G0010500     0.874151\n",
      "PTET.51.1.G0010504     1.089402\n",
      "(280, 1)\n",
      "                    Log2FC_0VS1\n",
      "ID                             \n",
      "PTET.51.1.G0490162    -8.282384\n",
      "PTET.51.1.G0680113    -4.531048\n",
      "PTET.51.1.G0590231    -1.981097\n",
      "PTET.51.1.G0100299    -1.762995\n",
      "PTET.51.1.G0320080    -1.555882\n",
      "(280, 1)\n",
      "Output File: D:\\LinuxShare\\Projects\\Theresa\\Hisat2\\TotalsRNA\\Ptiwi08KD\\Pt_51_Mac\\Log2FC_sRNA_AllPairs_Cut10.tsv\n",
      "Output File: D:\\LinuxShare\\Projects\\Theresa\\Hisat2\\TotalsRNA\\Ptiwi08KD\\Pt_51_Mac\\Log2FC_sRNA_AllPairs_Cut10.sorted.tsv\n"
     ]
    }
   ],
   "source": [
    "f = 'D:\\\\LinuxShare\\\\Projects\\\\Theresa\\\\Hisat2\\\\TotalsRNA\\\\Ptiwi08KD\\\\Pt_51_Mac\\\\AllTPMcounts.tsv'\n",
    "cutoff = 10  # minimum read count\n",
    "# f = input('Path to count matrix file please:')\n",
    "#PATH: 'D:\\\\LinuxShare\\\\Projects\\\\Perwin\\\\RNA_SEQ\\\\Asexual_Maturation_Xy.txt'\n",
    "\n",
    "df = pd.read_csv(f, sep='\\t')\n",
    "print(df.columns.values)\n",
    "df = df[df['Feature'] == 'gene']  ##### IMPORTANT! FILTERING TO ONLY GENES! #####\n",
    "# print(df['ID'].apply(lambda x: x.split(';')[0][3:]))\n",
    "# df.index = df['Scaffold'] + '.' + df['Feature'] + '.' + df['Start'].map(str) + '.' + df['End'].map(str)  # df.index = list(df.iloc[:, 0]) # set first column as row indeces\n",
    "df.index = df['ID'].apply(lambda x: x.split(';')[0][3:])\n",
    "# df['ScaffoldPosition'] = df['Scaffold'] + '.' + df['Feature'] + '.' + df['Start'].map(str) + '.' + df['End'].map(str)  # df.index = list(df.iloc[:, 0]) # set first column as row indeces\n",
    "\n",
    "dftrim = df.loc[:, ['tpm_EV.Late', 'tpm_Ptiwi08KD']]  # 'ScaffoldPosition'\n",
    "print(dftrim.head())\n",
    "print(dftrim.shape)\n",
    "\n",
    "# remove 0 or negative numbers\n",
    "dftrim = dftrim[(dftrim >= cutoff).all(1)]  # all values in each row need to be > 0 to be kept\n",
    "# dftrim[(dftrim > 0).any(1)]  # if one value in each row is > 0 keep it\n",
    "print(dftrim.shape)\n",
    "\n",
    "# d = {df.columns.values[0] : list(dftrim.index)}\n",
    "dfout = pd.DataFrame(index=dftrim.index) # use indexes from dftrim as index for output\n",
    "combs = list(itertools.combinations(list(range(dftrim.shape[1])), 2))\n",
    "print(combs)\n",
    "for t in combs:\n",
    "    print(t[0], t[1])\n",
    "    fc = pygentoolbox.Tools.log2_fold_change(dftrim, t[0], t[1])  # pandas df\n",
    "    # div = dftrim.iloc[:, t[0]] / dftrim.iloc[:, t[1]]\n",
    "    # log2FCseries = div.apply(math.log2)\n",
    "    dfout['Log2FC_%dVS%d' % (t[0], t[1])] = fc\n",
    "\n",
    "print(dfout.head())\n",
    "print(dfout.shape)\n",
    "dfout_sort = dfout.sort_values(by=['Log2FC_0VS1'])\n",
    "print(dfout_sort.head())\n",
    "print(dfout_sort.shape)\n",
    "\n",
    "path, file = os.path.split(f)\n",
    "\n",
    "pygentoolbox.Tools.pandas_output_to_matrix(path, 'Log2FC_sRNA_AllPairs_Cut%d.tsv' % (cutoff), dfout, '\\t')\n",
    "pygentoolbox.Tools.pandas_output_to_matrix(path, 'Log2FC_sRNA_AllPairs_Cut%d.sorted.tsv' % (cutoff), dfout_sort, '\\t')"
   ]
  },
  {
   "cell_type": "code",
   "execution_count": null,
   "metadata": {},
   "outputs": [],
   "source": []
  }
 ],
 "metadata": {
  "kernelspec": {
   "display_name": "Python 3",
   "language": "python",
   "name": "python3"
  },
  "language_info": {
   "codemirror_mode": {
    "name": "ipython",
    "version": 3
   },
   "file_extension": ".py",
   "mimetype": "text/x-python",
   "name": "python",
   "nbconvert_exporter": "python",
   "pygments_lexer": "ipython3",
   "version": "3.7.3"
  }
 },
 "nbformat": 4,
 "nbformat_minor": 2
}
