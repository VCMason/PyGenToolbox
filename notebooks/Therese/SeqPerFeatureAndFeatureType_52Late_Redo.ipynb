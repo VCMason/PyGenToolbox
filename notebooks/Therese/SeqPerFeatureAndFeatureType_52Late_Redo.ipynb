{
 "cells": [
  {
   "cell_type": "code",
   "execution_count": 1,
   "metadata": {},
   "outputs": [
    {
     "name": "stdout",
     "output_type": "stream",
     "text": [
      "2020-10-27 16:55:28.441783\n"
     ]
    }
   ],
   "source": [
    "%load_ext autoreload\n",
    "%autoreload 2\n",
    "import datetime\n",
    "import os\n",
    "print(datetime.datetime.now())\n",
    "\n",
    "from pygentoolbox.SeqsPerFeatureAndFeatureTypeFixed import main\n",
    "#dir(pygentoolbox.Tools)\n",
    "%matplotlib inline\n",
    "import matplotlib.pyplot as plt"
   ]
  },
  {
   "cell_type": "code",
   "execution_count": 3,
   "metadata": {},
   "outputs": [
    {
     "name": "stdout",
     "output_type": "stream",
     "text": [
      "Reading Gff3 file: /media/sf_LinuxShare/Ciliates/Genomes/Annotations/ptetraurelia_mac_51_annotation_v2.0.gff3\n",
      "Number of scaffolds: 539\n",
      "Reading sam file: /media/sf_LinuxShare/Projects/Theresa/Hisat2/FlagHA_Pt08/Pt_51_Mac/52_Late.sort.sam\n",
      "Number of scaffolds (in header): 697\n",
      "Total number of lines in sam file (excluding header): 1724115\n",
      "Mapped reads, so calculating seqs per feature and feature type\n",
      "Counting reads for all feature and Count reads per feature type (ex: exon, gene, CDS, etc.)\n",
      "scaffold51_1, scaffold51_10, scaffold51_100, scaffold51_101, scaffold51_102, scaffold51_103, scaffold51_104, scaffold51_105, scaffold51_106, scaffold51_107, scaffold51_108, scaffold51_109, scaffold51_11, scaffold51_110, scaffold51_111, scaffold51_112, scaffold51_113, scaffold51_114, scaffold51_115, scaffold51_116, scaffold51_117, scaffold51_118, scaffold51_119, scaffold51_12, scaffold51_120, scaffold51_121, scaffold51_122, scaffold51_123, scaffold51_124, scaffold51_125, scaffold51_126, scaffold51_127, scaffold51_128, scaffold51_129, scaffold51_13, scaffold51_130, scaffold51_131, scaffold51_132, scaffold51_133, scaffold51_134, scaffold51_135, scaffold51_136, scaffold51_137, scaffold51_138, scaffold51_139, scaffold51_14, scaffold51_140, scaffold51_141, scaffold51_142, scaffold51_143, scaffold51_144, scaffold51_145, scaffold51_146, scaffold51_147, scaffold51_148, scaffold51_149, scaffold51_15, scaffold51_150, scaffold51_151, scaffold51_152, scaffold51_153, scaffold51_154, scaffold51_155, scaffold51_156, scaffold51_157, scaffold51_158, scaffold51_159, scaffold51_16, scaffold51_160, scaffold51_161, scaffold51_162, scaffold51_163, scaffold51_164, scaffold51_165, scaffold51_166, scaffold51_167, scaffold51_168, scaffold51_169, scaffold51_17, scaffold51_170, scaffold51_171, scaffold51_172, scaffold51_173, scaffold51_174, scaffold51_175, scaffold51_176, scaffold51_177, scaffold51_178, scaffold51_179, scaffold51_18, scaffold51_180, scaffold51_181, scaffold51_182, scaffold51_183, scaffold51_184, scaffold51_185, scaffold51_186, scaffold51_187, scaffold51_188, scaffold51_189, scaffold51_19, scaffold51_190, scaffold51_191, scaffold51_192, scaffold51_193, scaffold51_194, scaffold51_195, scaffold51_196, scaffold51_197, scaffold51_198, scaffold51_199, scaffold51_2, scaffold51_20, scaffold51_200, scaffold51_201, scaffold51_202, scaffold51_203, scaffold51_204, scaffold51_205, scaffold51_206, scaffold51_207, scaffold51_208, scaffold51_209, scaffold51_21, scaffold51_210, scaffold51_211, scaffold51_212, scaffold51_213, scaffold51_214, scaffold51_215, scaffold51_216, scaffold51_217, scaffold51_218, scaffold51_219, scaffold51_22, scaffold51_220, scaffold51_221, scaffold51_222, scaffold51_223, scaffold51_224, scaffold51_225, scaffold51_226, scaffold51_227, scaffold51_228, scaffold51_229, scaffold51_23, scaffold51_230, scaffold51_231, scaffold51_232, scaffold51_233, scaffold51_234, scaffold51_235, scaffold51_236, scaffold51_237, scaffold51_238, scaffold51_239, scaffold51_24, scaffold51_240, scaffold51_241, scaffold51_242, scaffold51_243, scaffold51_244, scaffold51_245, scaffold51_246, scaffold51_248, scaffold51_249, scaffold51_25, scaffold51_250, scaffold51_251, scaffold51_252, scaffold51_253, scaffold51_254, scaffold51_255, scaffold51_256, scaffold51_257, scaffold51_258, scaffold51_259, scaffold51_26, scaffold51_261, scaffold51_262, scaffold51_263, scaffold51_264, scaffold51_265, scaffold51_266, scaffold51_267, scaffold51_268, scaffold51_269, scaffold51_27, scaffold51_270, scaffold51_271, scaffold51_272, scaffold51_273, scaffold51_274, scaffold51_275, scaffold51_276, scaffold51_278, scaffold51_279, scaffold51_28, scaffold51_280, scaffold51_281, scaffold51_282, scaffold51_283, scaffold51_284, scaffold51_285, scaffold51_286, scaffold51_287, scaffold51_288, scaffold51_289, scaffold51_29, scaffold51_290, scaffold51_291, scaffold51_293, scaffold51_294, scaffold51_295, scaffold51_296, scaffold51_297, scaffold51_298, scaffold51_299, scaffold51_3, scaffold51_30, scaffold51_300, scaffold51_301, scaffold51_302, scaffold51_303, scaffold51_304, scaffold51_305, scaffold51_306, scaffold51_307, scaffold51_308, scaffold51_309, scaffold51_31, scaffold51_310, scaffold51_311, scaffold51_312, scaffold51_313, scaffold51_314, scaffold51_315, scaffold51_316, scaffold51_317, scaffold51_318, scaffold51_319, scaffold51_32, scaffold51_320, scaffold51_321, scaffold51_322, scaffold51_323, scaffold51_325, scaffold51_326, scaffold51_327, scaffold51_328, scaffold51_329, scaffold51_33, scaffold51_331, scaffold51_332, scaffold51_333, scaffold51_334, scaffold51_335, scaffold51_336, scaffold51_337, scaffold51_338, scaffold51_339, scaffold51_34, scaffold51_340, scaffold51_341, scaffold51_342, scaffold51_343, scaffold51_344, scaffold51_345, scaffold51_347, scaffold51_348, scaffold51_349, "
     ]
    },
    {
     "ename": "KeyboardInterrupt",
     "evalue": "",
     "output_type": "error",
     "traceback": [
      "\u001b[0;31m---------------------------------------------------------------------------\u001b[0m",
      "\u001b[0;31mKeyboardInterrupt\u001b[0m                         Traceback (most recent call last)",
      "\u001b[0;32m<ipython-input-3-ee07e1ea4b96>\u001b[0m in \u001b[0;36m<module>\u001b[0;34m\u001b[0m\n\u001b[1;32m      4\u001b[0m \u001b[0;31m# count number of reads per feature type (exon, mRNA, 5' UTR, etc.) and sort so counts are decreasing\u001b[0m\u001b[0;34m\u001b[0m\u001b[0;34m\u001b[0m\u001b[0;34m\u001b[0m\u001b[0m\n\u001b[1;32m      5\u001b[0m \u001b[0;34m\u001b[0m\u001b[0m\n\u001b[0;32m----> 6\u001b[0;31m \u001b[0mmain\u001b[0m\u001b[0;34m(\u001b[0m\u001b[0mGff3file\u001b[0m\u001b[0;34m,\u001b[0m \u001b[0msamfilelist\u001b[0m\u001b[0;34m)\u001b[0m\u001b[0;34m\u001b[0m\u001b[0;34m\u001b[0m\u001b[0m\n\u001b[0m",
      "\u001b[0;32m~/anaconda3/lib/python3.7/site-packages/pygentoolbox/SeqsPerFeatureAndFeatureTypeFixed.py\u001b[0m in \u001b[0;36mmain\u001b[0;34m(GFF3file, samfiles)\u001b[0m\n\u001b[1;32m    156\u001b[0m             \u001b[0mprint\u001b[0m\u001b[0;34m(\u001b[0m\u001b[0;34m'Mapped reads, so calculating seqs per feature and feature type'\u001b[0m\u001b[0;34m)\u001b[0m\u001b[0;34m\u001b[0m\u001b[0;34m\u001b[0m\u001b[0m\n\u001b[1;32m    157\u001b[0m             \u001b[0mdmax\u001b[0m \u001b[0;34m=\u001b[0m \u001b[0;34m{\u001b[0m\u001b[0;34m**\u001b[0m\u001b[0mdsRNAhead\u001b[0m\u001b[0;34m,\u001b[0m \u001b[0;34m**\u001b[0m\u001b[0mdgff3\u001b[0m\u001b[0;34m}\u001b[0m  \u001b[0;31m# update dsRNAhead with values from dTEhead  # changed to dgff3\u001b[0m\u001b[0;34m\u001b[0m\u001b[0;34m\u001b[0m\u001b[0m\n\u001b[0;32m--> 158\u001b[0;31m             \u001b[0mdallfeatures\u001b[0m\u001b[0;34m,\u001b[0m \u001b[0mdfeaturetypes\u001b[0m\u001b[0;34m,\u001b[0m \u001b[0mallnames\u001b[0m\u001b[0;34m,\u001b[0m \u001b[0moverlaptypes\u001b[0m \u001b[0;34m=\u001b[0m \u001b[0mcount_reads_per_feature\u001b[0m\u001b[0;34m(\u001b[0m\u001b[0mdgff3\u001b[0m\u001b[0;34m,\u001b[0m \u001b[0mdsRNA\u001b[0m\u001b[0;34m)\u001b[0m\u001b[0;34m\u001b[0m\u001b[0;34m\u001b[0m\u001b[0m\n\u001b[0m\u001b[1;32m    159\u001b[0m             \u001b[0mpath\u001b[0m\u001b[0;34m,\u001b[0m \u001b[0mfile\u001b[0m \u001b[0;34m=\u001b[0m \u001b[0mos\u001b[0m\u001b[0;34m.\u001b[0m\u001b[0mpath\u001b[0m\u001b[0;34m.\u001b[0m\u001b[0msplit\u001b[0m\u001b[0;34m(\u001b[0m\u001b[0msam\u001b[0m\u001b[0;34m)\u001b[0m\u001b[0;34m\u001b[0m\u001b[0;34m\u001b[0m\u001b[0m\n\u001b[1;32m    160\u001b[0m \u001b[0;34m\u001b[0m\u001b[0m\n",
      "\u001b[0;32m~/anaconda3/lib/python3.7/site-packages/pygentoolbox/SeqsPerFeatureAndFeatureTypeFixed.py\u001b[0m in \u001b[0;36mcount_reads_per_feature\u001b[0;34m(dgff3, dsam)\u001b[0m\n\u001b[1;32m     34\u001b[0m                 \u001b[0;32mfor\u001b[0m \u001b[0maligned_seq\u001b[0m \u001b[0;32min\u001b[0m \u001b[0mdsam\u001b[0m\u001b[0;34m[\u001b[0m\u001b[0mscaffold\u001b[0m\u001b[0;34m]\u001b[0m\u001b[0;34m:\u001b[0m\u001b[0;34m\u001b[0m\u001b[0;34m\u001b[0m\u001b[0m\n\u001b[1;32m     35\u001b[0m                     \u001b[0mncRNAtype\u001b[0m \u001b[0;34m=\u001b[0m \u001b[0;34m''\u001b[0m  \u001b[0;31m# will be equal to tRNA, rRNA, or snoRNA if present in ncRNA line\u001b[0m\u001b[0;34m\u001b[0m\u001b[0;34m\u001b[0m\u001b[0m\n\u001b[0;32m---> 36\u001b[0;31m                     \u001b[0mstart_sam\u001b[0m \u001b[0;34m=\u001b[0m \u001b[0mint\u001b[0m\u001b[0;34m(\u001b[0m\u001b[0maligned_seq\u001b[0m\u001b[0;34m[\u001b[0m\u001b[0;36m3\u001b[0m\u001b[0;34m]\u001b[0m\u001b[0;34m)\u001b[0m\u001b[0;34m\u001b[0m\u001b[0;34m\u001b[0m\u001b[0m\n\u001b[0m\u001b[1;32m     37\u001b[0m                     \u001b[0mend_sam\u001b[0m \u001b[0;34m=\u001b[0m \u001b[0mint\u001b[0m\u001b[0;34m(\u001b[0m\u001b[0maligned_seq\u001b[0m\u001b[0;34m[\u001b[0m\u001b[0;36m3\u001b[0m\u001b[0;34m]\u001b[0m\u001b[0;34m)\u001b[0m \u001b[0;34m+\u001b[0m \u001b[0mlen\u001b[0m\u001b[0;34m(\u001b[0m\u001b[0maligned_seq\u001b[0m\u001b[0;34m[\u001b[0m\u001b[0;36m9\u001b[0m\u001b[0;34m]\u001b[0m\u001b[0;34m)\u001b[0m\u001b[0;34m\u001b[0m\u001b[0;34m\u001b[0m\u001b[0m\n\u001b[1;32m     38\u001b[0m                     \u001b[0;31m# if we assume that  ranges are well-formed (so that x1 <= x2 and y1 <= y2) then\u001b[0m\u001b[0;34m\u001b[0m\u001b[0;34m\u001b[0m\u001b[0;34m\u001b[0m\u001b[0m\n",
      "\u001b[0;31mKeyboardInterrupt\u001b[0m: "
     ]
    }
   ],
   "source": [
    "Gff3file = '/media/sf_LinuxShare/Ciliates/Genomes/Annotations/ptetraurelia_mac_51_annotation_v2.0.gff3'\n",
    "samfilelist = ['/media/sf_LinuxShare/Projects/Theresa/Hisat2/FlagHA_Pt08/Pt_51_Mac/52_Late.sort.sam']\n",
    "# count number of reads per feature\n",
    "# count number of reads per feature type (exon, mRNA, 5' UTR, etc.) and sort so counts are decreasing\n",
    "\n",
    "main(Gff3file, samfilelist)"
   ]
  },
  {
   "cell_type": "code",
   "execution_count": null,
   "metadata": {},
   "outputs": [],
   "source": []
  }
 ],
 "metadata": {
  "kernelspec": {
   "display_name": "Python 3",
   "language": "python",
   "name": "python3"
  },
  "language_info": {
   "codemirror_mode": {
    "name": "ipython",
    "version": 3
   },
   "file_extension": ".py",
   "mimetype": "text/x-python",
   "name": "python",
   "nbconvert_exporter": "python",
   "pygments_lexer": "ipython3",
   "version": "3.7.4"
  }
 },
 "nbformat": 4,
 "nbformat_minor": 4
}
