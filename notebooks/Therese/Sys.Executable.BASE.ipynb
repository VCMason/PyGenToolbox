{
 "cells": [
  {
   "cell_type": "code",
   "execution_count": 3,
   "metadata": {},
   "outputs": [
    {
     "name": "stdout",
     "output_type": "stream",
     "text": [
      "The autoreload extension is already loaded. To reload it, use:\n",
      "  %reload_ext autoreload\n",
      "2019-08-05 15:47:21.025724\n"
     ]
    }
   ],
   "source": [
    "%load_ext autoreload\n",
    "%autoreload 2\n",
    "import datetime\n",
    "import os\n",
    "import sys\n",
    "print(datetime.datetime.now())\n",
    "\n",
    "from pygentoolbox.CorrelatePositionsFromSamFiles import main\n",
    "#dir(pygentoolbox.Tools)\n",
    "%matplotlib inline\n",
    "import matplotlib.pyplot as plt"
   ]
  },
  {
   "cell_type": "code",
   "execution_count": 5,
   "metadata": {},
   "outputs": [
    {
     "data": {
      "text/plain": [
       "'C:\\\\Users\\\\victo\\\\Anaconda3\\\\envs\\\\PyGenToolbox\\\\python.exe'"
      ]
     },
     "execution_count": 5,
     "metadata": {},
     "output_type": "execute_result"
    }
   ],
   "source": [
    "sys.executable"
   ]
  },
  {
   "cell_type": "code",
   "execution_count": 6,
   "metadata": {},
   "outputs": [
    {
     "data": {
      "text/plain": [
       "['D:\\\\LinuxShare\\\\PyPacks\\\\PyGenToolbox\\\\notebooks\\\\Theresa',\n",
       " 'C:\\\\Users\\\\victo\\\\Anaconda3\\\\envs\\\\PyGenToolbox\\\\python37.zip',\n",
       " 'C:\\\\Users\\\\victo\\\\Anaconda3\\\\envs\\\\PyGenToolbox\\\\DLLs',\n",
       " 'C:\\\\Users\\\\victo\\\\Anaconda3\\\\envs\\\\PyGenToolbox\\\\lib',\n",
       " 'C:\\\\Users\\\\victo\\\\Anaconda3\\\\envs\\\\PyGenToolbox',\n",
       " '',\n",
       " 'C:\\\\Users\\\\victo\\\\Anaconda3\\\\envs\\\\PyGenToolbox\\\\lib\\\\site-packages',\n",
       " 'd:\\\\linuxshare\\\\pypacks\\\\pygentoolbox\\\\src',\n",
       " 'C:\\\\Users\\\\victo\\\\Anaconda3\\\\envs\\\\PyGenToolbox\\\\lib\\\\site-packages\\\\IPython\\\\extensions',\n",
       " 'C:\\\\Users\\\\victo\\\\.ipython']"
      ]
     },
     "execution_count": 6,
     "metadata": {},
     "output_type": "execute_result"
    }
   ],
   "source": [
    "sys.path"
   ]
  },
  {
   "cell_type": "code",
   "execution_count": null,
   "metadata": {},
   "outputs": [],
   "source": []
  }
 ],
 "metadata": {
  "kernelspec": {
   "display_name": "Python 3",
   "language": "python",
   "name": "python3"
  },
  "language_info": {
   "codemirror_mode": {
    "name": "ipython",
    "version": 3
   },
   "file_extension": ".py",
   "mimetype": "text/x-python",
   "name": "python",
   "nbconvert_exporter": "python",
   "pygments_lexer": "ipython3",
   "version": "3.7.3"
  }
 },
 "nbformat": 4,
 "nbformat_minor": 2
}
