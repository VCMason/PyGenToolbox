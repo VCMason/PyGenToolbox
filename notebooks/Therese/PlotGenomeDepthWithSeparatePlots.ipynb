{
 "cells": [
  {
   "cell_type": "code",
   "execution_count": 13,
   "metadata": {},
   "outputs": [
    {
     "name": "stdout",
     "output_type": "stream",
     "text": [
      "The autoreload extension is already loaded. To reload it, use:\n",
      "  %reload_ext autoreload\n",
      "2019-06-27 15:24:25.353580\n"
     ]
    }
   ],
   "source": [
    "%load_ext autoreload\n",
    "%autoreload 2\n",
    "import datetime\n",
    "print(datetime.datetime.now())\n",
    "\n",
    "import pygentoolbox.Tools\n",
    "import pygentoolbox.PlotGenomeDepth\n",
    "#dir(pygentoolbox.Tools)"
   ]
  },
  {
   "cell_type": "code",
   "execution_count": 14,
   "metadata": {},
   "outputs": [
    {
     "name": "stdout",
     "output_type": "stream",
     "text": [
      "Reading in Bedfile\n",
      "Formatting Data Separate and Plotting\n",
      "Finished\n"
     ]
    }
   ],
   "source": [
    "bedfile = 'D:\\\\LinuxShare\\\\Projects\\\\Theresa\\\\bedtools\\\\genomecov\\\\52_Late.genomecov.tsv'\n",
    "outpath = 'D:\\\\LinuxShare\\\\Projects\\\\Theresa\\\\bedtools\\\\genomecov\\\\Separate\\\\52_Late.genomecov.png'\n",
    "cutoff = 100\n",
    "pygentoolbox.PlotGenomeDepth.main(bedfile, outpath, cutoff, True)"
   ]
  },
  {
   "cell_type": "code",
   "execution_count": 15,
   "metadata": {},
   "outputs": [
    {
     "name": "stdout",
     "output_type": "stream",
     "text": [
      "Reading in Bedfile\n",
      "Formatting Data Separate and Plotting\n",
      "Finished\n"
     ]
    }
   ],
   "source": [
    "bedfile = 'D:\\\\LinuxShare\\\\Projects\\\\Theresa\\\\bedtools\\\\genomecov\\\\53_Later.genomecov.tsv'\n",
    "outpath = 'D:\\\\LinuxShare\\\\Projects\\\\Theresa\\\\bedtools\\\\genomecov\\\\Separate\\\\53_Later.genomecov.png'\n",
    "cutoff = 100\n",
    "pygentoolbox.PlotGenomeDepth.main(bedfile, outpath, cutoff, True)"
   ]
  },
  {
   "cell_type": "code",
   "execution_count": null,
   "metadata": {},
   "outputs": [],
   "source": []
  }
 ],
 "metadata": {
  "kernelspec": {
   "display_name": "Python 3",
   "language": "python",
   "name": "python3"
  },
  "language_info": {
   "codemirror_mode": {
    "name": "ipython",
    "version": 3
   },
   "file_extension": ".py",
   "mimetype": "text/x-python",
   "name": "python",
   "nbconvert_exporter": "python",
   "pygments_lexer": "ipython3",
   "version": "3.7.3"
  }
 },
 "nbformat": 4,
 "nbformat_minor": 2
}
