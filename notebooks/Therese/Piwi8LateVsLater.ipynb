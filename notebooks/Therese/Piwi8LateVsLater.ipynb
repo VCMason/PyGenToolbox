{
 "cells": [
  {
   "cell_type": "code",
   "execution_count": 131,
   "metadata": {},
   "outputs": [
    {
     "name": "stdout",
     "output_type": "stream",
     "text": [
      "The autoreload extension is already loaded. To reload it, use:\n",
      "  %reload_ext autoreload\n"
     ]
    }
   ],
   "source": [
    "%load_ext autoreload\n",
    "%autoreload 2"
   ]
  },
  {
   "cell_type": "code",
   "execution_count": 132,
   "metadata": {},
   "outputs": [],
   "source": [
    "import pygentoolbox.Tools\n",
    "import pandas as pd\n",
    "import os\n",
    "#dir(pygentoolbox.Tools)"
   ]
  },
  {
   "cell_type": "code",
   "execution_count": 133,
   "metadata": {},
   "outputs": [
    {
     "name": "stdout",
     "output_type": "stream",
     "text": [
      "2019-06-19 12:07:51.992010\n"
     ]
    }
   ],
   "source": [
    "import datetime\n",
    "print(datetime.datetime.now())"
   ]
  },
  {
   "cell_type": "code",
   "execution_count": 140,
   "metadata": {},
   "outputs": [
    {
     "name": "stdout",
     "output_type": "stream",
     "text": [
      "<class 'pandas.core.frame.DataFrame'>\n",
      "<class 'pandas.core.frame.DataFrame'>\n",
      "(147, 10)\n",
      "(147, 10)\n",
      "Output File: D:\\LinuxShare\\Projects\\Theresa\\bedtools\\Intersect_MacAndIES_52Late_Piwi08.greater0.inter\n",
      "Output File: D:\\LinuxShare\\Projects\\Theresa\\bedtools\\Intersect_MacAndIES_53Later_Piwi08.greater0.inter\n"
     ]
    }
   ],
   "source": [
    "cutoff = 0  # designate desired count cutoff, counts are number of reads mapped to a feature # keep counts greater than this value\n",
    "verbose = False\n",
    "f1 = 'D:\\\\LinuxShare\\\\Projects\\\\Theresa\\\\bedtools\\\\Intersect_MacAndIES_52Late_Piwi08'\n",
    "f2 = 'D:\\\\LinuxShare\\\\Projects\\\\Theresa\\\\bedtools\\\\Intersect_MacAndIES_53Later_Piwi08'\n",
    "\n",
    "df1 = pd.read_csv(f1, sep='\\t', header=None) # index_col=0\n",
    "df2 = pd.read_csv(f2, sep='\\t', header=None) # index_col=0\n",
    "\n",
    "df1 = df1.set_index(df1.iloc[:, 0] + '.' + df1.iloc[:, 3].map(str) + '.' + df1.iloc[:, 4].map(str)) # make unique indices\n",
    "df2 = df2.set_index(df2.iloc[:, 0] + '.' + df2.iloc[:, 3].map(str) + '.' + df2.iloc[:, 4].map(str))\n",
    "\n",
    "df1trim = df1[df1.iloc[:, 9] > cutoff]  # pygentoolbox.Tools.keep_rows_df_greater_than(df1, 0, 9)  # dataframe, cutoff value, column index to filter\n",
    "df2trim = df2[df2.iloc[:, 9] > cutoff]  # pygentoolbox.Tools.keep_rows_df_greater_than(df2, 0, 9)  # dataframe, cutoff value, column index to filter\n",
    "#print(df1trim.iloc[1,:])\n",
    "#print(df1trim.head())\n",
    "#print(df2trim.iloc[1,:])\n",
    "\n",
    "dfinter1, dfinter2 = pygentoolbox.Tools.intersect_dfs_by_common_indices(df1trim, df2trim)  # intersection of two dfs indices\n",
    "\n",
    "print(type(dfinter1))\n",
    "print(type(dfinter2))\n",
    "print(dfinter1.shape)\n",
    "print(dfinter2.shape)\n",
    "\n",
    "f= f1 + '.greater%d.inter' % (cutoff)\n",
    "print('Output File: %s' % (f))\n",
    "dfinter1.to_csv(f, sep='\\t', index=False, header=None)\n",
    "\n",
    "f = f2 + '.greater%d.inter' % (cutoff)\n",
    "print('Output File: %s' % (f))\n",
    "dfinter2.to_csv(f, sep='\\t', index=False, header=None)\n"
   ]
  },
  {
   "cell_type": "code",
   "execution_count": 141,
   "metadata": {},
   "outputs": [
    {
     "name": "stdout",
     "output_type": "stream",
     "text": [
      "                                                             0     1  \\\n",
      "scaffold51_100_with_IES.143972.144106  scaffold51_100_with_IES  MICA   \n",
      "scaffold51_102_with_IES.153433.153941  scaffold51_102_with_IES  MICA   \n",
      "scaffold51_102_with_IES.330974.332147  scaffold51_102_with_IES  MICA   \n",
      "scaffold51_103_with_IES.150661.150734  scaffold51_103_with_IES  MICA   \n",
      "scaffold51_103_with_IES.233118.233236  scaffold51_103_with_IES  MICA   \n",
      "\n",
      "                                                                  2       3  \\\n",
      "scaffold51_100_with_IES.143972.144106  internal_eliminated_sequence  143972   \n",
      "scaffold51_102_with_IES.153433.153941  internal_eliminated_sequence  153433   \n",
      "scaffold51_102_with_IES.330974.332147  internal_eliminated_sequence  330974   \n",
      "scaffold51_103_with_IES.150661.150734  internal_eliminated_sequence  150661   \n",
      "scaffold51_103_with_IES.233118.233236  internal_eliminated_sequence  233118   \n",
      "\n",
      "                                            4  5  6  7  \\\n",
      "scaffold51_100_with_IES.143972.144106  144106  .  .  .   \n",
      "scaffold51_102_with_IES.153433.153941  153941  .  .  .   \n",
      "scaffold51_102_with_IES.330974.332147  332147  .  .  .   \n",
      "scaffold51_103_with_IES.150661.150734  150734  .  .  .   \n",
      "scaffold51_103_with_IES.233118.233236  233236  .  .  .   \n",
      "\n",
      "                                                                                       8  \\\n",
      "scaffold51_100_with_IES.143972.144106  ID=IESPGM.PTET51.1.100.138299;Name=IESPGM.PTET...   \n",
      "scaffold51_102_with_IES.153433.153941  ID=IESPGM.PTET51.1.102.147347;Name=IESPGM.PTET...   \n",
      "scaffold51_102_with_IES.330974.332147  ID=IESPGM.PTET51.1.102.310630;Name=IESPGM.PTET...   \n",
      "scaffold51_103_with_IES.150661.150734  ID=IESPGM.PTET51.1.103.140847;Name=IESPGM.PTET...   \n",
      "scaffold51_103_with_IES.233118.233236  ID=IESPGM.PTET51.1.103.216897;Name=IESPGM.PTET...   \n",
      "\n",
      "                                        9   9  \n",
      "scaffold51_100_with_IES.143972.144106   2   1  \n",
      "scaffold51_102_with_IES.153433.153941   2   6  \n",
      "scaffold51_102_with_IES.330974.332147  21  42  \n",
      "scaffold51_103_with_IES.150661.150734   2   2  \n",
      "scaffold51_103_with_IES.233118.233236   1   1  \n",
      "(147, 11)\n",
      "Output File: D:\\LinuxShare\\Projects\\Theresa\\bedtools\\Counts_greaterthan0_inter_52LateVs53Later.tsv\n"
     ]
    }
   ],
   "source": [
    "newdf = pd.concat([dfinter1, dfinter2.iloc[:,9]], axis=1)\n",
    "print(newdf.head())\n",
    "print(newdf.shape)\n",
    "\n",
    "p, filename = os.path.split(f1)  # get the folder path\n",
    "f = os.path.join(p,'Counts_greaterthan%d_inter_52LateVs53Later.tsv' % (cutoff))  # make full path with filename\n",
    "print('Output File: %s' % (f))\n",
    "newdf.to_csv(f, sep='\\t', index=False, header=None)"
   ]
  },
  {
   "cell_type": "code",
   "execution_count": 142,
   "metadata": {},
   "outputs": [
    {
     "name": "stdout",
     "output_type": "stream",
     "text": [
      "(147, 2)\n",
      "                                        9   9\n",
      "scaffold51_100_with_IES.143972.144106   2   1\n",
      "scaffold51_102_with_IES.153433.153941   2   6\n",
      "scaffold51_102_with_IES.330974.332147  21  42\n",
      "scaffold51_103_with_IES.150661.150734   2   2\n",
      "scaffold51_103_with_IES.233118.233236   1   1\n",
      "scaffold51_103_with_IES.300906.300991   3   1\n",
      "scaffold51_105_with_IES.251749.252012   2   1\n",
      "scaffold51_105_with_IES.256049.258531   2   4\n",
      "scaffold51_107_with_IES.49046.49124     1   1\n",
      "scaffold51_107_with_IES.218403.218428   1   1\n",
      "(147, 2)\n",
      "                                          9     9\n",
      "scaffold51_100_with_IES.143972.144106   2.0   1.0\n",
      "scaffold51_102_with_IES.153433.153941   2.0   6.0\n",
      "scaffold51_102_with_IES.330974.332147  21.0  42.0\n",
      "scaffold51_103_with_IES.150661.150734   2.0   2.0\n",
      "scaffold51_103_with_IES.233118.233236   1.0   1.0\n",
      "scaffold51_103_with_IES.300906.300991   3.0   1.0\n",
      "scaffold51_105_with_IES.251749.252012   2.0   1.0\n",
      "scaffold51_105_with_IES.256049.258531   2.0   4.0\n",
      "scaffold51_107_with_IES.49046.49124     1.0   1.0\n",
      "scaffold51_107_with_IES.218403.218428   1.0   1.0\n",
      "Output File: D:\\LinuxShare\\Projects\\Theresa\\bedtools\\Counts_MedianOfRatiosNormalized_greaterthan0_inter_52LateVs53Later.tsv\n"
     ]
    }
   ],
   "source": [
    "matdf = pd.concat([dfinter1.iloc[:,9], dfinter2.iloc[:,9]], axis=1)\n",
    "print(matdf.shape)\n",
    "print(matdf.head(10))\n",
    "\n",
    "dfnorm = pygentoolbox.Tools.median_of_ratios(matdf, verbose)\n",
    "print(dfnorm.shape)\n",
    "print(dfnorm.head(10))\n",
    "\n",
    "p, filename = os.path.split(f1)  # get the folder path\n",
    "f = os.path.join(p, 'Counts_MedianOfRatiosNormalized_greaterthan%d_inter_52LateVs53Later.tsv' % (cutoff))  # make full path with filename\n",
    "print('Output File: %s' % (f))\n",
    "dfnorm.to_csv(f, sep='\\t', index=True, header=None)"
   ]
  },
  {
   "cell_type": "code",
   "execution_count": 1,
   "metadata": {},
   "outputs": [],
   "source": [
    "#####  This output reports the same IES that have counts over threshold in late and later #####"
   ]
  },
  {
   "cell_type": "code",
   "execution_count": null,
   "metadata": {},
   "outputs": [],
   "source": []
  }
 ],
 "metadata": {
  "kernelspec": {
   "display_name": "Python 3",
   "language": "python",
   "name": "python3"
  },
  "language_info": {
   "codemirror_mode": {
    "name": "ipython",
    "version": 3
   },
   "file_extension": ".py",
   "mimetype": "text/x-python",
   "name": "python",
   "nbconvert_exporter": "python",
   "pygments_lexer": "ipython3",
   "version": "3.7.3"
  }
 },
 "nbformat": 4,
 "nbformat_minor": 2
}
