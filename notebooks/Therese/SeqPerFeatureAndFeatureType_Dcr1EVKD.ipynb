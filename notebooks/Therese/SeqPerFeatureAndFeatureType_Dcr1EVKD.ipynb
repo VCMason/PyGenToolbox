{
 "cells": [
  {
   "cell_type": "code",
   "execution_count": 13,
   "metadata": {},
   "outputs": [
    {
     "name": "stdout",
     "output_type": "stream",
     "text": [
      "The autoreload extension is already loaded. To reload it, use:\n",
      "  %reload_ext autoreload\n",
      "2021-09-08 11:35:35.554285\n"
     ]
    }
   ],
   "source": [
    "%load_ext autoreload\n",
    "%autoreload 2\n",
    "import datetime\n",
    "import os\n",
    "print(datetime.datetime.now())\n",
    "\n",
    "from pygentoolbox.SeqsPerFeatureAndFeatureTypeFixed import main\n",
    "#dir(pygentoolbox.Tools)\n",
    "%matplotlib inline\n",
    "import matplotlib.pyplot as plt"
   ]
  },
  {
   "cell_type": "code",
   "execution_count": 14,
   "metadata": {},
   "outputs": [
    {
     "name": "stdout",
     "output_type": "stream",
     "text": [
      "Reading Gff3 file: /media/sf_LinuxShare/Ciliates/Genomes/Annotations/ptetraurelia_mac_51_v2.0_Ptiwi08Clusters.gff3\n",
      "Number of scaffolds: 32\n",
      "Reading sam file: /media/sf_LinuxShare/Projects/Theresa/Hisat2/Dcr1_KD/Pt_51_Mac/EV/fastp/hisat2/ADPF107_23bp_NoL4440.trim.Pt_51_Mac.NoDcr1.sort.sam\n",
      "Number of scaffolds (in header): 0\n",
      "Total number of lines in sam file (excluding header): 990243\n",
      "Mapped reads, so calculating seqs per feature and feature type\n",
      "Counting reads for all feature and Count reads per feature type (ex: exon, gene, CDS, etc.)\n",
      "scaffold51_8, scaffold51_13, scaffold51_17, scaffold51_20, scaffold51_22, scaffold51_29, scaffold51_33, scaffold51_35, scaffold51_36, scaffold51_38, scaffold51_40, scaffold51_47, scaffold51_51, scaffold51_57, scaffold51_61, scaffold51_62, scaffold51_63, scaffold51_69, scaffold51_74, scaffold51_85, scaffold51_86, scaffold51_88, scaffold51_93, scaffold51_95, scaffold51_102, scaffold51_104, scaffold51_120, scaffold51_134, scaffold51_143, scaffold51_156, scaffold51_157, scaffold51_161, Writing out file: /media/sf_LinuxShare/Projects/Theresa/Hisat2/Dcr1_KD/Pt_51_Mac/EV/fastp/hisat2/ADPF107_23bp_NoL4440.trim.Pt_51_Mac.NoDcr1.sort.allfeatures.fixed.tsv\n",
      "Writing out file: /media/sf_LinuxShare/Projects/Theresa/Hisat2/Dcr1_KD/Pt_51_Mac/EV/fastp/hisat2/ADPF107_23bp_NoL4440.trim.Pt_51_Mac.NoDcr1.sort.allfeatures.sorted.fixed.tsv\n",
      "Writing out file: /media/sf_LinuxShare/Projects/Theresa/Hisat2/Dcr1_KD/Pt_51_Mac/EV/fastp/hisat2/ADPF107_23bp_NoL4440.trim.Pt_51_Mac.NoDcr1.sort.featuretypes.fixed.tsv\n",
      "Reading sam file: /media/sf_LinuxShare/Projects/Theresa/Hisat2/Dcr1_KD/Pt_51_Mac/KD/fastp/hisat2/ADPF111_23bp_NoL4440.trim.Pt_51_Mac.NoDcr1.sort.sam\n",
      "Number of scaffolds (in header): 0\n",
      "Total number of lines in sam file (excluding header): 202742\n",
      "Mapped reads, so calculating seqs per feature and feature type\n",
      "Counting reads for all feature and Count reads per feature type (ex: exon, gene, CDS, etc.)\n",
      "scaffold51_8, scaffold51_13, scaffold51_17, scaffold51_20, scaffold51_22, scaffold51_29, scaffold51_33, scaffold51_35, scaffold51_36, scaffold51_38, scaffold51_40, scaffold51_47, scaffold51_51, scaffold51_57, scaffold51_61, scaffold51_62, scaffold51_63, scaffold51_69, scaffold51_74, scaffold51_85, scaffold51_86, scaffold51_88, scaffold51_93, scaffold51_95, scaffold51_102, scaffold51_104, scaffold51_120, scaffold51_134, scaffold51_143, scaffold51_156, scaffold51_157, scaffold51_161, Writing out file: /media/sf_LinuxShare/Projects/Theresa/Hisat2/Dcr1_KD/Pt_51_Mac/KD/fastp/hisat2/ADPF111_23bp_NoL4440.trim.Pt_51_Mac.NoDcr1.sort.allfeatures.fixed.tsv\n",
      "Writing out file: /media/sf_LinuxShare/Projects/Theresa/Hisat2/Dcr1_KD/Pt_51_Mac/KD/fastp/hisat2/ADPF111_23bp_NoL4440.trim.Pt_51_Mac.NoDcr1.sort.allfeatures.sorted.fixed.tsv\n",
      "Writing out file: /media/sf_LinuxShare/Projects/Theresa/Hisat2/Dcr1_KD/Pt_51_Mac/KD/fastp/hisat2/ADPF111_23bp_NoL4440.trim.Pt_51_Mac.NoDcr1.sort.featuretypes.fixed.tsv\n",
      "Reading sam file: /media/sf_LinuxShare/Projects/Theresa/Hisat2/FlagHA_Pt08/Pt_51_Mac/52_Late_Ptiwi08_sRNA_34clusters.sort.sam\n",
      "Number of scaffolds (in header): 697\n",
      "Total number of lines in sam file (excluding header): 1562200\n",
      "Mapped reads, so calculating seqs per feature and feature type\n",
      "Counting reads for all feature and Count reads per feature type (ex: exon, gene, CDS, etc.)\n",
      "scaffold51_8, scaffold51_13, scaffold51_17, scaffold51_20, scaffold51_22, scaffold51_29, scaffold51_33, scaffold51_35, scaffold51_36, scaffold51_38, scaffold51_40, scaffold51_47, scaffold51_51, scaffold51_57, scaffold51_61, scaffold51_62, scaffold51_63, scaffold51_69, scaffold51_74, scaffold51_85, scaffold51_86, scaffold51_88, scaffold51_93, scaffold51_95, scaffold51_102, scaffold51_104, scaffold51_120, scaffold51_134, scaffold51_143, scaffold51_156, scaffold51_157, scaffold51_161, Writing out file: /media/sf_LinuxShare/Projects/Theresa/Hisat2/FlagHA_Pt08/Pt_51_Mac/52_Late_Ptiwi08_sRNA_34clusters.sort.allfeatures.fixed.tsv\n",
      "Writing out file: /media/sf_LinuxShare/Projects/Theresa/Hisat2/FlagHA_Pt08/Pt_51_Mac/52_Late_Ptiwi08_sRNA_34clusters.sort.allfeatures.sorted.fixed.tsv\n",
      "Writing out file: /media/sf_LinuxShare/Projects/Theresa/Hisat2/FlagHA_Pt08/Pt_51_Mac/52_Late_Ptiwi08_sRNA_34clusters.sort.featuretypes.fixed.tsv\n"
     ]
    }
   ],
   "source": [
    "Gff3file = '/media/sf_LinuxShare/Ciliates/Genomes/Annotations/ptetraurelia_mac_51_v2.0_Ptiwi08Clusters.gff3'\n",
    "samfilelist = ['/media/sf_LinuxShare/Projects/Theresa/Hisat2/Dcr1_KD/Pt_51_Mac/EV/fastp/hisat2/ADPF107_23bp_NoL4440.trim.Pt_51_Mac.NoDcr1.sort.sam', \\\n",
    "               '/media/sf_LinuxShare/Projects/Theresa/Hisat2/Dcr1_KD/Pt_51_Mac/KD/fastp/hisat2/ADPF111_23bp_NoL4440.trim.Pt_51_Mac.NoDcr1.sort.sam', \\\n",
    "               '/media/sf_LinuxShare/Projects/Theresa/Hisat2/FlagHA_Pt08/Pt_51_Mac/52_Late_Ptiwi08_sRNA_34clusters.sort.sam']\n",
    "# count number of reads per feature\n",
    "# count number of reads per feature type (exon, mRNA, 5' UTR, etc.) and sort so counts are decreasing\n",
    "\n",
    "main(Gff3file, samfilelist)"
   ]
  },
  {
   "cell_type": "code",
   "execution_count": 15,
   "metadata": {},
   "outputs": [
    {
     "name": "stdout",
     "output_type": "stream",
     "text": [
      "2021-09-08 11:44:48.348157\n"
     ]
    }
   ],
   "source": [
    "import datetime\n",
    "import os\n",
    "print(datetime.datetime.now())\n",
    "\n",
    "from pygentoolbox import CombineTwoTablesByReferenceColumn\n"
   ]
  },
  {
   "cell_type": "code",
   "execution_count": 17,
   "metadata": {},
   "outputs": [
    {
     "name": "stdout",
     "output_type": "stream",
     "text": [
      "Number of columns in file2: 4\n",
      "2021-09-08 11:45:12.757305\n"
     ]
    }
   ],
   "source": [
    "f1 = '/media/sf_LinuxShare/Projects/Theresa/Hisat2/Dcr1_KD/Pt_51_Mac/Ptiwi08RIPvsEVvsKD/ADPF107_23bp_NoL4440.trim.Pt_51_Mac.NoDcr1.sort.allfeatures.sorted.fixed.tsv'\n",
    "f2 = '/media/sf_LinuxShare/Projects/Theresa/Hisat2/Dcr1_KD/Pt_51_Mac/Ptiwi08RIPvsEVvsKD/ADPF111_23bp_NoL4440.trim.Pt_51_Mac.NoDcr1.sort.allfeatures.sorted.fixed.tsv'\n",
    "refcol1 = 0\n",
    "refcol2 = 0\n",
    "\n",
    "CombineTwoTablesByReferenceColumn.combine_two_tables_by_first_column_id(f1, f2, refcol1, refcol2)\n",
    "print(datetime.datetime.now())"
   ]
  },
  {
   "cell_type": "code",
   "execution_count": 18,
   "metadata": {},
   "outputs": [
    {
     "name": "stdout",
     "output_type": "stream",
     "text": [
      "Number of columns in file2: 4\n",
      "2021-09-08 11:46:20.315568\n"
     ]
    }
   ],
   "source": [
    "f1 = '/media/sf_LinuxShare/Projects/Theresa/Hisat2/Dcr1_KD/Pt_51_Mac/Ptiwi08RIPvsEVvsKD/ADPF107_ADPF111_23bp_NoL4440.trim.Pt_51_Mac.NoDcr1.sort.allfeatures.sorted.fixed.tsv'\n",
    "f2 = '/media/sf_LinuxShare/Projects/Theresa/Hisat2/Dcr1_KD/Pt_51_Mac/Ptiwi08RIPvsEVvsKD/52_Late_Ptiwi08_sRNA_34clusters.sort.allfeatures.sorted.fixed.tsv'\n",
    "refcol1 = 0\n",
    "refcol2 = 0\n",
    "\n",
    "CombineTwoTablesByReferenceColumn.combine_two_tables_by_first_column_id(f1, f2, refcol1, refcol2)\n",
    "print(datetime.datetime.now())"
   ]
  },
  {
   "cell_type": "code",
   "execution_count": 23,
   "metadata": {},
   "outputs": [
    {
     "name": "stdout",
     "output_type": "stream",
     "text": [
      "The autoreload extension is already loaded. To reload it, use:\n",
      "  %reload_ext autoreload\n",
      "2021-09-09 12:53:59.674804\n"
     ]
    }
   ],
   "source": [
    "%load_ext autoreload\n",
    "%autoreload 2\n",
    "import datetime\n",
    "import os\n",
    "print(datetime.datetime.now())\n",
    "\n",
    "from pygentoolbox.SeqsPerFeatureAndFeatureTypeFixed import main\n",
    "#dir(pygentoolbox.Tools)\n",
    "%matplotlib inline\n",
    "import matplotlib.pyplot as plt"
   ]
  },
  {
   "cell_type": "code",
   "execution_count": 25,
   "metadata": {},
   "outputs": [
    {
     "name": "stdout",
     "output_type": "stream",
     "text": [
      "Reading Gff3 file: /media/sf_LinuxShare/Ciliates/Genomes/Annotations/ptetraurelia_mac_51_v2.0_Ptiwi08Clusters.gff3\n",
      "Number of scaffolds: 32\n",
      "Reading sam file: /media/sf_LinuxShare/Projects/Theresa/Hisat2/Pt08KD_TotalsRNA/Pt_51_Mac/Ptiwi08KD_23bp.NoPtiwi0814.sort.sam\n",
      "Number of scaffolds (in header): 0\n",
      "Total number of lines in sam file (excluding header): 1985947\n",
      "Mapped reads, so calculating seqs per feature and feature type\n",
      "Counting reads for all feature and Count reads per feature type (ex: exon, gene, CDS, etc.)\n",
      "scaffold51_8, scaffold51_13, scaffold51_17, scaffold51_20, scaffold51_22, scaffold51_29, scaffold51_33, scaffold51_35, scaffold51_36, scaffold51_38, scaffold51_40, scaffold51_47, scaffold51_51, scaffold51_57, scaffold51_61, scaffold51_62, scaffold51_63, scaffold51_69, scaffold51_74, scaffold51_85, scaffold51_86, scaffold51_88, scaffold51_93, scaffold51_95, scaffold51_102, scaffold51_104, scaffold51_120, scaffold51_134, scaffold51_143, scaffold51_156, scaffold51_157, scaffold51_161, Writing out file: /media/sf_LinuxShare/Projects/Theresa/Hisat2/Pt08KD_TotalsRNA/Pt_51_Mac/Ptiwi08KD_23bp.NoPtiwi0814.sort.allfeatures.fixed.tsv\n",
      "Writing out file: /media/sf_LinuxShare/Projects/Theresa/Hisat2/Pt08KD_TotalsRNA/Pt_51_Mac/Ptiwi08KD_23bp.NoPtiwi0814.sort.allfeatures.sorted.fixed.tsv\n",
      "Writing out file: /media/sf_LinuxShare/Projects/Theresa/Hisat2/Pt08KD_TotalsRNA/Pt_51_Mac/Ptiwi08KD_23bp.NoPtiwi0814.sort.featuretypes.fixed.tsv\n"
     ]
    }
   ],
   "source": [
    "Gff3file = '/media/sf_LinuxShare/Ciliates/Genomes/Annotations/ptetraurelia_mac_51_v2.0_Ptiwi08Clusters.gff3'\n",
    "samfilelist = ['/media/sf_LinuxShare/Projects/Theresa/Hisat2/Pt08KD_TotalsRNA/Pt_51_Mac/Ptiwi08KD_23bp.NoPtiwi0814.sort.sam']\n",
    "# count number of reads per feature\n",
    "# count number of reads per feature type (exon, mRNA, 5' UTR, etc.) and sort so counts are decreasing\n",
    "\n",
    "main(Gff3file, samfilelist)"
   ]
  },
  {
   "cell_type": "code",
   "execution_count": 26,
   "metadata": {},
   "outputs": [
    {
     "name": "stdout",
     "output_type": "stream",
     "text": [
      "2021-09-09 12:58:16.454677\n"
     ]
    }
   ],
   "source": [
    "import datetime\n",
    "import os\n",
    "print(datetime.datetime.now())\n",
    "\n",
    "from pygentoolbox import CombineTwoTablesByReferenceColumn\n"
   ]
  },
  {
   "cell_type": "code",
   "execution_count": 28,
   "metadata": {},
   "outputs": [
    {
     "name": "stdout",
     "output_type": "stream",
     "text": [
      "Number of columns in file2: 4\n",
      "2021-09-09 12:59:18.352080\n"
     ]
    }
   ],
   "source": [
    "f1 = '/media/sf_LinuxShare/Projects/Theresa/Hisat2/Dcr1_KD/Pt_51_Mac/Ptiwi08RIPvsEVvsKD/ADPF107_ADPF111_Ptiwi08RIP_R1_23bp_NoL4440.trim.Pt_51_Mac.NoDcr1.sort.allfeatures.sorted.fixed.tsv'\n",
    "f2 = '/media/sf_LinuxShare/Projects/Theresa/Hisat2/Dcr1_KD/Pt_51_Mac/Ptiwi08RIPvsEVvsKD/Ptiwi08KD_23bp.NoPtiwi0814.sort.allfeatures.sorted.fixed.tsv'\n",
    "refcol1 = 0\n",
    "refcol2 = 0\n",
    "\n",
    "CombineTwoTablesByReferenceColumn.combine_two_tables_by_first_column_id(f1, f2, refcol1, refcol2)\n",
    "print(datetime.datetime.now())"
   ]
  },
  {
   "cell_type": "code",
   "execution_count": null,
   "metadata": {},
   "outputs": [],
   "source": []
  }
 ],
 "metadata": {
  "kernelspec": {
   "display_name": "Python 3",
   "language": "python",
   "name": "python3"
  },
  "language_info": {
   "codemirror_mode": {
    "name": "ipython",
    "version": 3
   },
   "file_extension": ".py",
   "mimetype": "text/x-python",
   "name": "python",
   "nbconvert_exporter": "python",
   "pygments_lexer": "ipython3",
   "version": "3.7.4"
  }
 },
 "nbformat": 4,
 "nbformat_minor": 4
}
