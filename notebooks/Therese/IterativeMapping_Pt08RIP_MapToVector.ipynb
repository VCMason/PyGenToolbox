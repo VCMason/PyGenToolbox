{
 "cells": [
  {
   "cell_type": "code",
   "execution_count": 1,
   "metadata": {},
   "outputs": [
    {
     "name": "stdout",
     "output_type": "stream",
     "text": [
      "2021-03-11 16:20:45.969705\n"
     ]
    }
   ],
   "source": [
    "%load_ext autoreload\n",
    "%autoreload 2\n",
    "import os\n",
    "import glob\n",
    "import datetime\n",
    "import subprocess\n",
    "print(datetime.datetime.now())\n",
    "\n",
    "from pygentoolbox import ReadMapping\n",
    "from pygentoolbox import ReadMapping_v2\n",
    "\n",
    "from pygentoolbox import SeqsPerFeatureAndFeatureTypeFixed\n",
    "from pygentoolbox import CalculateRelativeBaseCoverageOfFeatureType\n",
    "\n",
    "# need pygentoolbox.Tools also\n",
    "#dir(pygentoolbox.Tools)\n",
    "%matplotlib inline\n",
    "import matplotlib.pyplot as plt"
   ]
  },
  {
   "cell_type": "code",
   "execution_count": 2,
   "metadata": {},
   "outputs": [],
   "source": [
    "# define variables:\n",
    "# cell 1\n",
    "forward = ['52_Late_Ptiwi08RIP_R1_23bp.fastq.gz']\n",
    "reverse = ['']\n",
    "#forward = ['H3K4me3_Rep1_R1.fastq.gz', 'H3K4me3_Rep2_R1.fastq.gz', 'H3K9me3_Rep1_R1.fastq.gz', 'H3K9me3_Rep2_R1.fastq.gz', 'H3K27me3_Rep1_R1.fastq.gz', 'H3K27me3_Rep2_R1.fastq.gz']\n",
    "#reverse = ['H3K4me3_Rep1_R2.fastq.gz', 'H3K4me3_Rep2_R2.fastq.gz', 'H3K9me3_Rep1_R2.fastq.gz', 'H3K9me3_Rep2_R2.fastq.gz', 'H3K27me3_Rep1_R2.fastq.gz', 'H3K27me3_Rep2_R2.fastq.gz']\n",
    "directory='/media/sf_LinuxShare/Projects/Theresa/Hisat2/FlagHA_Pt08/Vector_FlagHA_Dcl5'\n",
    "cleanreads=False  # are .fastq.gz reads already clean? if True skip fastp\n",
    "paired=False\n",
    "reference='/media/sf_LinuxShare/Ciliates/Genomes/Hisat2_Indexes/Vector_FlagHA_Dcl5'\n",
    "\n",
    "skipsteps=[]\n",
    "hisat_args='-p 2 --no-softclip --pen-noncansplice 0'\n"
   ]
  },
  {
   "cell_type": "code",
   "execution_count": 3,
   "metadata": {},
   "outputs": [
    {
     "name": "stdout",
     "output_type": "stream",
     "text": [
      "2021-03-11 16:21:04.699516\n",
      "Start trimming of:\n",
      "/media/sf_LinuxShare/Projects/Theresa/Hisat2/FlagHA_Pt08/Vector_FlagHA_Dcl5/52_Late_Ptiwi08RIP_R1_23bp.fastq.gz\n",
      "\n",
      "Directory  /media/sf_LinuxShare/Projects/Theresa/Hisat2/FlagHA_Pt08/Vector_FlagHA_Dcl5/fastp  Created \n",
      "fastp -i /media/sf_LinuxShare/Projects/Theresa/Hisat2/FlagHA_Pt08/Vector_FlagHA_Dcl5/52_Late_Ptiwi08RIP_R1_23bp.fastq.gz -o /media/sf_LinuxShare/Projects/Theresa/Hisat2/FlagHA_Pt08/Vector_FlagHA_Dcl5/fastp/52_Late_Ptiwi08RIP_R1_23bp.trim.fastq.gz\n",
      "b''\n",
      "Finished trimming, files output to:\n",
      "/media/sf_LinuxShare/Projects/Theresa/Hisat2/FlagHA_Pt08/Vector_FlagHA_Dcl5/fastp/52_Late_Ptiwi08RIP_R1_23bp.trim.fastq.gz\n",
      "\n",
      "Start unpacking trimmed.gz file:\n",
      "/media/sf_LinuxShare/Projects/Theresa/Hisat2/FlagHA_Pt08/Vector_FlagHA_Dcl5/fastp/52_Late_Ptiwi08RIP_R1_23bp.trim.fastq.gz\n",
      "gzip -f -d -k /media/sf_LinuxShare/Projects/Theresa/Hisat2/FlagHA_Pt08/Vector_FlagHA_Dcl5/fastp/52_Late_Ptiwi08RIP_R1_23bp.trim.fastq.gz\n",
      "Finished unpacking:\n",
      "/media/sf_LinuxShare/Projects/Theresa/Hisat2/FlagHA_Pt08/Vector_FlagHA_Dcl5/fastp/52_Late_Ptiwi08RIP_R1_23bp.trim.fastq\n",
      "\n",
      "Starting fastqc\n",
      "/media/sf_LinuxShare/Projects/Theresa/Hisat2/FlagHA_Pt08/Vector_FlagHA_Dcl5/fastp/fastqc\n",
      "Directory  /media/sf_LinuxShare/Projects/Theresa/Hisat2/FlagHA_Pt08/Vector_FlagHA_Dcl5/fastp/fastqc  Created \n",
      "/media/sf_LinuxShare/Programs/FastQC/fastqc -o /media/sf_LinuxShare/Projects/Theresa/Hisat2/FlagHA_Pt08/Vector_FlagHA_Dcl5/fastp/fastqc -f fastq fastq /media/sf_LinuxShare/Projects/Theresa/Hisat2/FlagHA_Pt08/Vector_FlagHA_Dcl5/fastp/52_Late_Ptiwi08RIP_R1_23bp.trim.fastq\n",
      "Finished fastqc, output at directory:\n",
      "/media/sf_LinuxShare/Projects/Theresa/Hisat2/FlagHA_Pt08/Vector_FlagHA_Dcl5/fastp/fastqc\n",
      "\n",
      "Aligning reads to Reference:\n",
      "/media/sf_LinuxShare/Ciliates/Genomes/Hisat2_Indexes/Vector_FlagHA_Dcl5\n",
      "Directory  /media/sf_LinuxShare/Projects/Theresa/Hisat2/FlagHA_Pt08/Vector_FlagHA_Dcl5/fastp/hisat2  Created \n",
      "Starting Hisat2 single end: aligning\n",
      "/media/sf_LinuxShare/Projects/Theresa/Hisat2/FlagHA_Pt08/Vector_FlagHA_Dcl5/fastp/52_Late_Ptiwi08RIP_R1_23bp.trim.fastq.gz\n",
      "hisat2 -q -p 2 --no-softclip --pen-noncansplice 0 -x /media/sf_LinuxShare/Ciliates/Genomes/Hisat2_Indexes/Vector_FlagHA_Dcl5 -U /media/sf_LinuxShare/Projects/Theresa/Hisat2/FlagHA_Pt08/Vector_FlagHA_Dcl5/fastp/52_Late_Ptiwi08RIP_R1_23bp.trim.fastq.gz -S /media/sf_LinuxShare/Projects/Theresa/Hisat2/FlagHA_Pt08/Vector_FlagHA_Dcl5/fastp/hisat2/52_Late_Ptiwi08RIP_R1_23bp.trim.Vector_FlagHA_Dcl5.sam\n",
      "Finished with Hisat2\n",
      "\n",
      "Starting samtools converting sam to sorted indexed bam\n",
      "Finished with Samtools, returning /media/sf_LinuxShare/Projects/Theresa/Hisat2/FlagHA_Pt08/Vector_FlagHA_Dcl5/fastp/hisat2/52_Late_Ptiwi08RIP_R1_23bp.trim.Vector_FlagHA_Dcl5.sort.bam\n",
      "\n",
      "##########\n",
      "###FIN####\n",
      "##########\n",
      "2021-03-11 16:22:23.810734\n"
     ]
    }
   ],
   "source": [
    "#fileextension='.fastq.gz'\n",
    "#directory='/media/sf_LinuxShare/Projects/Ryuma/hisat2/2018-09-19_L1-4_ADPF-29_inserts'\n",
    "#cleanreads=True  # are .fastq.gz reads already clean? if True skip fastp\n",
    "#reference='/media/sf_LinuxShare/Ciliates/Genomes/Hisat2_Indexes/Pt_51_Mac'\n",
    "print(datetime.datetime.now())\n",
    "\n",
    "ReadMapping_v2.main(forward, reverse, directory, hisat_args, skipsteps, paired, reference)\n",
    "\n",
    "print(datetime.datetime.now())"
   ]
  },
  {
   "cell_type": "code",
   "execution_count": null,
   "metadata": {},
   "outputs": [],
   "source": []
  }
 ],
 "metadata": {
  "kernelspec": {
   "display_name": "Python 3",
   "language": "python",
   "name": "python3"
  },
  "language_info": {
   "codemirror_mode": {
    "name": "ipython",
    "version": 3
   },
   "file_extension": ".py",
   "mimetype": "text/x-python",
   "name": "python",
   "nbconvert_exporter": "python",
   "pygments_lexer": "ipython3",
   "version": "3.7.4"
  }
 },
 "nbformat": 4,
 "nbformat_minor": 4
}
