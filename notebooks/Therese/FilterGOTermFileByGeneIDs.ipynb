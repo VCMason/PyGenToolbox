{
 "cells": [
  {
   "cell_type": "code",
   "execution_count": 2,
   "metadata": {},
   "outputs": [
    {
     "name": "stdout",
     "output_type": "stream",
     "text": [
      "The autoreload extension is already loaded. To reload it, use:\n",
      "  %reload_ext autoreload\n",
      "2019-08-28 10:55:05.739410\n"
     ]
    }
   ],
   "source": [
    "%load_ext autoreload\n",
    "%autoreload 2\n",
    "import datetime\n",
    "import os\n",
    "import pandas as pd\n",
    "print(datetime.datetime.now())\n",
    "\n",
    "#dir(pygentoolbox.Tools)\n",
    "%matplotlib inline\n",
    "import matplotlib.pyplot as plt"
   ]
  },
  {
   "cell_type": "code",
   "execution_count": 8,
   "metadata": {},
   "outputs": [
    {
     "name": "stdout",
     "output_type": "stream",
     "text": [
      "2019-08-28 10:58:03.735723\n"
     ]
    }
   ],
   "source": [
    "# gene file lists are just gene IDs, one per line in file\n",
    "genefilelist = \\\n",
    "[\\\n",
    "    'D:\\\\LinuxShare\\\\Projects\\\\Theresa\\\\Hisat2\\\\FlagHA_Pt08\\\\Pt_51_Mac\\\\52_Late.Uniq.23M.sort.windows.100.SenseVsAntiSense.allfeatures.tsv.sRNAGeneNames',\\\n",
    "    'D:\\\\LinuxShare\\\\Projects\\\\Theresa\\\\Hisat2\\\\FlagHA_Pt08\\\\Pt_51_Mac\\\\53_Later.Uniq.23M.sort.windows.100.SenseVsAntiSense.allfeatures.tsv.sRNAGeneNames',\\\n",
    "    'D:\\\\LinuxShare\\\\Projects\\\\Theresa\\\\Hisat2\\\\FlagHA_Pt08\\\\Pt_51_Mac\\\\52_Late.Uniq.23M.sort.windows.100.LessThanD1000.SenseVsAntiSense.allfeatures.tsv.sRNAGeneNames',\\\n",
    "    'D:\\\\LinuxShare\\\\Projects\\\\Theresa\\\\Hisat2\\\\FlagHA_Pt08\\\\Pt_51_Mac\\\\53_Later.Uniq.23M.sort.windows.100.LessThanD1000.SenseVsAntiSense.allfeatures.tsv.sRNAGeneNames'\\\n",
    "]\n",
    "\n",
    "# GO file is output from Biomart of all GO terms for Paramecium Tetraurelia\n",
    "GOfile = 'D:\\\\LinuxShare\\\\Ciliates\\\\Genomes\\\\Annotations\\\\Ptetraurelia51_GOTerms.tsv'\n",
    "\n",
    "with open(GOfile, 'r') as FILE:\n",
    "    header = FILE.readline().strip()\n",
    "    dGO = {line.strip().split('\\t')[0] : line.strip() for line in FILE}\n",
    "\n",
    "for f in genefilelist:\n",
    "    with open(f, 'r') as FILE:\n",
    "        out = [dGO[line.strip()] for line in FILE]\n",
    "    fout = f + '.GO'\n",
    "    with open(fout, 'w') as OUT:\n",
    "        OUT.write('\\n'.join([header] + out))\n",
    "    \n",
    "print(datetime.datetime.now())"
   ]
  },
  {
   "cell_type": "code",
   "execution_count": null,
   "metadata": {},
   "outputs": [],
   "source": []
  }
 ],
 "metadata": {
  "kernelspec": {
   "display_name": "Python 3",
   "language": "python",
   "name": "python3"
  },
  "language_info": {
   "codemirror_mode": {
    "name": "ipython",
    "version": 3
   },
   "file_extension": ".py",
   "mimetype": "text/x-python",
   "name": "python",
   "nbconvert_exporter": "python",
   "pygments_lexer": "ipython3",
   "version": "3.7.3"
  }
 },
 "nbformat": 4,
 "nbformat_minor": 2
}
