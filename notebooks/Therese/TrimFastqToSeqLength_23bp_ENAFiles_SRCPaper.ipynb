{
 "cells": [
  {
   "cell_type": "code",
   "execution_count": 3,
   "metadata": {},
   "outputs": [
    {
     "name": "stdout",
     "output_type": "stream",
     "text": [
      "The autoreload extension is already loaded. To reload it, use:\n",
      "  %reload_ext autoreload\n",
      "2022-03-27 17:06:07.705597\n"
     ]
    }
   ],
   "source": [
    "%load_ext autoreload\n",
    "%autoreload 2\n",
    "import datetime\n",
    "print(datetime.datetime.now())\n",
    "\n",
    "from pygentoolbox import TrimFastqToSeqLength\n",
    "#dir(pygentoolbox.Tools)\n",
    "%matplotlib inline\n",
    "import matplotlib.pyplot as plt"
   ]
  },
  {
   "cell_type": "code",
   "execution_count": 4,
   "metadata": {},
   "outputs": [
    {
     "name": "stdout",
     "output_type": "stream",
     "text": [
      "Output file: /media/sf_LinuxShare/Projects/Theresa/Data/ena_files/SeroA_sRNA.23bp.fastq\n"
     ]
    }
   ],
   "source": [
    "fastqfile = '/media/sf_LinuxShare/Projects/Theresa/Data/ena_files/SeroA_sRNA.fastq'\n",
    "seqlength = 23\n",
    "prefix = '.'.join(fastqfile.split('.')[:-1])\n",
    "outfile = f'{prefix}.{seqlength}bp.fastq'\n",
    "\n",
    "TrimFastqToSeqLength.main(fastqfile, outfile, seqlength)"
   ]
  },
  {
   "cell_type": "code",
   "execution_count": 5,
   "metadata": {},
   "outputs": [
    {
     "name": "stdout",
     "output_type": "stream",
     "text": [
      "Output file: /media/sf_LinuxShare/Projects/Theresa/Data/ena_files/SeroB_sRNA.23bp.fastq\n"
     ]
    }
   ],
   "source": [
    "fastqfile = '/media/sf_LinuxShare/Projects/Theresa/Data/ena_files/SeroB_sRNA.fastq'\n",
    "seqlength = 23\n",
    "prefix = '.'.join(fastqfile.split('.')[:-1])\n",
    "outfile = f'{prefix}.{seqlength}bp.fastq'\n",
    "\n",
    "TrimFastqToSeqLength.main(fastqfile, outfile, seqlength)"
   ]
  },
  {
   "cell_type": "code",
   "execution_count": 6,
   "metadata": {},
   "outputs": [
    {
     "name": "stdout",
     "output_type": "stream",
     "text": [
      "Output file: /media/sf_LinuxShare/Projects/Theresa/Data/ena_files/SeroD_sRNA.23bp.fastq\n"
     ]
    }
   ],
   "source": [
    "fastqfile = '/media/sf_LinuxShare/Projects/Theresa/Data/ena_files/SeroD_sRNA.fastq'\n",
    "seqlength = 23\n",
    "prefix = '.'.join(fastqfile.split('.')[:-1])\n",
    "outfile = f'{prefix}.{seqlength}bp.fastq'\n",
    "\n",
    "TrimFastqToSeqLength.main(fastqfile, outfile, seqlength)"
   ]
  },
  {
   "cell_type": "code",
   "execution_count": 7,
   "metadata": {},
   "outputs": [
    {
     "name": "stdout",
     "output_type": "stream",
     "text": [
      "Output file: /media/sf_LinuxShare/Projects/Theresa/Data/ena_files/SeroH_sRNA.23bp.fastq\n"
     ]
    }
   ],
   "source": [
    "fastqfile = '/media/sf_LinuxShare/Projects/Theresa/Data/ena_files/SeroH_sRNA.fastq'\n",
    "seqlength = 23\n",
    "prefix = '.'.join(fastqfile.split('.')[:-1])\n",
    "outfile = f'{prefix}.{seqlength}bp.fastq'\n",
    "\n",
    "TrimFastqToSeqLength.main(fastqfile, outfile, seqlength)"
   ]
  },
  {
   "cell_type": "code",
   "execution_count": null,
   "metadata": {},
   "outputs": [],
   "source": []
  }
 ],
 "metadata": {
  "kernelspec": {
   "display_name": "Python 3",
   "language": "python",
   "name": "python3"
  },
  "language_info": {
   "codemirror_mode": {
    "name": "ipython",
    "version": 3
   },
   "file_extension": ".py",
   "mimetype": "text/x-python",
   "name": "python",
   "nbconvert_exporter": "python",
   "pygments_lexer": "ipython3",
   "version": "3.7.4"
  }
 },
 "nbformat": 4,
 "nbformat_minor": 4
}
