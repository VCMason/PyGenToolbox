{
 "cells": [
  {
   "cell_type": "code",
   "execution_count": 2,
   "metadata": {},
   "outputs": [
    {
     "name": "stdout",
     "output_type": "stream",
     "text": [
      "The autoreload extension is already loaded. To reload it, use:\n",
      "  %reload_ext autoreload\n",
      "2021-02-11 17:11:54.761906\n"
     ]
    }
   ],
   "source": [
    "%load_ext autoreload\n",
    "%autoreload 2\n",
    "import os\n",
    "import glob\n",
    "import datetime\n",
    "import subprocess\n",
    "print(datetime.datetime.now())\n",
    "\n",
    "# need pygentoolbox.Tools also\n",
    "#dir(pygentoolbox.Tools)\n",
    "%matplotlib inline\n",
    "import matplotlib.pyplot as plt"
   ]
  },
  {
   "cell_type": "code",
   "execution_count": 8,
   "metadata": {},
   "outputs": [
    {
     "name": "stdout",
     "output_type": "stream",
     "text": [
      "2021-02-11 17:29:45.744242\n",
      "2021-02-11 17:29:50.414260\n"
     ]
    }
   ],
   "source": [
    "print(datetime.datetime.now())\n",
    "\n",
    "path = '/media/sf_LinuxShare/Projects/Theresa/Hisat2/EV_Total_sRNA/Late/Pt_51_Mac/fastp/hisat2'\n",
    "bedfile = '52_Late_Ptiwi08RIP.34sRNAClusters.w100.d500.bed'\n",
    "bedfile = os.path.join(path, bedfile)\n",
    "filenames = []\n",
    "for i in range(15, 42):\n",
    "    name = f'190118_NB501473_A_L1-4_ADPF-56_AdapterTrimmed_R1_{i}bp.trim.Pt_51_Mac.sort.bam'\n",
    "    filenames.append(os.path.join(path, name))\n",
    "filenames.append(os.path.join(path, '190118_NB501473_A_L1-4_ADPF-56_AdapterTrimmed_R1_50bp.trim.Pt_51_Mac.sort.bam'))\n",
    "\n",
    "for f in filenames:\n",
    "    cmd = f'samtools view -h -b -L {bedfile} {f}'\n",
    "    outfile = '.'.join(f.split('.')[:-1] + ['Ptiwi08Clusters', 'bam'])\n",
    "    cmd2 = f'samtools flagstat {outfile}'\n",
    "    outfile2 = '.'.join(f.split('.')[:-1] + ['Ptiwi08Clusters', 'bam', 'flagstat'])\n",
    "    with open(outfile, 'w') as OUT:\n",
    "        # cmd = 'samtools sort %s > %s' % (bamfile, sortbamfile)\n",
    "        ps = subprocess.Popen(cmd.split(), stdout=OUT)\n",
    "        ps.wait()\n",
    "    with open(outfile2, 'w') as OUT:\n",
    "        # cmd = 'samtools sort %s > %s' % (bamfile, sortbamfile)\n",
    "        ps = subprocess.Popen(cmd2.split(), stdout=OUT)\n",
    "        ps.wait()\n",
    "\n",
    "print(datetime.datetime.now())\n"
   ]
  },
  {
   "cell_type": "code",
   "execution_count": 9,
   "metadata": {},
   "outputs": [
    {
     "name": "stdout",
     "output_type": "stream",
     "text": [
      "The autoreload extension is already loaded. To reload it, use:\n",
      "  %reload_ext autoreload\n",
      "2021-02-12 12:42:46.597041\n"
     ]
    }
   ],
   "source": [
    "%load_ext autoreload\n",
    "%autoreload 2\n",
    "import os\n",
    "import glob\n",
    "import datetime\n",
    "import subprocess\n",
    "print(datetime.datetime.now())\n",
    "\n",
    "# need pygentoolbox.Tools also\n",
    "#dir(pygentoolbox.Tools)\n",
    "%matplotlib inline\n",
    "import matplotlib.pyplot as plt"
   ]
  },
  {
   "cell_type": "code",
   "execution_count": 11,
   "metadata": {},
   "outputs": [
    {
     "name": "stdout",
     "output_type": "stream",
     "text": [
      "2021-02-12 12:46:40.872798\n",
      "2021-02-12 12:46:43.674814\n"
     ]
    }
   ],
   "source": [
    "print(datetime.datetime.now())\n",
    "\n",
    "path = '/media/sf_LinuxShare/Projects/Theresa/Hisat2/EV_Total_sRNA/Late/Pt_51_Mac/fastp/hisat2'\n",
    "bedfile = '52_Late_Ptiwi08RIP.34sRNAClusters.w100.d500.bed'\n",
    "bedfile = os.path.join(path, bedfile)\n",
    "filenames = [os.path.join(path, '190118_NB501473_A_L1-4_ADPF-56_AdapterTrimmed_R1_23And22bp.trim.Pt_51_Mac.sort.bam'), os.path.join(path, '190118_NB501473_A_L1-4_ADPF-56_AdapterTrimmed_R1_23And24bp.trim.Pt_51_Mac.sort.bam')]\n",
    "\n",
    "for f in filenames:\n",
    "    cmd = f'samtools view -h -b -L {bedfile} {f}'\n",
    "    outfile = '.'.join(f.split('.')[:-1] + ['Ptiwi08Clusters', 'bam'])\n",
    "    cmd2 = f'samtools index {outfile}'\n",
    "    cmd3 = f'samtools flagstat {outfile}'\n",
    "    outfile3 = '.'.join(f.split('.')[:-1] + ['Ptiwi08Clusters', 'bam', 'flagstat'])\n",
    "    cmd4 = f'samtools view -F 16 {outfile}'\n",
    "    outfile4 = '.'.join(f.split('.')[:-1] + ['Ptiwi08Clusters', 'F', 'sam'])\n",
    "    cmd5 = f'samtools view -f 16 {outfile}'\n",
    "    outfile5 = '.'.join(f.split('.')[:-1] + ['Ptiwi08Clusters', 'R', 'sam'])\n",
    "    with open(outfile, 'w') as OUT:\n",
    "        # cmd = 'samtools sort %s > %s' % (bamfile, sortbamfile)\n",
    "        ps = subprocess.Popen(cmd.split(), stdout=OUT)\n",
    "        ps.wait()\n",
    "    subprocess.call(cmd2.split())\n",
    "    with open(outfile3, 'w') as OUT:\n",
    "        # cmd = 'samtools sort %s > %s' % (bamfile, sortbamfile)\n",
    "        ps = subprocess.Popen(cmd3.split(), stdout=OUT)\n",
    "        ps.wait()\n",
    "    with open(outfile4, 'w') as OUT:\n",
    "        # cmd = 'samtools sort %s > %s' % (bamfile, sortbamfile)\n",
    "        ps = subprocess.Popen(cmd4.split(), stdout=OUT)\n",
    "        ps.wait()\n",
    "    with open(outfile5, 'w') as OUT:\n",
    "        # cmd = 'samtools sort %s > %s' % (bamfile, sortbamfile)\n",
    "        ps = subprocess.Popen(cmd5.split(), stdout=OUT)\n",
    "        ps.wait()\n",
    "\n",
    "print(datetime.datetime.now())\n"
   ]
  },
  {
   "cell_type": "code",
   "execution_count": null,
   "metadata": {},
   "outputs": [],
   "source": []
  }
 ],
 "metadata": {
  "kernelspec": {
   "display_name": "Python 3",
   "language": "python",
   "name": "python3"
  },
  "language_info": {
   "codemirror_mode": {
    "name": "ipython",
    "version": 3
   },
   "file_extension": ".py",
   "mimetype": "text/x-python",
   "name": "python",
   "nbconvert_exporter": "python",
   "pygments_lexer": "ipython3",
   "version": "3.7.4"
  }
 },
 "nbformat": 4,
 "nbformat_minor": 4
}
