{
 "cells": [
  {
   "cell_type": "code",
   "execution_count": 1,
   "metadata": {},
   "outputs": [
    {
     "name": "stdout",
     "output_type": "stream",
     "text": [
      "2022-03-19 10:01:16.892701\n"
     ]
    }
   ],
   "source": [
    "%load_ext autoreload\n",
    "%autoreload 2\n",
    "import datetime\n",
    "print(datetime.datetime.now())\n",
    "\n",
    "from pygentoolbox.WebLogo import main\n",
    "# from pygentoolbox.BedOverlapWithGff3 import main\n",
    "#dir(pygentoolbox.Tools)\n",
    "%matplotlib inline\n",
    "import matplotlib.pyplot as plt"
   ]
  },
  {
   "cell_type": "code",
   "execution_count": 23,
   "metadata": {},
   "outputs": [
    {
     "name": "stdout",
     "output_type": "stream",
     "text": [
      "weblogo -f /media/sf_LinuxShare/Projects/Lyna/CharSeqPipe/EV_E/pear/MacAndIESDNABuffer2000RNABuffer15/ContactsInMDSs/WT_E_L1_R1R2.trim.AssUnFUnR.RNAs.ContactsNearIES.dnabuffer0.rnabuffer0.25bp.fa -t WT_E_ContactsInMDS_RNA_25bp -A dna -F pdf -C green A Adenine -C blue C Cytosine -C red T Thymine -C orange G Guanine > /media/sf_LinuxShare/Projects/Lyna/CharSeqPipe/EV_E/pear/MacAndIESDNABuffer2000RNABuffer15/ContactsInMDSs/WT_E_ContactsInMDS_RNA_25bp.pdf\n",
      "Weblogo made, output to file: /media/sf_LinuxShare/Projects/Lyna/CharSeqPipe/EV_E/pear/MacAndIESDNABuffer2000RNABuffer15/ContactsInMDSs/WT_E_ContactsInMDS_RNA_25bp.pdf\n",
      "weblogo -f /media/sf_LinuxShare/Projects/Lyna/CharSeqPipe/EV_E/pear/MacAndIESDNABuffer2000RNABuffer15/ContactsInIESs/WT_E_L1_R1R2.trim.AssUnFUnR.RNAs.ContactsNearIES.dnabuffer2000.rnabuffer15.25bp.fa -t WT_E_ContactsInIES_RNA_25bp -A dna -F pdf -C green A Adenine -C blue C Cytosine -C red T Thymine -C orange G Guanine > /media/sf_LinuxShare/Projects/Lyna/CharSeqPipe/EV_E/pear/MacAndIESDNABuffer2000RNABuffer15/ContactsInIESs/WT_E_ContactsInIES_RNA_25bp.pdf\n",
      "Weblogo made, output to file: /media/sf_LinuxShare/Projects/Lyna/CharSeqPipe/EV_E/pear/MacAndIESDNABuffer2000RNABuffer15/ContactsInIESs/WT_E_ContactsInIES_RNA_25bp.pdf\n",
      "weblogo -f /media/sf_LinuxShare/Projects/Lyna/CharSeqPipe/EV_L/pear/MacAndIESDNABuffer2000RNABuffer15/ContactsInMDSs/WT_L_L1_R1R2.trim.AssUnFUnR.RNAs.ContactsNearIES.dnabuffer0.rnabuffer0.25bp.fa -t WT_L_ContactsInMDS_RNA_25bp -A dna -F pdf -C green A Adenine -C blue C Cytosine -C red T Thymine -C orange G Guanine > /media/sf_LinuxShare/Projects/Lyna/CharSeqPipe/EV_L/pear/MacAndIESDNABuffer2000RNABuffer15/ContactsInMDSs/WT_L_ContactsInMDS_RNA_25bp.pdf\n",
      "Weblogo made, output to file: /media/sf_LinuxShare/Projects/Lyna/CharSeqPipe/EV_L/pear/MacAndIESDNABuffer2000RNABuffer15/ContactsInMDSs/WT_L_ContactsInMDS_RNA_25bp.pdf\n",
      "weblogo -f /media/sf_LinuxShare/Projects/Lyna/CharSeqPipe/EV_L/pear/MacAndIESDNABuffer2000RNABuffer15/ContactsInIESs/WT_L_L1_R1R2.trim.AssUnFUnR.RNAs.ContactsNearIES.dnabuffer2000.rnabuffer15.25bp.fa -t WT_L_ContactsInIES_RNA_25bp -A dna -F pdf -C green A Adenine -C blue C Cytosine -C red T Thymine -C orange G Guanine > /media/sf_LinuxShare/Projects/Lyna/CharSeqPipe/EV_L/pear/MacAndIESDNABuffer2000RNABuffer15/ContactsInIESs/WT_L_ContactsInIES_RNA_25bp.pdf\n",
      "Weblogo made, output to file: /media/sf_LinuxShare/Projects/Lyna/CharSeqPipe/EV_L/pear/MacAndIESDNABuffer2000RNABuffer15/ContactsInIESs/WT_L_ContactsInIES_RNA_25bp.pdf\n",
      "weblogo -f /media/sf_LinuxShare/Projects/Lyna/CharSeqPipe/PGM_L/pear/MacAndIESDNABuffer2000RNABuffer15/ContactsInMDSs/PGM_L_S2_L002_R1_R1R2.trim.AssUnFUnR.RNAs.ContactsNearIES.dnabuffer0.rnabuffer0.25bp.fa -t PGM_L_ContactsInMDS_RNA_25bp -A dna -F pdf -C green A Adenine -C blue C Cytosine -C red T Thymine -C orange G Guanine > /media/sf_LinuxShare/Projects/Lyna/CharSeqPipe/PGM_L/pear/MacAndIESDNABuffer2000RNABuffer15/ContactsInMDSs/PGM_L_ContactsInMDS_RNA_25bp.pdf\n",
      "Weblogo made, output to file: /media/sf_LinuxShare/Projects/Lyna/CharSeqPipe/PGM_L/pear/MacAndIESDNABuffer2000RNABuffer15/ContactsInMDSs/PGM_L_ContactsInMDS_RNA_25bp.pdf\n",
      "weblogo -f /media/sf_LinuxShare/Projects/Lyna/CharSeqPipe/PGM_L/pear/MacAndIESDNABuffer2000RNABuffer15/ContactsInIESs/PGM_L_S2_L002_R1_R1R2.trim.AssUnFUnR.RNAs.ContactsNearIES.dnabuffer2000.rnabuffer15.25bp.fa -t PGM_L_ContactsInIES_RNA_25bp -A dna -F pdf -C green A Adenine -C blue C Cytosine -C red T Thymine -C orange G Guanine > /media/sf_LinuxShare/Projects/Lyna/CharSeqPipe/PGM_L/pear/MacAndIESDNABuffer2000RNABuffer15/ContactsInIESs/PGM_L_ContactsInIES_RNA_25bp.pdf\n",
      "Weblogo made, output to file: /media/sf_LinuxShare/Projects/Lyna/CharSeqPipe/PGM_L/pear/MacAndIESDNABuffer2000RNABuffer15/ContactsInIESs/PGM_L_ContactsInIES_RNA_25bp.pdf\n",
      "weblogo -f /media/sf_LinuxShare/Projects/Lyna/CharSeqPipe/Nowa1_E/pear/MacAndIESDNABuffer2000RNABuffer15/ContactsInMDSs/NOWA_E_S1_L002_R1_R1R2.trim.AssUnFUnR.RNAs.ContactsNearIES.dnabuffer0.rnabuffer0.25bp.fa -t Nowa1_E_ContactsInMDS_RNA_25bp -A dna -F pdf -C green A Adenine -C blue C Cytosine -C red T Thymine -C orange G Guanine > /media/sf_LinuxShare/Projects/Lyna/CharSeqPipe/Nowa1_E/pear/MacAndIESDNABuffer2000RNABuffer15/ContactsInMDSs/Nowa1_E_ContactsInMDS_RNA_25bp.pdf\n",
      "Weblogo made, output to file: /media/sf_LinuxShare/Projects/Lyna/CharSeqPipe/Nowa1_E/pear/MacAndIESDNABuffer2000RNABuffer15/ContactsInMDSs/Nowa1_E_ContactsInMDS_RNA_25bp.pdf\n",
      "weblogo -f /media/sf_LinuxShare/Projects/Lyna/CharSeqPipe/Nowa1_E/pear/MacAndIESDNABuffer2000RNABuffer15/ContactsInIESs/NOWA_E_S1_L002_R1_R1R2.trim.AssUnFUnR.RNAs.ContactsNearIES.dnabuffer2000.rnabuffer15.25bp.fa -t Nowa1_E_ContactsInIES_RNA_25bp -A dna -F pdf -C green A Adenine -C blue C Cytosine -C red T Thymine -C orange G Guanine > /media/sf_LinuxShare/Projects/Lyna/CharSeqPipe/Nowa1_E/pear/MacAndIESDNABuffer2000RNABuffer15/ContactsInIESs/Nowa1_E_ContactsInIES_RNA_25bp.pdf\n",
      "Weblogo made, output to file: /media/sf_LinuxShare/Projects/Lyna/CharSeqPipe/Nowa1_E/pear/MacAndIESDNABuffer2000RNABuffer15/ContactsInIESs/Nowa1_E_ContactsInIES_RNA_25bp.pdf\n"
     ]
    }
   ],
   "source": [
    "molecule = 'dna'\n",
    "outformat = 'pdf'\n",
    "extra = '-C green A Adenine -C blue C Cytosine -C red T Thymine -C orange G Guanine'\n",
    "# args = f'-f {fastafile} -t {title} -A {molecule} -F {outformat} -C green A Adenine -C blue C Cytosine -C red T Thymine -C orange G Guanine'\n",
    "\n",
    "fastafile = '/media/sf_LinuxShare/Projects/Lyna/CharSeqPipe/EV_E/pear/MacAndIESDNABuffer2000RNABuffer15/ContactsInMDSs/WT_E_L1_R1R2.trim.AssUnFUnR.RNAs.ContactsNearIES.dnabuffer0.rnabuffer0.25bp.fa'\n",
    "title = 'WT_E_ContactsInMDS_RNA_25bp'\n",
    "main(fastafile, title, molecule, outformat, extra)\n",
    "\n",
    "fastafile = '/media/sf_LinuxShare/Projects/Lyna/CharSeqPipe/EV_E/pear/MacAndIESDNABuffer2000RNABuffer15/ContactsInIESs/WT_E_L1_R1R2.trim.AssUnFUnR.RNAs.ContactsNearIES.dnabuffer2000.rnabuffer15.25bp.fa'\n",
    "title = 'WT_E_ContactsInIES_RNA_25bp'\n",
    "main(fastafile, title, molecule, outformat, extra)\n",
    "\n",
    "fastafile = '/media/sf_LinuxShare/Projects/Lyna/CharSeqPipe/EV_L/pear/MacAndIESDNABuffer2000RNABuffer15/ContactsInMDSs/WT_L_L1_R1R2.trim.AssUnFUnR.RNAs.ContactsNearIES.dnabuffer0.rnabuffer0.25bp.fa'\n",
    "title = 'WT_L_ContactsInMDS_RNA_25bp'\n",
    "main(fastafile, title, molecule, outformat, extra)\n",
    "\n",
    "fastafile = '/media/sf_LinuxShare/Projects/Lyna/CharSeqPipe/EV_L/pear/MacAndIESDNABuffer2000RNABuffer15/ContactsInIESs/WT_L_L1_R1R2.trim.AssUnFUnR.RNAs.ContactsNearIES.dnabuffer2000.rnabuffer15.25bp.fa'\n",
    "title = 'WT_L_ContactsInIES_RNA_25bp'\n",
    "main(fastafile, title, molecule, outformat, extra)\n",
    "\n",
    "fastafile = '/media/sf_LinuxShare/Projects/Lyna/CharSeqPipe/PGM_L/pear/MacAndIESDNABuffer2000RNABuffer15/ContactsInMDSs/PGM_L_S2_L002_R1_R1R2.trim.AssUnFUnR.RNAs.ContactsNearIES.dnabuffer0.rnabuffer0.25bp.fa'\n",
    "title = 'PGM_L_ContactsInMDS_RNA_25bp'\n",
    "main(fastafile, title, molecule, outformat, extra)\n",
    "\n",
    "fastafile = '/media/sf_LinuxShare/Projects/Lyna/CharSeqPipe/PGM_L/pear/MacAndIESDNABuffer2000RNABuffer15/ContactsInIESs/PGM_L_S2_L002_R1_R1R2.trim.AssUnFUnR.RNAs.ContactsNearIES.dnabuffer2000.rnabuffer15.25bp.fa'\n",
    "title = 'PGM_L_ContactsInIES_RNA_25bp'\n",
    "main(fastafile, title, molecule, outformat, extra)\n",
    "\n",
    "fastafile = '/media/sf_LinuxShare/Projects/Lyna/CharSeqPipe/Nowa1_E/pear/MacAndIESDNABuffer2000RNABuffer15/ContactsInMDSs/NOWA_E_S1_L002_R1_R1R2.trim.AssUnFUnR.RNAs.ContactsNearIES.dnabuffer0.rnabuffer0.25bp.fa'\n",
    "title = 'Nowa1_E_ContactsInMDS_RNA_25bp'\n",
    "main(fastafile, title, molecule, outformat, extra)\n",
    "\n",
    "fastafile = '/media/sf_LinuxShare/Projects/Lyna/CharSeqPipe/Nowa1_E/pear/MacAndIESDNABuffer2000RNABuffer15/ContactsInIESs/NOWA_E_S1_L002_R1_R1R2.trim.AssUnFUnR.RNAs.ContactsNearIES.dnabuffer2000.rnabuffer15.25bp.fa'\n",
    "title = 'Nowa1_E_ContactsInIES_RNA_25bp'\n",
    "main(fastafile, title, molecule, outformat, extra)"
   ]
  },
  {
   "cell_type": "code",
   "execution_count": 2,
   "metadata": {},
   "outputs": [
    {
     "name": "stdout",
     "output_type": "stream",
     "text": [
      "weblogo -f /media/sf_LinuxShare/Projects/Lyna/CharSeqPipe/EV_E/pear/MacAndIESDNABuffer2000RNABuffer15/ContactsInMDSs/WT_E_L1_R1R2.trim.AssUnFUnR.RNAs.ContactsNearIES.dnabuffer0.rnabuffer0.Short.28bp.fa -t WT_E_ContactsInMDS_RNA_28bp -A dna -F pdf -C green A Adenine -C blue C Cytosine -C red T Thymine -C orange G Guanine > /media/sf_LinuxShare/Projects/Lyna/CharSeqPipe/EV_E/pear/MacAndIESDNABuffer2000RNABuffer15/ContactsInMDSs/WT_E_ContactsInMDS_RNA_28bp.pdf\n",
      "Weblogo made, output to file: /media/sf_LinuxShare/Projects/Lyna/CharSeqPipe/EV_E/pear/MacAndIESDNABuffer2000RNABuffer15/ContactsInMDSs/WT_E_ContactsInMDS_RNA_28bp.pdf\n",
      "weblogo -f /media/sf_LinuxShare/Projects/Lyna/CharSeqPipe/EV_E/pear/MacAndIESDNABuffer2000RNABuffer15/ContactsInIESs/WT_E_L1_R1R2.trim.AssUnFUnR.RNAs.ContactsNearIES.dnabuffer2000.rnabuffer15.Short.28bp.fa -t WT_E_ContactsInIES_RNA_28bp -A dna -F pdf -C green A Adenine -C blue C Cytosine -C red T Thymine -C orange G Guanine > /media/sf_LinuxShare/Projects/Lyna/CharSeqPipe/EV_E/pear/MacAndIESDNABuffer2000RNABuffer15/ContactsInIESs/WT_E_ContactsInIES_RNA_28bp.pdf\n",
      "Weblogo made, output to file: /media/sf_LinuxShare/Projects/Lyna/CharSeqPipe/EV_E/pear/MacAndIESDNABuffer2000RNABuffer15/ContactsInIESs/WT_E_ContactsInIES_RNA_28bp.pdf\n",
      "weblogo -f /media/sf_LinuxShare/Projects/Lyna/CharSeqPipe/EV_L/pear/MacAndIESDNABuffer2000RNABuffer15/ContactsInMDSs/WT_L_L1_R1R2.trim.AssUnFUnR.RNAs.ContactsNearIES.dnabuffer0.rnabuffer0.Short.28bp.fa -t WT_L_ContactsInMDS_RNA_28bp -A dna -F pdf -C green A Adenine -C blue C Cytosine -C red T Thymine -C orange G Guanine > /media/sf_LinuxShare/Projects/Lyna/CharSeqPipe/EV_L/pear/MacAndIESDNABuffer2000RNABuffer15/ContactsInMDSs/WT_L_ContactsInMDS_RNA_28bp.pdf\n",
      "Weblogo made, output to file: /media/sf_LinuxShare/Projects/Lyna/CharSeqPipe/EV_L/pear/MacAndIESDNABuffer2000RNABuffer15/ContactsInMDSs/WT_L_ContactsInMDS_RNA_28bp.pdf\n",
      "weblogo -f /media/sf_LinuxShare/Projects/Lyna/CharSeqPipe/EV_L/pear/MacAndIESDNABuffer2000RNABuffer15/ContactsInIESs/WT_L_L1_R1R2.trim.AssUnFUnR.RNAs.ContactsNearIES.dnabuffer2000.rnabuffer15.Short.28bp.fa -t WT_L_ContactsInIES_RNA_28bp -A dna -F pdf -C green A Adenine -C blue C Cytosine -C red T Thymine -C orange G Guanine > /media/sf_LinuxShare/Projects/Lyna/CharSeqPipe/EV_L/pear/MacAndIESDNABuffer2000RNABuffer15/ContactsInIESs/WT_L_ContactsInIES_RNA_28bp.pdf\n",
      "Weblogo made, output to file: /media/sf_LinuxShare/Projects/Lyna/CharSeqPipe/EV_L/pear/MacAndIESDNABuffer2000RNABuffer15/ContactsInIESs/WT_L_ContactsInIES_RNA_28bp.pdf\n",
      "weblogo -f /media/sf_LinuxShare/Projects/Lyna/CharSeqPipe/PGM_L/pear/MacAndIESDNABuffer2000RNABuffer15/ContactsInMDSs/PGM_L_S2_L002_R1_R1R2.trim.AssUnFUnR.RNAs.ContactsNearIES.dnabuffer0.rnabuffer0.Short.28bp.fa -t PGM_L_ContactsInMDS_RNA_28bp -A dna -F pdf -C green A Adenine -C blue C Cytosine -C red T Thymine -C orange G Guanine > /media/sf_LinuxShare/Projects/Lyna/CharSeqPipe/PGM_L/pear/MacAndIESDNABuffer2000RNABuffer15/ContactsInMDSs/PGM_L_ContactsInMDS_RNA_28bp.pdf\n",
      "Weblogo made, output to file: /media/sf_LinuxShare/Projects/Lyna/CharSeqPipe/PGM_L/pear/MacAndIESDNABuffer2000RNABuffer15/ContactsInMDSs/PGM_L_ContactsInMDS_RNA_28bp.pdf\n",
      "weblogo -f /media/sf_LinuxShare/Projects/Lyna/CharSeqPipe/PGM_L/pear/MacAndIESDNABuffer2000RNABuffer15/ContactsInIESs/PGM_L_S2_L002_R1_R1R2.trim.AssUnFUnR.RNAs.ContactsNearIES.dnabuffer2000.rnabuffer15.Short.28bp.fa -t PGM_L_ContactsInIES_RNA_28bp -A dna -F pdf -C green A Adenine -C blue C Cytosine -C red T Thymine -C orange G Guanine > /media/sf_LinuxShare/Projects/Lyna/CharSeqPipe/PGM_L/pear/MacAndIESDNABuffer2000RNABuffer15/ContactsInIESs/PGM_L_ContactsInIES_RNA_28bp.pdf\n",
      "Weblogo made, output to file: /media/sf_LinuxShare/Projects/Lyna/CharSeqPipe/PGM_L/pear/MacAndIESDNABuffer2000RNABuffer15/ContactsInIESs/PGM_L_ContactsInIES_RNA_28bp.pdf\n",
      "weblogo -f /media/sf_LinuxShare/Projects/Lyna/CharSeqPipe/Nowa1_E/pear/MacAndIESDNABuffer2000RNABuffer15/ContactsInMDSs/NOWA_E_S1_L002_R1_R1R2.trim.AssUnFUnR.RNAs.ContactsNearIES.dnabuffer0.rnabuffer0.Short.28bp.fa -t Nowa1_E_ContactsInMDS_RNA_28bp -A dna -F pdf -C green A Adenine -C blue C Cytosine -C red T Thymine -C orange G Guanine > /media/sf_LinuxShare/Projects/Lyna/CharSeqPipe/Nowa1_E/pear/MacAndIESDNABuffer2000RNABuffer15/ContactsInMDSs/Nowa1_E_ContactsInMDS_RNA_28bp.pdf\n",
      "Weblogo made, output to file: /media/sf_LinuxShare/Projects/Lyna/CharSeqPipe/Nowa1_E/pear/MacAndIESDNABuffer2000RNABuffer15/ContactsInMDSs/Nowa1_E_ContactsInMDS_RNA_28bp.pdf\n",
      "weblogo -f /media/sf_LinuxShare/Projects/Lyna/CharSeqPipe/Nowa1_E/pear/MacAndIESDNABuffer2000RNABuffer15/ContactsInIESs/NOWA_E_S1_L002_R1_R1R2.trim.AssUnFUnR.RNAs.ContactsNearIES.dnabuffer2000.rnabuffer15.Short.28bp.fa -t Nowa1_E_ContactsInIES_RNA_28bp -A dna -F pdf -C green A Adenine -C blue C Cytosine -C red T Thymine -C orange G Guanine > /media/sf_LinuxShare/Projects/Lyna/CharSeqPipe/Nowa1_E/pear/MacAndIESDNABuffer2000RNABuffer15/ContactsInIESs/Nowa1_E_ContactsInIES_RNA_28bp.pdf\n",
      "Weblogo made, output to file: /media/sf_LinuxShare/Projects/Lyna/CharSeqPipe/Nowa1_E/pear/MacAndIESDNABuffer2000RNABuffer15/ContactsInIESs/Nowa1_E_ContactsInIES_RNA_28bp.pdf\n"
     ]
    }
   ],
   "source": [
    "molecule = 'dna'\n",
    "outformat = 'pdf'\n",
    "extra = '-C green A Adenine -C blue C Cytosine -C red T Thymine -C orange G Guanine'\n",
    "# args = f'-f {fastafile} -t {title} -A {molecule} -F {outformat} -C green A Adenine -C blue C Cytosine -C red T Thymine -C orange G Guanine'\n",
    "\n",
    "fastafile = '/media/sf_LinuxShare/Projects/Lyna/CharSeqPipe/EV_E/pear/MacAndIESDNABuffer2000RNABuffer15/ContactsInMDSs/WT_E_L1_R1R2.trim.AssUnFUnR.RNAs.ContactsNearIES.dnabuffer0.rnabuffer0.Short.28bp.fa'\n",
    "title = 'WT_E_ContactsInMDS_RNA_28bp'\n",
    "main(fastafile, title, molecule, outformat, extra)\n",
    "\n",
    "fastafile = '/media/sf_LinuxShare/Projects/Lyna/CharSeqPipe/EV_E/pear/MacAndIESDNABuffer2000RNABuffer15/ContactsInIESs/WT_E_L1_R1R2.trim.AssUnFUnR.RNAs.ContactsNearIES.dnabuffer2000.rnabuffer15.Short.28bp.fa'\n",
    "title = 'WT_E_ContactsInIES_RNA_28bp'\n",
    "main(fastafile, title, molecule, outformat, extra)\n",
    "\n",
    "fastafile = '/media/sf_LinuxShare/Projects/Lyna/CharSeqPipe/EV_L/pear/MacAndIESDNABuffer2000RNABuffer15/ContactsInMDSs/WT_L_L1_R1R2.trim.AssUnFUnR.RNAs.ContactsNearIES.dnabuffer0.rnabuffer0.Short.28bp.fa'\n",
    "title = 'WT_L_ContactsInMDS_RNA_28bp'\n",
    "main(fastafile, title, molecule, outformat, extra)\n",
    "\n",
    "fastafile = '/media/sf_LinuxShare/Projects/Lyna/CharSeqPipe/EV_L/pear/MacAndIESDNABuffer2000RNABuffer15/ContactsInIESs/WT_L_L1_R1R2.trim.AssUnFUnR.RNAs.ContactsNearIES.dnabuffer2000.rnabuffer15.Short.28bp.fa'\n",
    "title = 'WT_L_ContactsInIES_RNA_28bp'\n",
    "main(fastafile, title, molecule, outformat, extra)\n",
    "\n",
    "fastafile = '/media/sf_LinuxShare/Projects/Lyna/CharSeqPipe/PGM_L/pear/MacAndIESDNABuffer2000RNABuffer15/ContactsInMDSs/PGM_L_S2_L002_R1_R1R2.trim.AssUnFUnR.RNAs.ContactsNearIES.dnabuffer0.rnabuffer0.Short.28bp.fa'\n",
    "title = 'PGM_L_ContactsInMDS_RNA_28bp'\n",
    "main(fastafile, title, molecule, outformat, extra)\n",
    "\n",
    "fastafile = '/media/sf_LinuxShare/Projects/Lyna/CharSeqPipe/PGM_L/pear/MacAndIESDNABuffer2000RNABuffer15/ContactsInIESs/PGM_L_S2_L002_R1_R1R2.trim.AssUnFUnR.RNAs.ContactsNearIES.dnabuffer2000.rnabuffer15.Short.28bp.fa'\n",
    "title = 'PGM_L_ContactsInIES_RNA_28bp'\n",
    "main(fastafile, title, molecule, outformat, extra)\n",
    "\n",
    "fastafile = '/media/sf_LinuxShare/Projects/Lyna/CharSeqPipe/Nowa1_E/pear/MacAndIESDNABuffer2000RNABuffer15/ContactsInMDSs/NOWA_E_S1_L002_R1_R1R2.trim.AssUnFUnR.RNAs.ContactsNearIES.dnabuffer0.rnabuffer0.Short.28bp.fa'\n",
    "title = 'Nowa1_E_ContactsInMDS_RNA_28bp'\n",
    "main(fastafile, title, molecule, outformat, extra)\n",
    "\n",
    "fastafile = '/media/sf_LinuxShare/Projects/Lyna/CharSeqPipe/Nowa1_E/pear/MacAndIESDNABuffer2000RNABuffer15/ContactsInIESs/NOWA_E_S1_L002_R1_R1R2.trim.AssUnFUnR.RNAs.ContactsNearIES.dnabuffer2000.rnabuffer15.Short.28bp.fa'\n",
    "title = 'Nowa1_E_ContactsInIES_RNA_28bp'\n",
    "main(fastafile, title, molecule, outformat, extra)"
   ]
  },
  {
   "cell_type": "code",
   "execution_count": 2,
   "metadata": {},
   "outputs": [
    {
     "name": "stdout",
     "output_type": "stream",
     "text": [
      "weblogo -f /media/sf_LinuxShare/Projects/Lyna/CharSeqPipe/EV_E/pear/MacAndIESDNABuffer2000RNABuffer15/ContactsInMDSs/WT_E_L1_R1R2.trim.AssUnFUnR.RNAs.ContactsNearIES.dnabuffer0.rnabuffer0.Short.27bp.fa -t WT_E_ContactsInMDS_RNA_27bp -A dna -F pdf -C green A Adenine -C blue C Cytosine -C red T Thymine -C orange G Guanine > /media/sf_LinuxShare/Projects/Lyna/CharSeqPipe/EV_E/pear/MacAndIESDNABuffer2000RNABuffer15/ContactsInMDSs/WT_E_ContactsInMDS_RNA_27bp.pdf\n",
      "Weblogo made, output to file: /media/sf_LinuxShare/Projects/Lyna/CharSeqPipe/EV_E/pear/MacAndIESDNABuffer2000RNABuffer15/ContactsInMDSs/WT_E_ContactsInMDS_RNA_27bp.pdf\n",
      "weblogo -f /media/sf_LinuxShare/Projects/Lyna/CharSeqPipe/EV_E/pear/MacAndIESDNABuffer2000RNABuffer15/ContactsInIESs/WT_E_L1_R1R2.trim.AssUnFUnR.RNAs.ContactsNearIES.dnabuffer2000.rnabuffer15.Short.27bp.fa -t WT_E_ContactsInIES_RNA_27bp -A dna -F pdf -C green A Adenine -C blue C Cytosine -C red T Thymine -C orange G Guanine > /media/sf_LinuxShare/Projects/Lyna/CharSeqPipe/EV_E/pear/MacAndIESDNABuffer2000RNABuffer15/ContactsInIESs/WT_E_ContactsInIES_RNA_27bp.pdf\n",
      "Weblogo made, output to file: /media/sf_LinuxShare/Projects/Lyna/CharSeqPipe/EV_E/pear/MacAndIESDNABuffer2000RNABuffer15/ContactsInIESs/WT_E_ContactsInIES_RNA_27bp.pdf\n",
      "weblogo -f /media/sf_LinuxShare/Projects/Lyna/CharSeqPipe/EV_L/pear/MacAndIESDNABuffer2000RNABuffer15/ContactsInMDSs/WT_L_L1_R1R2.trim.AssUnFUnR.RNAs.ContactsNearIES.dnabuffer0.rnabuffer0.Short.27bp.fa -t WT_L_ContactsInMDS_RNA_27bp -A dna -F pdf -C green A Adenine -C blue C Cytosine -C red T Thymine -C orange G Guanine > /media/sf_LinuxShare/Projects/Lyna/CharSeqPipe/EV_L/pear/MacAndIESDNABuffer2000RNABuffer15/ContactsInMDSs/WT_L_ContactsInMDS_RNA_27bp.pdf\n",
      "Weblogo made, output to file: /media/sf_LinuxShare/Projects/Lyna/CharSeqPipe/EV_L/pear/MacAndIESDNABuffer2000RNABuffer15/ContactsInMDSs/WT_L_ContactsInMDS_RNA_27bp.pdf\n",
      "weblogo -f /media/sf_LinuxShare/Projects/Lyna/CharSeqPipe/EV_L/pear/MacAndIESDNABuffer2000RNABuffer15/ContactsInIESs/WT_L_L1_R1R2.trim.AssUnFUnR.RNAs.ContactsNearIES.dnabuffer2000.rnabuffer15.Short.27bp.fa -t WT_L_ContactsInIES_RNA_27bp -A dna -F pdf -C green A Adenine -C blue C Cytosine -C red T Thymine -C orange G Guanine > /media/sf_LinuxShare/Projects/Lyna/CharSeqPipe/EV_L/pear/MacAndIESDNABuffer2000RNABuffer15/ContactsInIESs/WT_L_ContactsInIES_RNA_27bp.pdf\n",
      "Weblogo made, output to file: /media/sf_LinuxShare/Projects/Lyna/CharSeqPipe/EV_L/pear/MacAndIESDNABuffer2000RNABuffer15/ContactsInIESs/WT_L_ContactsInIES_RNA_27bp.pdf\n",
      "weblogo -f /media/sf_LinuxShare/Projects/Lyna/CharSeqPipe/PGM_L/pear/MacAndIESDNABuffer2000RNABuffer15/ContactsInMDSs/PGM_L_S2_L002_R1_R1R2.trim.AssUnFUnR.RNAs.ContactsNearIES.dnabuffer0.rnabuffer0.Short.27bp.fa -t PGM_L_ContactsInMDS_RNA_27bp -A dna -F pdf -C green A Adenine -C blue C Cytosine -C red T Thymine -C orange G Guanine > /media/sf_LinuxShare/Projects/Lyna/CharSeqPipe/PGM_L/pear/MacAndIESDNABuffer2000RNABuffer15/ContactsInMDSs/PGM_L_ContactsInMDS_RNA_27bp.pdf\n",
      "Weblogo made, output to file: /media/sf_LinuxShare/Projects/Lyna/CharSeqPipe/PGM_L/pear/MacAndIESDNABuffer2000RNABuffer15/ContactsInMDSs/PGM_L_ContactsInMDS_RNA_27bp.pdf\n",
      "weblogo -f /media/sf_LinuxShare/Projects/Lyna/CharSeqPipe/PGM_L/pear/MacAndIESDNABuffer2000RNABuffer15/ContactsInIESs/PGM_L_S2_L002_R1_R1R2.trim.AssUnFUnR.RNAs.ContactsNearIES.dnabuffer2000.rnabuffer15.Short.27bp.fa -t PGM_L_ContactsInIES_RNA_27bp -A dna -F pdf -C green A Adenine -C blue C Cytosine -C red T Thymine -C orange G Guanine > /media/sf_LinuxShare/Projects/Lyna/CharSeqPipe/PGM_L/pear/MacAndIESDNABuffer2000RNABuffer15/ContactsInIESs/PGM_L_ContactsInIES_RNA_27bp.pdf\n",
      "Weblogo made, output to file: /media/sf_LinuxShare/Projects/Lyna/CharSeqPipe/PGM_L/pear/MacAndIESDNABuffer2000RNABuffer15/ContactsInIESs/PGM_L_ContactsInIES_RNA_27bp.pdf\n",
      "weblogo -f /media/sf_LinuxShare/Projects/Lyna/CharSeqPipe/Nowa1_E/pear/MacAndIESDNABuffer2000RNABuffer15/ContactsInMDSs/NOWA_E_S1_L002_R1_R1R2.trim.AssUnFUnR.RNAs.ContactsNearIES.dnabuffer0.rnabuffer0.Short.27bp.fa -t Nowa1_E_ContactsInMDS_RNA_27bp -A dna -F pdf -C green A Adenine -C blue C Cytosine -C red T Thymine -C orange G Guanine > /media/sf_LinuxShare/Projects/Lyna/CharSeqPipe/Nowa1_E/pear/MacAndIESDNABuffer2000RNABuffer15/ContactsInMDSs/Nowa1_E_ContactsInMDS_RNA_27bp.pdf\n",
      "Weblogo made, output to file: /media/sf_LinuxShare/Projects/Lyna/CharSeqPipe/Nowa1_E/pear/MacAndIESDNABuffer2000RNABuffer15/ContactsInMDSs/Nowa1_E_ContactsInMDS_RNA_27bp.pdf\n",
      "weblogo -f /media/sf_LinuxShare/Projects/Lyna/CharSeqPipe/Nowa1_E/pear/MacAndIESDNABuffer2000RNABuffer15/ContactsInIESs/NOWA_E_S1_L002_R1_R1R2.trim.AssUnFUnR.RNAs.ContactsNearIES.dnabuffer2000.rnabuffer15.Short.27bp.fa -t Nowa1_E_ContactsInIES_RNA_27bp -A dna -F pdf -C green A Adenine -C blue C Cytosine -C red T Thymine -C orange G Guanine > /media/sf_LinuxShare/Projects/Lyna/CharSeqPipe/Nowa1_E/pear/MacAndIESDNABuffer2000RNABuffer15/ContactsInIESs/Nowa1_E_ContactsInIES_RNA_27bp.pdf\n",
      "Weblogo made, output to file: /media/sf_LinuxShare/Projects/Lyna/CharSeqPipe/Nowa1_E/pear/MacAndIESDNABuffer2000RNABuffer15/ContactsInIESs/Nowa1_E_ContactsInIES_RNA_27bp.pdf\n"
     ]
    }
   ],
   "source": [
    "molecule = 'dna'\n",
    "outformat = 'pdf'\n",
    "extra = '-C green A Adenine -C blue C Cytosine -C red T Thymine -C orange G Guanine'\n",
    "# args = f'-f {fastafile} -t {title} -A {molecule} -F {outformat} -C green A Adenine -C blue C Cytosine -C red T Thymine -C orange G Guanine'\n",
    "\n",
    "fastafile = '/media/sf_LinuxShare/Projects/Lyna/CharSeqPipe/EV_E/pear/MacAndIESDNABuffer2000RNABuffer15/ContactsInMDSs/WT_E_L1_R1R2.trim.AssUnFUnR.RNAs.ContactsNearIES.dnabuffer0.rnabuffer0.Short.27bp.fa'\n",
    "title = 'WT_E_ContactsInMDS_RNA_27bp'\n",
    "main(fastafile, title, molecule, outformat, extra)\n",
    "\n",
    "fastafile = '/media/sf_LinuxShare/Projects/Lyna/CharSeqPipe/EV_E/pear/MacAndIESDNABuffer2000RNABuffer15/ContactsInIESs/WT_E_L1_R1R2.trim.AssUnFUnR.RNAs.ContactsNearIES.dnabuffer2000.rnabuffer15.Short.27bp.fa'\n",
    "title = 'WT_E_ContactsInIES_RNA_27bp'\n",
    "main(fastafile, title, molecule, outformat, extra)\n",
    "\n",
    "fastafile = '/media/sf_LinuxShare/Projects/Lyna/CharSeqPipe/EV_L/pear/MacAndIESDNABuffer2000RNABuffer15/ContactsInMDSs/WT_L_L1_R1R2.trim.AssUnFUnR.RNAs.ContactsNearIES.dnabuffer0.rnabuffer0.Short.27bp.fa'\n",
    "title = 'WT_L_ContactsInMDS_RNA_27bp'\n",
    "main(fastafile, title, molecule, outformat, extra)\n",
    "\n",
    "fastafile = '/media/sf_LinuxShare/Projects/Lyna/CharSeqPipe/EV_L/pear/MacAndIESDNABuffer2000RNABuffer15/ContactsInIESs/WT_L_L1_R1R2.trim.AssUnFUnR.RNAs.ContactsNearIES.dnabuffer2000.rnabuffer15.Short.27bp.fa'\n",
    "title = 'WT_L_ContactsInIES_RNA_27bp'\n",
    "main(fastafile, title, molecule, outformat, extra)\n",
    "\n",
    "fastafile = '/media/sf_LinuxShare/Projects/Lyna/CharSeqPipe/PGM_L/pear/MacAndIESDNABuffer2000RNABuffer15/ContactsInMDSs/PGM_L_S2_L002_R1_R1R2.trim.AssUnFUnR.RNAs.ContactsNearIES.dnabuffer0.rnabuffer0.Short.27bp.fa'\n",
    "title = 'PGM_L_ContactsInMDS_RNA_27bp'\n",
    "main(fastafile, title, molecule, outformat, extra)\n",
    "\n",
    "fastafile = '/media/sf_LinuxShare/Projects/Lyna/CharSeqPipe/PGM_L/pear/MacAndIESDNABuffer2000RNABuffer15/ContactsInIESs/PGM_L_S2_L002_R1_R1R2.trim.AssUnFUnR.RNAs.ContactsNearIES.dnabuffer2000.rnabuffer15.Short.27bp.fa'\n",
    "title = 'PGM_L_ContactsInIES_RNA_27bp'\n",
    "main(fastafile, title, molecule, outformat, extra)\n",
    "\n",
    "fastafile = '/media/sf_LinuxShare/Projects/Lyna/CharSeqPipe/Nowa1_E/pear/MacAndIESDNABuffer2000RNABuffer15/ContactsInMDSs/NOWA_E_S1_L002_R1_R1R2.trim.AssUnFUnR.RNAs.ContactsNearIES.dnabuffer0.rnabuffer0.Short.27bp.fa'\n",
    "title = 'Nowa1_E_ContactsInMDS_RNA_27bp'\n",
    "main(fastafile, title, molecule, outformat, extra)\n",
    "\n",
    "fastafile = '/media/sf_LinuxShare/Projects/Lyna/CharSeqPipe/Nowa1_E/pear/MacAndIESDNABuffer2000RNABuffer15/ContactsInIESs/NOWA_E_S1_L002_R1_R1R2.trim.AssUnFUnR.RNAs.ContactsNearIES.dnabuffer2000.rnabuffer15.Short.27bp.fa'\n",
    "title = 'Nowa1_E_ContactsInIES_RNA_27bp'\n",
    "main(fastafile, title, molecule, outformat, extra)"
   ]
  },
  {
   "cell_type": "code",
   "execution_count": null,
   "metadata": {},
   "outputs": [],
   "source": []
  }
 ],
 "metadata": {
  "kernelspec": {
   "display_name": "Python 3",
   "language": "python",
   "name": "python3"
  },
  "language_info": {
   "codemirror_mode": {
    "name": "ipython",
    "version": 3
   },
   "file_extension": ".py",
   "mimetype": "text/x-python",
   "name": "python",
   "nbconvert_exporter": "python",
   "pygments_lexer": "ipython3",
   "version": "3.7.4"
  }
 },
 "nbformat": 4,
 "nbformat_minor": 4
}
