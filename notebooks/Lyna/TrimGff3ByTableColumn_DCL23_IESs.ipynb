{
 "cells": [
  {
   "cell_type": "code",
   "execution_count": 7,
   "metadata": {},
   "outputs": [
    {
     "name": "stdout",
     "output_type": "stream",
     "text": [
      "The autoreload extension is already loaded. To reload it, use:\n",
      "  %reload_ext autoreload\n",
      "2021-12-09 15:59:03.932468\n"
     ]
    }
   ],
   "source": [
    "%load_ext autoreload\n",
    "%autoreload 2\n",
    "import datetime\n",
    "print(datetime.datetime.now())\n",
    "\n",
    "from pygentoolbox import TrimGff3ByTableColumn\n",
    "#dir(pygentoolbox.Tools)\n",
    "%matplotlib inline\n",
    "import matplotlib.pyplot as plt"
   ]
  },
  {
   "cell_type": "code",
   "execution_count": 8,
   "metadata": {},
   "outputs": [
    {
     "name": "stdout",
     "output_type": "stream",
     "text": [
      "Reading Gff3 file: /media/sf_LinuxShare/Ciliates/Genomes/Annotations/internal_eliminated_sequence_PGM_ParTIES.pt_51_with_ies.gff3\n",
      "Number of features: 44928\n",
      "Reading table file: /media/sf_LinuxShare/Ciliates/Genomes/Annotations/newest_retention_scores.tsv\n",
      "Number of rows in table: 44882\n",
      "NA column values excluded\n",
      "Output file: /media/sf_LinuxShare/Ciliates/Genomes/Annotations/internal_eliminated_sequence_PGM_ParTIES.pt_51_with_ies.trim.DCL2_3.0.1.up.gff3\n",
      "Output file: /media/sf_LinuxShare/Ciliates/Genomes/Annotations/internal_eliminated_sequence_PGM_ParTIES.pt_51_with_ies.trim.DCL2_3.0.1.down.gff3\n"
     ]
    }
   ],
   "source": [
    "gff3 = '/media/sf_LinuxShare/Ciliates/Genomes/Annotations/internal_eliminated_sequence_PGM_ParTIES.pt_51_with_ies.gff3'\n",
    "table = '/media/sf_LinuxShare/Ciliates/Genomes/Annotations/newest_retention_scores.tsv'\n",
    "column = 2  # 0 based\n",
    "cutoff = 0.1  # ies cutoff value for example\n",
    "\n",
    "TrimGff3ByTableColumn.main(gff3, table, column, cutoff)"
   ]
  },
  {
   "cell_type": "code",
   "execution_count": null,
   "metadata": {},
   "outputs": [],
   "source": []
  }
 ],
 "metadata": {
  "kernelspec": {
   "display_name": "Python 3",
   "language": "python",
   "name": "python3"
  },
  "language_info": {
   "codemirror_mode": {
    "name": "ipython",
    "version": 3
   },
   "file_extension": ".py",
   "mimetype": "text/x-python",
   "name": "python",
   "nbconvert_exporter": "python",
   "pygments_lexer": "ipython3",
   "version": "3.7.4"
  }
 },
 "nbformat": 4,
 "nbformat_minor": 4
}
