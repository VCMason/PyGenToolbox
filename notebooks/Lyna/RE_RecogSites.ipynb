{
 "cells": [
  {
   "cell_type": "code",
   "execution_count": 1,
   "metadata": {},
   "outputs": [],
   "source": [
    "%load_ext autoreload\n",
    "%autoreload 2"
   ]
  },
  {
   "cell_type": "code",
   "execution_count": 2,
   "metadata": {},
   "outputs": [
    {
     "name": "stdin",
     "output_type": "stream",
     "text": [
      "Enter full path to file:  D:\\\\LinuxShare\\\\Ciliates\\\\Genomes\\\\Seqs\\\\ptetraurelia_mac_51.fa\n",
      "Enter restriction enzyme pattern, ex. GATC:  GATC\n"
     ]
    },
    {
     "name": "stdout",
     "output_type": "stream",
     "text": [
      "D:\\\\LinuxShare\\\\Ciliates\\\\Genomes\\\\Seqs\\\\ptetraurelia_mac_51.fa\n",
      "Number of sequences: 697\n",
      "Number of RE sites matching GATC: 213181\n",
      "Expected number of RE recognition sites for sequence of length 72102941 and pattern of length 4 = 281652\n"
     ]
    }
   ],
   "source": [
    "from pygentoolbox.CountRESites import main_CountRESites"
   ]
  },
  {
   "cell_type": "code",
   "execution_count": 3,
   "metadata": {},
   "outputs": [
    {
     "name": "stdin",
     "output_type": "stream",
     "text": [
      "Enter full path to file:  D:\\\\LinuxShare\\\\Ciliates\\\\Genomes\\\\Seqs\\\\ptetraurelia_mac_51_with_ies.fa\n",
      "Enter restriction enzyme pattern, ex. GATC:  GATC\n"
     ]
    },
    {
     "name": "stdout",
     "output_type": "stream",
     "text": [
      "D:\\\\LinuxShare\\\\Ciliates\\\\Genomes\\\\Seqs\\\\ptetraurelia_mac_51_with_ies.fa\n",
      "Number of sequences: 697\n",
      "Number of RE sites matching GATC: 218732\n",
      "Expected number of RE recognition sites for sequence of length 75658061 and pattern of length 4 = 295539\n"
     ]
    }
   ],
   "source": [
    "main_CountRESites()"
   ]
  },
  {
   "cell_type": "code",
   "execution_count": 4,
   "metadata": {},
   "outputs": [
    {
     "name": "stdin",
     "output_type": "stream",
     "text": [
      "Enter full path to file:  D:\\\\LinuxShare\\\\Ciliates\\\\Genomes\\\\Seqs\\\\ptetraurelia_mic2.fa\n",
      "Enter restriction enzyme pattern, ex. GATC:  GATC\n"
     ]
    },
    {
     "name": "stdout",
     "output_type": "stream",
     "text": [
      "D:\\\\LinuxShare\\\\Ciliates\\\\Genomes\\\\Seqs\\\\ptetraurelia_mic2.fa\n",
      "Number of sequences: 26186\n",
      "Number of RE sites matching GATC: 270788\n",
      "Expected number of RE recognition sites for sequence of length 98489268 and pattern of length 4 = 384723\n"
     ]
    }
   ],
   "source": [
    "main_CountRESites()"
   ]
  },
  {
   "cell_type": "code",
   "execution_count": null,
   "metadata": {},
   "outputs": [],
   "source": []
  }
 ],
 "metadata": {
  "kernelspec": {
   "display_name": "Python 3",
   "language": "python",
   "name": "python3"
  },
  "language_info": {
   "codemirror_mode": {
    "name": "ipython",
    "version": 3
   },
   "file_extension": ".py",
   "mimetype": "text/x-python",
   "name": "python",
   "nbconvert_exporter": "python",
   "pygments_lexer": "ipython3",
   "version": "3.7.4"
  }
 },
 "nbformat": 4,
 "nbformat_minor": 4
}
