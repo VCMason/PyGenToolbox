{
 "cells": [
  {
   "cell_type": "code",
   "execution_count": 5,
   "metadata": {},
   "outputs": [
    {
     "name": "stdout",
     "output_type": "stream",
     "text": [
      "The autoreload extension is already loaded. To reload it, use:\n",
      "  %reload_ext autoreload\n",
      "2020-06-26 08:53:54.326914\n"
     ]
    }
   ],
   "source": [
    "%load_ext autoreload\n",
    "%autoreload 2\n",
    "import datetime\n",
    "import os\n",
    "print(datetime.datetime.now())\n",
    "\n",
    "from pygentoolbox import CircosFilterContactFile\n",
    "# from pygentoolbox.Tools import read_interleaved_fasta_as_noninterleaved\n",
    "# from pygentoolbox.Tools import make_circos_karyotype_file\n",
    "#dir(pygentoolbox.Tools)\n",
    "%matplotlib inline\n",
    "import matplotlib.pyplot as plt"
   ]
  },
  {
   "cell_type": "code",
   "execution_count": 11,
   "metadata": {},
   "outputs": [
    {
     "name": "stdout",
     "output_type": "stream",
     "text": [
      "Number of lines in input file: D:\\LinuxShare\\Projects\\Lyna\\CharSeqPipe\\EV_E_50MilReads\\circos\\RNA.DNA.Contacts.pt.wthickness.log2.d2.txt = 1427454\n",
      "Number of lines in output file: D:\\LinuxShare\\Projects\\Lyna\\CharSeqPipe\\EV_E_50MilReads\\circos\\RNA.DNA.Contacts.pt.wthickness.log2.d2.Cutoff3.00.txt = 9149\n"
     ]
    }
   ],
   "source": [
    "# f is full path to circos contact file\n",
    "# cutoff is the lower limit of contact thickness allowed for it to be kept in file\n",
    "\n",
    "# example contact file lines, space delimited file\n",
    "# pt1 1591 1592 pt1 376344 376345 thickness=2.321928094887362p\n",
    "# pt1 1591 1592 pt511 2589 2590 thickness=1.0p\n",
    "# pt1 1705 1706 pt29 188715 188716 thickness=1.0p\n",
    "# pt1 2066 2067 pt96 177358 177359 thickness=2.0p\n",
    "\n",
    "f = 'D:\\\\LinuxShare\\\\Projects\\\\Lyna\\\\CharSeqPipe\\\\EV_E_50MilReads\\\\circos\\\\RNA.DNA.Contacts.pt.wthickness.log2.d2.txt'\n",
    "cutoff = 3.0\n",
    "\n",
    "CircosFilterContactFile.main(f, cutoff)"
   ]
  },
  {
   "cell_type": "code",
   "execution_count": 10,
   "metadata": {},
   "outputs": [
    {
     "name": "stdout",
     "output_type": "stream",
     "text": [
      "Number of lines in input file: D:\\LinuxShare\\Projects\\Lyna\\CharSeqPipe\\EV_E_50MilReads\\circos\\RNA.DNA.Contacts.pt.wthickness.log2.d2.txt = 1427454\n",
      "Number of lines in output file: D:\\LinuxShare\\Projects\\Lyna\\CharSeqPipe\\EV_E_50MilReads\\circos\\RNA.DNA.Contacts.pt.wthickness.log2.d2.Cutoff3.50.txt = 318\n"
     ]
    }
   ],
   "source": [
    "# f is full path to circos contact file\n",
    "# cutoff is the lower limit of contact thickness allowed for it to be kept in file\n",
    "\n",
    "# example contact file lines, space delimited file\n",
    "# pt1 1591 1592 pt1 376344 376345 thickness=2.321928094887362p\n",
    "# pt1 1591 1592 pt511 2589 2590 thickness=1.0p\n",
    "# pt1 1705 1706 pt29 188715 188716 thickness=1.0p\n",
    "# pt1 2066 2067 pt96 177358 177359 thickness=2.0p\n",
    "\n",
    "f = 'D:\\\\LinuxShare\\\\Projects\\\\Lyna\\\\CharSeqPipe\\\\EV_E_50MilReads\\\\circos\\\\RNA.DNA.Contacts.pt.wthickness.log2.d2.txt'\n",
    "cutoff = 3.5\n",
    "\n",
    "CircosFilterContactFile.main(f, cutoff)"
   ]
  },
  {
   "cell_type": "code",
   "execution_count": 12,
   "metadata": {},
   "outputs": [
    {
     "name": "stdout",
     "output_type": "stream",
     "text": [
      "Number of lines in input file: D:\\LinuxShare\\Projects\\Lyna\\CharSeqPipe\\EV_E_50MilReads\\circos\\RNA.DNA.Contacts.pt.wthickness.log2.d2.txt = 1427454\n",
      "Number of lines in output file: D:\\LinuxShare\\Projects\\Lyna\\CharSeqPipe\\EV_E_50MilReads\\circos\\RNA.DNA.Contacts.pt.wthickness.log2.d2.Cutoff4.00.txt = 9\n"
     ]
    }
   ],
   "source": [
    "# f is full path to circos contact file\n",
    "# cutoff is the lower limit of contact thickness allowed for it to be kept in file\n",
    "\n",
    "# example contact file lines, space delimited file\n",
    "# pt1 1591 1592 pt1 376344 376345 thickness=2.321928094887362p\n",
    "# pt1 1591 1592 pt511 2589 2590 thickness=1.0p\n",
    "# pt1 1705 1706 pt29 188715 188716 thickness=1.0p\n",
    "# pt1 2066 2067 pt96 177358 177359 thickness=2.0p\n",
    "\n",
    "f = 'D:\\\\LinuxShare\\\\Projects\\\\Lyna\\\\CharSeqPipe\\\\EV_E_50MilReads\\\\circos\\\\RNA.DNA.Contacts.pt.wthickness.log2.d2.txt'\n",
    "cutoff = 4.0\n",
    "\n",
    "CircosFilterContactFile.main(f, cutoff)"
   ]
  },
  {
   "cell_type": "code",
   "execution_count": 13,
   "metadata": {},
   "outputs": [
    {
     "name": "stdout",
     "output_type": "stream",
     "text": [
      "Number of lines in input file: D:\\LinuxShare\\Projects\\Lyna\\CharSeqPipe\\EV_E_50MilReads\\circos\\RNA.DNA.Contacts.pt.wthickness.log2.d2.txt = 1427454\n",
      "Number of lines in output file: D:\\LinuxShare\\Projects\\Lyna\\CharSeqPipe\\EV_E_50MilReads\\circos\\RNA.DNA.Contacts.pt.wthickness.log2.d2.Cutoff5.00.txt = 0\n"
     ]
    }
   ],
   "source": [
    "# f is full path to circos contact file\n",
    "# cutoff is the lower limit of contact thickness allowed for it to be kept in file\n",
    "\n",
    "# example contact file lines, space delimited file\n",
    "# pt1 1591 1592 pt1 376344 376345 thickness=2.321928094887362p\n",
    "# pt1 1591 1592 pt511 2589 2590 thickness=1.0p\n",
    "# pt1 1705 1706 pt29 188715 188716 thickness=1.0p\n",
    "# pt1 2066 2067 pt96 177358 177359 thickness=2.0p\n",
    "\n",
    "f = 'D:\\\\LinuxShare\\\\Projects\\\\Lyna\\\\CharSeqPipe\\\\EV_E_50MilReads\\\\circos\\\\RNA.DNA.Contacts.pt.wthickness.log2.d2.txt'\n",
    "cutoff = 5.0\n",
    "\n",
    "CircosFilterContactFile.main(f, cutoff)"
   ]
  },
  {
   "cell_type": "code",
   "execution_count": 4,
   "metadata": {},
   "outputs": [
    {
     "name": "stdout",
     "output_type": "stream",
     "text": [
      "Number of lines in input file: /media/sf_LinuxShare/Projects/Lyna/CharSeqPipe/EV_E_50MilReads/hisat2/RNA.DNA.Contacts.pt.wthickness.txt = 3994723\n",
      "Number of lines in output file: /media/sf_LinuxShare/Projects/Lyna/CharSeqPipe/EV_E_50MilReads/hisat2/RNA.DNA.Contacts.pt.wthickness.Cutoff15.00.txt = 26\n"
     ]
    }
   ],
   "source": [
    "# f is full path to circos contact file\n",
    "# cutoff is the lower limit of contact thickness allowed for it to be kept in file\n",
    "\n",
    "# example contact file lines, space delimited file\n",
    "# pt1 1591 1592 pt1 376344 376345 thickness=2.321928094887362p\n",
    "# pt1 1591 1592 pt511 2589 2590 thickness=1.0p\n",
    "# pt1 1705 1706 pt29 188715 188716 thickness=1.0p\n",
    "# pt1 2066 2067 pt96 177358 177359 thickness=2.0p\n",
    "\n",
    "# f = 'D:\\\\LinuxShare\\\\Projects\\\\Lyna\\\\CharSeqPipe\\\\EV_E_50MilReads\\\\circos\\\\RNA.DNA.Contacts.pt.wthickness.txt'\n",
    "f = '/media/sf_LinuxShare/Projects/Lyna/CharSeqPipe/EV_E_50MilReads/hisat2/RNA.DNA.Contacts.pt.wthickness.txt'\n",
    "cutoff = 15\n",
    "\n",
    "CircosFilterContactFile.main(f, cutoff)"
   ]
  },
  {
   "cell_type": "code",
   "execution_count": 10,
   "metadata": {},
   "outputs": [
    {
     "name": "stdout",
     "output_type": "stream",
     "text": [
      "Number of lines in input file: /media/sf_LinuxShare/Projects/Lyna/CharSeqPipe/EV_E_50MilReads/circos/RNA.DNA.Contacts.pt.wthickness.Win300.MQ0.NormDPNIIrounded.tsv = 1602542\n",
      "Number of lines in output file: /media/sf_LinuxShare/Projects/Lyna/CharSeqPipe/EV_E_50MilReads/circos/RNA.DNA.Contacts.pt.wthickness.Win300.MQ0.NormDPNIIrounded.Cutoff14.00.txt = 34\n"
     ]
    }
   ],
   "source": [
    "# f is full path to circos contact file\n",
    "# cutoff is the lower limit of contact thickness allowed for it to be kept in file\n",
    "\n",
    "# example contact file lines, space delimited file\n",
    "# pt1 1591 1592 pt1 376344 376345 thickness=2.321928094887362p\n",
    "# pt1 1591 1592 pt511 2589 2590 thickness=1.0p\n",
    "# pt1 1705 1706 pt29 188715 188716 thickness=1.0p\n",
    "# pt1 2066 2067 pt96 177358 177359 thickness=2.0p\n",
    "\n",
    "# f = 'D:\\\\LinuxShare\\\\Projects\\\\Lyna\\\\CharSeqPipe\\\\EV_E_50MilReads\\\\circos\\\\RNA.DNA.Contacts.pt.wthickness.txt'\n",
    "f = '/media/sf_LinuxShare/Projects/Lyna/CharSeqPipe/EV_E_50MilReads/circos/RNA.DNA.Contacts.pt.wthickness.Win300.MQ0.NormDPNIIrounded.tsv'\n",
    "cutoff = 14\n",
    "\n",
    "CircosFilterContactFile.main(f, cutoff)"
   ]
  },
  {
   "cell_type": "code",
   "execution_count": 6,
   "metadata": {},
   "outputs": [
    {
     "name": "stdout",
     "output_type": "stream",
     "text": [
      "Number of lines in input file: /media/sf_LinuxShare/Projects/Lyna/CharSeqPipe/EV_E_50MilReads/hisat2/RNA.DNA.Contacts.pt.wthickness.Win300.MQ0.NormDPNIIrounded.tsv = 1602542\n",
      "Number of lines in output file: /media/sf_LinuxShare/Projects/Lyna/CharSeqPipe/EV_E_50MilReads/hisat2/RNA.DNA.Contacts.pt.wthickness.Win300.MQ0.NormDPNIIrounded.Cutoff15.00.txt = 10\n"
     ]
    }
   ],
   "source": [
    "# f is full path to circos contact file\n",
    "# cutoff is the lower limit of contact thickness allowed for it to be kept in file\n",
    "\n",
    "# example contact file lines, space delimited file\n",
    "# pt1 1591 1592 pt1 376344 376345 thickness=2.321928094887362p\n",
    "# pt1 1591 1592 pt511 2589 2590 thickness=1.0p\n",
    "# pt1 1705 1706 pt29 188715 188716 thickness=1.0p\n",
    "# pt1 2066 2067 pt96 177358 177359 thickness=2.0p\n",
    "\n",
    "# f = 'D:\\\\LinuxShare\\\\Projects\\\\Lyna\\\\CharSeqPipe\\\\EV_E_50MilReads\\\\circos\\\\RNA.DNA.Contacts.pt.wthickness.txt'\n",
    "f = '/media/sf_LinuxShare/Projects/Lyna/CharSeqPipe/EV_E_50MilReads/circos/RNA.DNA.Contacts.pt.wthickness.Win300.MQ0.NormDPNIIrounded.tsv'\n",
    "cutoff = 15\n",
    "\n",
    "CircosFilterContactFile.main(f, cutoff)"
   ]
  },
  {
   "cell_type": "code",
   "execution_count": null,
   "metadata": {},
   "outputs": [],
   "source": []
  }
 ],
 "metadata": {
  "kernelspec": {
   "display_name": "Python 3",
   "language": "python",
   "name": "python3"
  },
  "language_info": {
   "codemirror_mode": {
    "name": "ipython",
    "version": 3
   },
   "file_extension": ".py",
   "mimetype": "text/x-python",
   "name": "python",
   "nbconvert_exporter": "python",
   "pygments_lexer": "ipython3",
   "version": "3.7.4"
  }
 },
 "nbformat": 4,
 "nbformat_minor": 4
}
