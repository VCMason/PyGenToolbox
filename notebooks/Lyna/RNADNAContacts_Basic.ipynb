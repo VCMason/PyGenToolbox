{
 "cells": [
  {
   "cell_type": "code",
   "execution_count": null,
   "metadata": {},
   "outputs": [],
   "source": []
  },
  {
   "cell_type": "raw",
   "metadata": {},
   "source": [
    "%load_ext autoreload\n",
    "%autoreload 2\n",
    "import datetime\n",
    "import os\n",
    "print(datetime.datetime.now())\n",
    "\n",
    "from pygentoolbox.RecordRNADNAContacts import main\n",
    "#dir(pygentoolbox.Tools)\n",
    "%matplotlib inline\n",
    "import matplotlib.pyplot as plt"
   ]
  },
  {
   "cell_type": "code",
   "execution_count": 14,
   "metadata": {},
   "outputs": [
    {
     "name": "stdout",
     "output_type": "stream",
     "text": [
      "Finished\n",
      "Finished2\n",
      "Finished3\n"
     ]
    }
   ],
   "source": [
    "#sn = Species name\n",
    "sn = 'Paramecium tetraurelia'\n",
    "#full path to RNA sam file\n",
    "fRNA = 'D:\\\\LinuxShare\\\\Projects\\\\Lyna\\\\Hisat2\\\\Pt_51_Mac\\\\500_L1_R1R2.trim.AssUnFUnR.rna.sam'\n",
    "# full path for DNA sam file\n",
    "fDNA = 'D:\\\\LinuxShare\\\\Projects\\\\Lyna\\\\Hisat2\\\\Pt_51_Mac\\\\500_L1_R1R2.trim.AssUnFUnR.dna.sam'\n",
    "# MQ = minimum mapping quality\n",
    "MQ = 10\n",
    "\n",
    "\n",
    "main(fRNA, fDNA, MQ, sn)"
   ]
  },
  {
   "cell_type": "code",
   "execution_count": null,
   "metadata": {},
   "outputs": [],
   "source": []
  }
 ],
 "metadata": {
  "kernelspec": {
   "display_name": "Python 3",
   "language": "python",
   "name": "python3"
  },
  "language_info": {
   "codemirror_mode": {
    "name": "ipython",
    "version": 3
   },
   "file_extension": ".py",
   "mimetype": "text/x-python",
   "name": "python",
   "nbconvert_exporter": "python",
   "pygments_lexer": "ipython3",
   "version": "3.7.3"
  }
 },
 "nbformat": 4,
 "nbformat_minor": 2
}
