{
 "cells": [
  {
   "cell_type": "code",
   "execution_count": 5,
   "metadata": {},
   "outputs": [
    {
     "name": "stdout",
     "output_type": "stream",
     "text": [
      "The autoreload extension is already loaded. To reload it, use:\n",
      "  %reload_ext autoreload\n",
      "2021-11-25 17:18:14.447584\n"
     ]
    }
   ],
   "source": [
    "%load_ext autoreload\n",
    "%autoreload 2\n",
    "import datetime\n",
    "import os\n",
    "print(datetime.datetime.now())\n",
    "\n",
    "from pygentoolbox import CharSeqPipeline\n",
    "# from pygentoolbox.Tools import read_interleaved_fasta_as_noninterleaved\n",
    "# from pygentoolbox.Tools import make_circos_karyotype_file\n",
    "#dir(pygentoolbox.Tools)\n",
    "%matplotlib inline\n",
    "import matplotlib.pyplot as plt"
   ]
  },
  {
   "cell_type": "code",
   "execution_count": 12,
   "metadata": {},
   "outputs": [
    {
     "name": "stdout",
     "output_type": "stream",
     "text": [
      "Start Charseq Bridge Removal on file:\n",
      "/media/sf_LinuxShare/Projects/Lyna/CharSeqPipe/Test/pear/WT_E_L1_R1R2.trim.AssUnFUnR.split0.fastq.gz\n",
      "python2 /media/sf_LinuxShare/Projects/Lyna/CharSeqPipe/Test/char_bridge_trackall.py --FASTQGZ /media/sf_LinuxShare/Projects/Lyna/CharSeqPipe/Test/pear/WT_E_L1_R1R2.trim.AssUnFUnR.split0.fastq.gz --NAME /media/sf_LinuxShare/Projects/Lyna/CharSeqPipe/Test/pear/WT_E_L1_R1R2.trim.AssUnFUnR.split0.DNA20RNA20RNAmax300. --minRNA 20 --minDNA 20 --maxRNA 300\n",
      "Finished Charseq Bridge Removal, output files:\n",
      "/media/sf_LinuxShare/Projects/Lyna/CharSeqPipe/Test/pear/WT_E_L1_R1R2.trim.AssUnFUnR.split0.DNA20RNA20RNAmax300.rna.bridgePE.fastq.gz\n",
      "/media/sf_LinuxShare/Projects/Lyna/CharSeqPipe/Test/pear/WT_E_L1_R1R2.trim.AssUnFUnR.split0.DNA20RNA20RNAmax300.dna.bridgePE.fastq.gz\n",
      "\n",
      "Start Charseq Bridge Removal on file:\n",
      "/media/sf_LinuxShare/Projects/Lyna/CharSeqPipe/Test/pear/WT_E_L1_R1R2.trim.AssUnFUnR.split1.fastq.gz\n",
      "python2 /media/sf_LinuxShare/Projects/Lyna/CharSeqPipe/Test/char_bridge_trackall.py --FASTQGZ /media/sf_LinuxShare/Projects/Lyna/CharSeqPipe/Test/pear/WT_E_L1_R1R2.trim.AssUnFUnR.split1.fastq.gz --NAME /media/sf_LinuxShare/Projects/Lyna/CharSeqPipe/Test/pear/WT_E_L1_R1R2.trim.AssUnFUnR.split1.DNA20RNA20RNAmax300. --minRNA 20 --minDNA 20 --maxRNA 300\n"
     ]
    },
    {
     "ename": "KeyboardInterrupt",
     "evalue": "",
     "output_type": "error",
     "traceback": [
      "\u001b[0;31m---------------------------------------------------------------------------\u001b[0m",
      "\u001b[0;31mKeyboardInterrupt\u001b[0m                         Traceback (most recent call last)",
      "\u001b[0;32m<ipython-input-12-7f662f615137>\u001b[0m in \u001b[0;36m<module>\u001b[0;34m\u001b[0m\n\u001b[1;32m     52\u001b[0m \u001b[0;34m\u001b[0m\u001b[0m\n\u001b[1;32m     53\u001b[0m \u001b[0;34m\u001b[0m\u001b[0m\n\u001b[0;32m---> 54\u001b[0;31m \u001b[0mCharSeqPipeline\u001b[0m\u001b[0;34m.\u001b[0m\u001b[0mmain\u001b[0m\u001b[0;34m(\u001b[0m\u001b[0mforwardreadfile\u001b[0m\u001b[0;34m,\u001b[0m \u001b[0mreversereadfile\u001b[0m\u001b[0;34m,\u001b[0m \u001b[0mblastdatabase\u001b[0m\u001b[0;34m,\u001b[0m \u001b[0maligndatabase\u001b[0m\u001b[0;34m,\u001b[0m \u001b[0maltreadfile1\u001b[0m\u001b[0;34m,\u001b[0m \u001b[0maltreadfile2\u001b[0m\u001b[0;34m,\u001b[0m \u001b[0msteps\u001b[0m\u001b[0;34m,\u001b[0m \u001b[0mrnalen\u001b[0m\u001b[0;34m,\u001b[0m \u001b[0mdnalen\u001b[0m\u001b[0;34m,\u001b[0m \u001b[0mrnamaxlen\u001b[0m\u001b[0;34m,\u001b[0m \u001b[0mREsequence\u001b[0m\u001b[0;34m,\u001b[0m \u001b[0mwindowsize\u001b[0m\u001b[0;34m,\u001b[0m \u001b[0mcontactcutoff\u001b[0m\u001b[0;34m,\u001b[0m \u001b[0mMQ\u001b[0m\u001b[0;34m,\u001b[0m \u001b[0msn\u001b[0m\u001b[0;34m,\u001b[0m \u001b[0mhisat2_args\u001b[0m\u001b[0;34m,\u001b[0m \u001b[0mgenomefile\u001b[0m\u001b[0;34m,\u001b[0m \u001b[0mPCRDupRemoval\u001b[0m\u001b[0;34m,\u001b[0m \u001b[0mannot_file\u001b[0m\u001b[0;34m,\u001b[0m \u001b[0mzoomscaffname\u001b[0m\u001b[0;34m,\u001b[0m \u001b[0mzoomwinsize\u001b[0m\u001b[0;34m,\u001b[0m \u001b[0mscaffcoordmin\u001b[0m\u001b[0;34m,\u001b[0m \u001b[0mscaffcoordmax\u001b[0m\u001b[0;34m,\u001b[0m \u001b[0mfeatures\u001b[0m\u001b[0;34m)\u001b[0m\u001b[0;34m\u001b[0m\u001b[0;34m\u001b[0m\u001b[0m\n\u001b[0m",
      "\u001b[0;32m~/anaconda3/lib/python3.7/site-packages/pygentoolbox/CharSeqPipeline.py\u001b[0m in \u001b[0;36mmain\u001b[0;34m(forwardreadfile, reversereadfile, blastdatabase, aligndatabase, altreadfile1, altreadfile2, steps, rnalen, dnalen, rnamaxlen, REsequence, windowsize, contactcutoff, MQ, sn, alignargs, genomefile, PCRDupRemoval, annot_file, zoomscaffname, zoomwinsize, scaffcoordmin, scaffcoordmax, features)\u001b[0m\n\u001b[1;32m   1158\u001b[0m         \u001b[0;32mfor\u001b[0m \u001b[0mcount\u001b[0m\u001b[0;34m,\u001b[0m \u001b[0mfilegz\u001b[0m \u001b[0;32min\u001b[0m \u001b[0menumerate\u001b[0m\u001b[0;34m(\u001b[0m\u001b[0msplitgzfiles\u001b[0m\u001b[0;34m)\u001b[0m\u001b[0;34m:\u001b[0m\u001b[0;34m\u001b[0m\u001b[0;34m\u001b[0m\u001b[0m\n\u001b[1;32m   1159\u001b[0m             \u001b[0;31m### start char_bridge_trackall.py (uses charbridgetools) to remove bridge ###\u001b[0m\u001b[0;34m\u001b[0m\u001b[0;34m\u001b[0m\u001b[0;34m\u001b[0m\u001b[0m\n\u001b[0;32m-> 1160\u001b[0;31m             \u001b[0mrnafile\u001b[0m\u001b[0;34m,\u001b[0m \u001b[0mdnafile\u001b[0m \u001b[0;34m=\u001b[0m \u001b[0mrun_char_bridge\u001b[0m\u001b[0;34m(\u001b[0m\u001b[0mfilegz\u001b[0m\u001b[0;34m,\u001b[0m \u001b[0mrnalen\u001b[0m\u001b[0;34m,\u001b[0m \u001b[0mdnalen\u001b[0m\u001b[0;34m,\u001b[0m \u001b[0mrnamaxlen\u001b[0m\u001b[0;34m)\u001b[0m\u001b[0;34m\u001b[0m\u001b[0;34m\u001b[0m\u001b[0m\n\u001b[0m\u001b[1;32m   1161\u001b[0m             \u001b[0mrnagzfiles\u001b[0m\u001b[0;34m.\u001b[0m\u001b[0mappend\u001b[0m\u001b[0;34m(\u001b[0m\u001b[0mrnafile\u001b[0m\u001b[0;34m)\u001b[0m\u001b[0;34m\u001b[0m\u001b[0;34m\u001b[0m\u001b[0m\n\u001b[1;32m   1162\u001b[0m             \u001b[0mdnagzfiles\u001b[0m\u001b[0;34m.\u001b[0m\u001b[0mappend\u001b[0m\u001b[0;34m(\u001b[0m\u001b[0mdnafile\u001b[0m\u001b[0;34m)\u001b[0m\u001b[0;34m\u001b[0m\u001b[0;34m\u001b[0m\u001b[0m\n",
      "\u001b[0;32m~/anaconda3/lib/python3.7/site-packages/pygentoolbox/CharSeqPipeline.py\u001b[0m in \u001b[0;36mrun_char_bridge\u001b[0;34m(filegz, rnalen, dnalen, rnamaxlen)\u001b[0m\n\u001b[1;32m    847\u001b[0m     \u001b[0mprint\u001b[0m\u001b[0;34m(\u001b[0m\u001b[0mcmd\u001b[0m\u001b[0;34m)\u001b[0m\u001b[0;34m\u001b[0m\u001b[0;34m\u001b[0m\u001b[0m\n\u001b[1;32m    848\u001b[0m     \u001b[0mcmdlist\u001b[0m \u001b[0;34m=\u001b[0m \u001b[0mcmd\u001b[0m\u001b[0;34m.\u001b[0m\u001b[0msplit\u001b[0m\u001b[0;34m(\u001b[0m\u001b[0;34m)\u001b[0m\u001b[0;34m\u001b[0m\u001b[0;34m\u001b[0m\u001b[0m\n\u001b[0;32m--> 849\u001b[0;31m     \u001b[0msubprocess\u001b[0m\u001b[0;34m.\u001b[0m\u001b[0mcall\u001b[0m\u001b[0;34m(\u001b[0m\u001b[0mcmdlist\u001b[0m\u001b[0;34m)\u001b[0m\u001b[0;34m\u001b[0m\u001b[0;34m\u001b[0m\u001b[0m\n\u001b[0m\u001b[1;32m    850\u001b[0m     \u001b[0mrnafile\u001b[0m\u001b[0;34m,\u001b[0m \u001b[0mdnafile\u001b[0m \u001b[0;34m=\u001b[0m \u001b[0moutprefix\u001b[0m \u001b[0;34m+\u001b[0m \u001b[0;34m'rna.bridgePE.fastq.gz'\u001b[0m\u001b[0;34m,\u001b[0m \u001b[0moutprefix\u001b[0m \u001b[0;34m+\u001b[0m \u001b[0;34m'dna.bridgePE.fastq.gz'\u001b[0m\u001b[0;34m\u001b[0m\u001b[0;34m\u001b[0m\u001b[0m\n\u001b[1;32m    851\u001b[0m     \u001b[0mprint\u001b[0m\u001b[0;34m(\u001b[0m\u001b[0;34m'Finished Charseq Bridge Removal, output files:\\n%s\\n%s\\n'\u001b[0m \u001b[0;34m%\u001b[0m \u001b[0;34m(\u001b[0m\u001b[0mrnafile\u001b[0m\u001b[0;34m,\u001b[0m \u001b[0mdnafile\u001b[0m\u001b[0;34m)\u001b[0m\u001b[0;34m)\u001b[0m\u001b[0;34m\u001b[0m\u001b[0;34m\u001b[0m\u001b[0m\n",
      "\u001b[0;32m~/anaconda3/lib/python3.7/subprocess.py\u001b[0m in \u001b[0;36mcall\u001b[0;34m(timeout, *popenargs, **kwargs)\u001b[0m\n\u001b[1;32m    323\u001b[0m     \u001b[0;32mwith\u001b[0m \u001b[0mPopen\u001b[0m\u001b[0;34m(\u001b[0m\u001b[0;34m*\u001b[0m\u001b[0mpopenargs\u001b[0m\u001b[0;34m,\u001b[0m \u001b[0;34m**\u001b[0m\u001b[0mkwargs\u001b[0m\u001b[0;34m)\u001b[0m \u001b[0;32mas\u001b[0m \u001b[0mp\u001b[0m\u001b[0;34m:\u001b[0m\u001b[0;34m\u001b[0m\u001b[0;34m\u001b[0m\u001b[0m\n\u001b[1;32m    324\u001b[0m         \u001b[0;32mtry\u001b[0m\u001b[0;34m:\u001b[0m\u001b[0;34m\u001b[0m\u001b[0;34m\u001b[0m\u001b[0m\n\u001b[0;32m--> 325\u001b[0;31m             \u001b[0;32mreturn\u001b[0m \u001b[0mp\u001b[0m\u001b[0;34m.\u001b[0m\u001b[0mwait\u001b[0m\u001b[0;34m(\u001b[0m\u001b[0mtimeout\u001b[0m\u001b[0;34m=\u001b[0m\u001b[0mtimeout\u001b[0m\u001b[0;34m)\u001b[0m\u001b[0;34m\u001b[0m\u001b[0;34m\u001b[0m\u001b[0m\n\u001b[0m\u001b[1;32m    326\u001b[0m         \u001b[0;32mexcept\u001b[0m\u001b[0;34m:\u001b[0m  \u001b[0;31m# Including KeyboardInterrupt, wait handled that.\u001b[0m\u001b[0;34m\u001b[0m\u001b[0;34m\u001b[0m\u001b[0m\n\u001b[1;32m    327\u001b[0m             \u001b[0mp\u001b[0m\u001b[0;34m.\u001b[0m\u001b[0mkill\u001b[0m\u001b[0;34m(\u001b[0m\u001b[0;34m)\u001b[0m\u001b[0;34m\u001b[0m\u001b[0;34m\u001b[0m\u001b[0m\n",
      "\u001b[0;32m~/anaconda3/lib/python3.7/subprocess.py\u001b[0m in \u001b[0;36mwait\u001b[0;34m(self, timeout)\u001b[0m\n\u001b[1;32m    988\u001b[0m             \u001b[0mendtime\u001b[0m \u001b[0;34m=\u001b[0m \u001b[0m_time\u001b[0m\u001b[0;34m(\u001b[0m\u001b[0;34m)\u001b[0m \u001b[0;34m+\u001b[0m \u001b[0mtimeout\u001b[0m\u001b[0;34m\u001b[0m\u001b[0;34m\u001b[0m\u001b[0m\n\u001b[1;32m    989\u001b[0m         \u001b[0;32mtry\u001b[0m\u001b[0;34m:\u001b[0m\u001b[0;34m\u001b[0m\u001b[0;34m\u001b[0m\u001b[0m\n\u001b[0;32m--> 990\u001b[0;31m             \u001b[0;32mreturn\u001b[0m \u001b[0mself\u001b[0m\u001b[0;34m.\u001b[0m\u001b[0m_wait\u001b[0m\u001b[0;34m(\u001b[0m\u001b[0mtimeout\u001b[0m\u001b[0;34m=\u001b[0m\u001b[0mtimeout\u001b[0m\u001b[0;34m)\u001b[0m\u001b[0;34m\u001b[0m\u001b[0;34m\u001b[0m\u001b[0m\n\u001b[0m\u001b[1;32m    991\u001b[0m         \u001b[0;32mexcept\u001b[0m \u001b[0mKeyboardInterrupt\u001b[0m\u001b[0;34m:\u001b[0m\u001b[0;34m\u001b[0m\u001b[0;34m\u001b[0m\u001b[0m\n\u001b[1;32m    992\u001b[0m             \u001b[0;31m# https://bugs.python.org/issue25942\u001b[0m\u001b[0;34m\u001b[0m\u001b[0;34m\u001b[0m\u001b[0;34m\u001b[0m\u001b[0m\n",
      "\u001b[0;32m~/anaconda3/lib/python3.7/subprocess.py\u001b[0m in \u001b[0;36m_wait\u001b[0;34m(self, timeout)\u001b[0m\n\u001b[1;32m   1622\u001b[0m                         \u001b[0;32mif\u001b[0m \u001b[0mself\u001b[0m\u001b[0;34m.\u001b[0m\u001b[0mreturncode\u001b[0m \u001b[0;32mis\u001b[0m \u001b[0;32mnot\u001b[0m \u001b[0;32mNone\u001b[0m\u001b[0;34m:\u001b[0m\u001b[0;34m\u001b[0m\u001b[0;34m\u001b[0m\u001b[0m\n\u001b[1;32m   1623\u001b[0m                             \u001b[0;32mbreak\u001b[0m  \u001b[0;31m# Another thread waited.\u001b[0m\u001b[0;34m\u001b[0m\u001b[0;34m\u001b[0m\u001b[0m\n\u001b[0;32m-> 1624\u001b[0;31m                         \u001b[0;34m(\u001b[0m\u001b[0mpid\u001b[0m\u001b[0;34m,\u001b[0m \u001b[0msts\u001b[0m\u001b[0;34m)\u001b[0m \u001b[0;34m=\u001b[0m \u001b[0mself\u001b[0m\u001b[0;34m.\u001b[0m\u001b[0m_try_wait\u001b[0m\u001b[0;34m(\u001b[0m\u001b[0;36m0\u001b[0m\u001b[0;34m)\u001b[0m\u001b[0;34m\u001b[0m\u001b[0;34m\u001b[0m\u001b[0m\n\u001b[0m\u001b[1;32m   1625\u001b[0m                         \u001b[0;31m# Check the pid and loop as waitpid has been known to\u001b[0m\u001b[0;34m\u001b[0m\u001b[0;34m\u001b[0m\u001b[0;34m\u001b[0m\u001b[0m\n\u001b[1;32m   1626\u001b[0m                         \u001b[0;31m# return 0 even without WNOHANG in odd situations.\u001b[0m\u001b[0;34m\u001b[0m\u001b[0;34m\u001b[0m\u001b[0;34m\u001b[0m\u001b[0m\n",
      "\u001b[0;32m~/anaconda3/lib/python3.7/subprocess.py\u001b[0m in \u001b[0;36m_try_wait\u001b[0;34m(self, wait_flags)\u001b[0m\n\u001b[1;32m   1580\u001b[0m             \u001b[0;34m\"\"\"All callers to this function MUST hold self._waitpid_lock.\"\"\"\u001b[0m\u001b[0;34m\u001b[0m\u001b[0;34m\u001b[0m\u001b[0m\n\u001b[1;32m   1581\u001b[0m             \u001b[0;32mtry\u001b[0m\u001b[0;34m:\u001b[0m\u001b[0;34m\u001b[0m\u001b[0;34m\u001b[0m\u001b[0m\n\u001b[0;32m-> 1582\u001b[0;31m                 \u001b[0;34m(\u001b[0m\u001b[0mpid\u001b[0m\u001b[0;34m,\u001b[0m \u001b[0msts\u001b[0m\u001b[0;34m)\u001b[0m \u001b[0;34m=\u001b[0m \u001b[0mos\u001b[0m\u001b[0;34m.\u001b[0m\u001b[0mwaitpid\u001b[0m\u001b[0;34m(\u001b[0m\u001b[0mself\u001b[0m\u001b[0;34m.\u001b[0m\u001b[0mpid\u001b[0m\u001b[0;34m,\u001b[0m \u001b[0mwait_flags\u001b[0m\u001b[0;34m)\u001b[0m\u001b[0;34m\u001b[0m\u001b[0;34m\u001b[0m\u001b[0m\n\u001b[0m\u001b[1;32m   1583\u001b[0m             \u001b[0;32mexcept\u001b[0m \u001b[0mChildProcessError\u001b[0m\u001b[0;34m:\u001b[0m\u001b[0;34m\u001b[0m\u001b[0;34m\u001b[0m\u001b[0m\n\u001b[1;32m   1584\u001b[0m                 \u001b[0;31m# This happens if SIGCLD is set to be ignored or waiting\u001b[0m\u001b[0;34m\u001b[0m\u001b[0;34m\u001b[0m\u001b[0;34m\u001b[0m\u001b[0m\n",
      "\u001b[0;31mKeyboardInterrupt\u001b[0m: "
     ]
    }
   ],
   "source": [
    "## char_bridge_tools.py requires python2 i'm running python 2.7.17\n",
    "# pip install Python-Levenshtein\n",
    "# pip install biopython\n",
    "# RecordRNADNAContacts.py uses python3 i'm running python 3.7 anaconda\n",
    "# pip install natsort\n",
    "forwardreadfile='/media/sf_LinuxShare/Projects/Lyna/CharSeqPipe/Test/WT_E_L1_R1.fastq.gz'\n",
    "reversereadfile='/media/sf_LinuxShare/Projects/Lyna/CharSeqPipe/Test/WT_E_L1_R2.fastq.gz'\n",
    "blastdatabase='/media/sf_LinuxShare/Humans/Genome/Seqs/GRCh38_top_level.fa'\n",
    "aligndatabase='/media/sf_LinuxShare/Ciliates/Genomes/Hisat2_Indexes/Pt_51_Mac_mtDNA'\n",
    "\n",
    "#altreadfile1='/media/sf_LinuxShare/Projects/Lyna/CharSeqPipe/EV_E_sRNA20to30bps/pear/WT_L_L1_R1R2.trim.AssUnFUnR.fastq.gz'\n",
    "altreadfile1 = []\n",
    "path ='/media/sf_LinuxShare/Projects/Lyna/CharSeqPipe/Test/pear/'\n",
    "for i in range(11):\n",
    "    splitfile = os.path.join(path, f'WT_E_L1_R1R2.trim.AssUnFUnR.split{i}.fastq.gz')\n",
    "    altreadfile1.append(splitfile)\n",
    "    \n",
    "#altreadfile2='/path/to/altreads2.fastq'\n",
    "altreadfile2 = []\n",
    "path ='/media/sf_LinuxShare/Projects/Lyna/CharSeqPipe/Test/pear/'\n",
    "for i in range(11):\n",
    "    splitfile = os.path.join(path, f'WT_E_L1_R1R2.trim.AssUnFUnR.split{i}.fastq.gz')\n",
    "    altreadfile2.append(splitfile)\n",
    "    \n",
    "\n",
    "steps=['charbridge', 'hisat2', 'samtools', 'rnadnacontacts', 'normalize', 'heatmap']\n",
    "# steps=['fastp', 'fastqc', 'pear', 'mergefiles', 'split2chunks', 'charbridge', 'fastq2fasta', 'blast', 'hisat2', 'samtools', 'rnadnacontacts', 'normalize', 'heatmap']\n",
    "rnalen=20\n",
    "dnalen=20\n",
    "rnamaxlen=300\n",
    "REsequence='GATC'\n",
    "windowsize=300\n",
    "contactcutoff=1\n",
    "MQ=1\n",
    "sn='Paramecium tetraurelia'\n",
    "\n",
    "# if mapping to Mac\n",
    "hisat2_args='-p 2 --no-softclip'\n",
    "# if mapping to Mac+IES\n",
    "#hisat2_args='-p 2 --no-softclip --pen-noncansplice 0 --known-splicesite-infile /media/sf_LinuxShare/Ciliates/Genomes/Annotations/ss.IES.pt_51_MacAndIES.tsv'\n",
    "genomefile = '/media/sf_LinuxShare/Ciliates/Genomes/Seqs/ptetraurelia_mac_51_mtDNA.fa'\n",
    "PCRDupRemoval=True\n",
    "\n",
    "# ptetraurelia_mac_51_annotation_v2.0.gff3\n",
    "annot_file = '/media/sf_LinuxShare/Ciliates/Genomes/Annotations/ptetraurelia_mac_51_annotation_v2.0.gene.gff3'\n",
    "features=['gene']\n",
    "\n",
    "\n",
    "zoomscaffname = 'scaffold51_2'\n",
    "zoomwinsize = 50\n",
    "scaffcoordmin, scaffcoordmax = [219999, 354999, 474999, 629999, 839999], [239999, 374999, 484999, 649999, 859999]\n",
    "\n",
    "\n",
    "CharSeqPipeline.main(forwardreadfile, reversereadfile, blastdatabase, aligndatabase, altreadfile1, altreadfile2, steps, rnalen, dnalen, rnamaxlen, REsequence, windowsize, contactcutoff, MQ, sn, hisat2_args, genomefile, PCRDupRemoval, annot_file, zoomscaffname, zoomwinsize, scaffcoordmin, scaffcoordmax, features)\n"
   ]
  },
  {
   "cell_type": "code",
   "execution_count": 10,
   "metadata": {},
   "outputs": [
    {
     "name": "stdout",
     "output_type": "stream",
     "text": [
      "The autoreload extension is already loaded. To reload it, use:\n",
      "  %reload_ext autoreload\n",
      "2021-10-21 12:32:56.147950\n"
     ]
    }
   ],
   "source": [
    "%load_ext autoreload\n",
    "%autoreload 2\n",
    "import datetime\n",
    "import os\n",
    "print(datetime.datetime.now())\n",
    "\n",
    "from pygentoolbox import CharSeqPipeline\n",
    "# from pygentoolbox.Tools import read_interleaved_fasta_as_noninterleaved\n",
    "# from pygentoolbox.Tools import make_circos_karyotype_file\n",
    "#dir(pygentoolbox.Tools)\n",
    "%matplotlib inline\n",
    "import matplotlib.pyplot as plt"
   ]
  },
  {
   "cell_type": "code",
   "execution_count": null,
   "metadata": {},
   "outputs": [],
   "source": [
    "## char_bridge_tools.py requires python2 i'm running python 2.7.17\n",
    "# pip install Python-Levenshtein\n",
    "# pip install biopython\n",
    "# RecordRNADNAContacts.py uses python3 i'm running python 3.7 anaconda\n",
    "# pip install natsort\n",
    "forwardreadfile='/media/sf_LinuxShare/Projects/Lyna/CharSeqPipe/EV_E_mtDNA/WT_E_L1_R1.fastq.gz'\n",
    "reversereadfile='/media/sf_LinuxShare/Projects/Lyna/CharSeqPipe/EV_E_mtDNA/WT_E_L1_R2.fastq.gz'\n",
    "blastdatabase='/media/sf_LinuxShare/Humans/Genome/Seqs/GRCh38_top_level.fa'\n",
    "aligndatabase='/media/sf_LinuxShare/Ciliates/Genomes/Hisat2_Indexes/Pt_51_Mac_mtDNA'\n",
    "\n",
    "#altreadfile1='/media/sf_LinuxShare/Projects/Lyna/CharSeqPipe/EV_E_sRNA20to30bps/pear/WT_L_L1_R1R2.trim.AssUnFUnR.fastq.gz'\n",
    "altreadfile1 = []\n",
    "path ='/media/sf_LinuxShare/Projects/Lyna/CharSeqPipe/EV_E_mtDNA/pear/'\n",
    "for i in range(246):\n",
    "    splitfile = os.path.join(path, f'WT_E_L1_R1R2.trim.AssUnFUnR.split{i}.DNA20RNA20RNAmax300.dna.bridgePE.fastq.gz')\n",
    "    altreadfile1.append(splitfile)\n",
    "    \n",
    "#altreadfile2='/path/to/altreads2.fastq'\n",
    "altreadfile2 = []\n",
    "path ='/media/sf_LinuxShare/Projects/Lyna/CharSeqPipe/EV_E_mtDNA/pear/'\n",
    "for i in range(246):\n",
    "    splitfile = os.path.join(path, f'WT_E_L1_R1R2.trim.AssUnFUnR.split{i}.DNA20RNA20RNAmax300.rna.bridgePE.fastq.gz')\n",
    "    altreadfile2.append(splitfile)\n",
    "    \n",
    "\n",
    "steps=['hisat2', 'samtools', 'rnadnacontacts', 'normalize', 'heatmap']\n",
    "# steps=['fastp', 'fastqc', 'pear', 'mergefiles', 'split2chunks', 'charbridge', 'fastq2fasta', 'blast', 'hisat2', 'samtools', 'rnadnacontacts', 'normalize', 'heatmap']\n",
    "rnalen=20\n",
    "dnalen=20\n",
    "rnamaxlen=300\n",
    "REsequence='GATC'\n",
    "windowsize=300\n",
    "contactcutoff=1\n",
    "MQ=1\n",
    "sn='Paramecium tetraurelia'\n",
    "\n",
    "# if mapping to Mac\n",
    "hisat2_args='-p 3 --no-softclip'\n",
    "# if mapping to Mac+IES\n",
    "#hisat2_args='-p 2 --no-softclip --pen-noncansplice 0 --known-splicesite-infile /media/sf_LinuxShare/Ciliates/Genomes/Annotations/ss.IES.pt_51_MacAndIES.tsv'\n",
    "genomefile = '/media/sf_LinuxShare/Ciliates/Genomes/Seqs/ptetraurelia_mac_51_with_mtDNA.fa'\n",
    "PCRDupRemoval=True\n",
    "\n",
    "# ptetraurelia_mac_51_annotation_v2.0.gff3\n",
    "annot_file = '/media/sf_LinuxShare/Ciliates/Genomes/Annotations/ptetraurelia_mac_51_annotation_v2.0.gene.gff3'\n",
    "features=['gene']\n",
    "\n",
    "\n",
    "zoomscaffname = 'scaffold51_2'\n",
    "zoomwinsize = 50\n",
    "scaffcoordmin, scaffcoordmax = [219999, 354999, 474999, 629999, 839999], [239999, 374999, 484999, 649999, 859999]\n",
    "\n",
    "\n",
    "CharSeqPipeline.main(forwardreadfile, reversereadfile, blastdatabase, aligndatabase, altreadfile1, altreadfile2, steps, rnalen, dnalen, rnamaxlen, REsequence, windowsize, contactcutoff, MQ, sn, hisat2_args, genomefile, PCRDupRemoval, annot_file, zoomscaffname, zoomwinsize, scaffcoordmin, scaffcoordmax, features)\n"
   ]
  },
  {
   "cell_type": "code",
   "execution_count": null,
   "metadata": {},
   "outputs": [],
   "source": [
    "## char_bridge_tools.py requires python2 i'm running python 2.7.17\n",
    "# pip install Python-Levenshtein\n",
    "# pip install biopython\n",
    "# RecordRNADNAContacts.py uses python3 i'm running python 3.7 anaconda\n",
    "# pip install natsort\n",
    "forwardreadfile='/media/sf_LinuxShare/Projects/Lyna/CharSeqPipe/EV_E_mtDNA/WT_E_L1_R1.fastq.gz'\n",
    "reversereadfile='/media/sf_LinuxShare/Projects/Lyna/CharSeqPipe/EV_E_mtDNA/WT_E_L1_R2.fastq.gz'\n",
    "blastdatabase='/media/sf_LinuxShare/Humans/Genome/Seqs/GRCh38_top_level.fa'\n",
    "aligndatabase='/media/sf_LinuxShare/Ciliates/Genomes/Hisat2_Indexes/Pt_51_MacAndIES_mtDNA'\n",
    "\n",
    "#altreadfile1='/media/sf_LinuxShare/Projects/Lyna/CharSeqPipe/EV_E_sRNA20to30bps/pear/WT_L_L1_R1R2.trim.AssUnFUnR.fastq.gz'\n",
    "altreadfile1 = '/media/sf_LinuxShare/Projects/Lyna/CharSeqPipe/EV_E_mtDNA/hisat2/RNA.DNA.Contacts.pt.wthickness.txt'\n",
    "    \n",
    "#altreadfile2='/path/to/altreads2.fastq'\n",
    "altreadfile2 = '/media/sf_LinuxShare/Projects/Lyna/CharSeqPipe/EV_E_mtDNA/hisat2/path.to.file.txt'\n",
    "\n",
    "steps=['normalize', 'heatmap']\n",
    "# steps=['fastp', 'fastqc', 'pear', 'mergefiles', 'split2chunks', 'charbridge', 'fastq2fasta', 'blast', 'hisat2', 'samtools', 'rnadnacontacts', 'normalize', 'heatmap']\n",
    "rnalen=20\n",
    "dnalen=20\n",
    "rnamaxlen=300\n",
    "REsequence='GATC'\n",
    "windowsize=300\n",
    "contactcutoff=1\n",
    "MQ=10\n",
    "sn='Paramecium tetraurelia'\n",
    "\n",
    "# if mapping to Mac\n",
    "# hisat2_args='-p 2 --no-softclip'\n",
    "# if mapping to Mac+IES\n",
    "hisat2_args='-p 2 --no-softclip --pen-noncansplice 0 --known-splicesite-infile /media/sf_LinuxShare/Ciliates/Genomes/Annotations/ss.IES.pt_51_MacAndIES.tsv'\n",
    "genomefile = '/media/sf_LinuxShare/Ciliates/Genomes/Seqs/ptetraurelia_mac_51_with_ies_with_mtDNA.fa'\n",
    "PCRDupRemoval=True\n",
    "\n",
    "# ptetraurelia_mac_51_annotation_v2.0.gff3\n",
    "annot_file = '/media/sf_LinuxShare/Ciliates/Genomes/Annotations/internal_eliminated_sequence_PGM_ParTIES.pt_51_with_ies.gff3'\n",
    "features=['internal_eliminated_sequence']\n",
    "\n",
    "\n",
    "zoomscaffname = 'scaffold51_2'\n",
    "zoomwinsize = 50\n",
    "scaffcoordmin, scaffcoordmax = [219999, 354999, 474999, 629999, 839999], [239999, 374999, 484999, 649999, 859999]\n",
    "\n",
    "\n",
    "CharSeqPipeline.main(forwardreadfile, reversereadfile, blastdatabase, aligndatabase, altreadfile1, altreadfile2, steps, rnalen, dnalen, rnamaxlen, REsequence, windowsize, contactcutoff, MQ, sn, hisat2_args, genomefile, PCRDupRemoval, annot_file, zoomscaffname, zoomwinsize, scaffcoordmin, scaffcoordmax, features)\n"
   ]
  },
  {
   "cell_type": "code",
   "execution_count": null,
   "metadata": {},
   "outputs": [],
   "source": [
    "## char_bridge_tools.py requires python2 i'm running python 2.7.17\n",
    "# pip install Python-Levenshtein\n",
    "# pip install biopython\n",
    "# RecordRNADNAContacts.py uses python3 i'm running python 3.7 anaconda\n",
    "# pip install natsort\n",
    "forwardreadfile='/media/sf_LinuxShare/Projects/Lyna/CharSeqPipe/EV_E_sRNA20to30bps/WT_E_L1_R1.fastq.gz'\n",
    "reversereadfile='/media/sf_LinuxShare/Projects/Lyna/CharSeqPipe/EV_E_sRNA20to30bps/WT_E_L1_R2.fastq.gz'\n",
    "blastdatabase='/media/sf_LinuxShare/Humans/Genome/Seqs/GRCh38_top_level.fa'\n",
    "aligndatabase='/media/sf_LinuxShare/Ciliates/Genomes/Hisat2_Indexes/Pt_51_MacAndIES_mtDNA'\n",
    "\n",
    "#altreadfile1='/media/sf_LinuxShare/Projects/Lyna/CharSeqPipe/EV_E_sRNA20to30bps/pear/WT_L_L1_R1R2.trim.AssUnFUnR.fastq.gz'\n",
    "altreadfile1 = []\n",
    "path ='/media/sf_LinuxShare/Projects/Lyna/CharSeqPipe/EV_E_mtDNA/pear/'\n",
    "for i in range(246):\n",
    "    splitfile = os.path.join(path, f'WT_E_L1_R1R2.trim.AssUnFUnR.split{i}.fastq.gz')\n",
    "    altreadfile1.append(splitfile)\n",
    "    \n",
    "#altreadfile2='/path/to/altreads2.fastq'\n",
    "altreadfile2 = []\n",
    "path ='/media/sf_LinuxShare/Projects/Lyna/CharSeqPipe/EV_E_mtDNA/pear/'\n",
    "for i in range(246):\n",
    "    splitfile = os.path.join(path, f'WT_E_L1_R1R2.trim.AssUnFUnR.split{i}.fastq.gz')\n",
    "    altreadfile2.append(splitfile)\n",
    "    \n",
    "\n",
    "steps=['charbridge', 'hisat2', 'samtools', 'rnadnacontacts', 'normalize', 'heatmap']\n",
    "# steps=['fastp', 'fastqc', 'pear', 'mergefiles', 'split2chunks', 'charbridge', 'fastq2fasta', 'blast', 'hisat2', 'samtools', 'rnadnacontacts', 'normalize', 'heatmap']\n",
    "rnalen=20\n",
    "dnalen=20\n",
    "rnamaxlen=300\n",
    "REsequence='GATC'\n",
    "windowsize=300\n",
    "contactcutoff=1\n",
    "MQ=10\n",
    "sn='Paramecium tetraurelia'\n",
    "\n",
    "# if mapping to Mac\n",
    "# hisat2_args='-p 2 --no-softclip'\n",
    "# if mapping to Mac+IES\n",
    "hisat2_args='-p 2 --no-softclip --pen-noncansplice 0 --known-splicesite-infile /media/sf_LinuxShare/Ciliates/Genomes/Annotations/ss.IES.pt_51_MacAndIES.tsv'\n",
    "genomefile = '/media/sf_LinuxShare/Ciliates/Genomes/Seqs/ptetraurelia_mac_51_with_ies_with_mtDNA.fa'\n",
    "PCRDupRemoval=True\n",
    "\n",
    "# ptetraurelia_mac_51_annotation_v2.0.gff3\n",
    "annot_file = '/media/sf_LinuxShare/Ciliates/Genomes/Annotations/internal_eliminated_sequence_PGM_ParTIES.pt_51_with_ies.gff3'\n",
    "features=['internal_eliminated_sequence']\n",
    "\n",
    "\n",
    "zoomscaffname = 'scaffold51_2'\n",
    "zoomwinsize = 50\n",
    "scaffcoordmin, scaffcoordmax = [219999, 354999, 474999, 629999, 839999], [239999, 374999, 484999, 649999, 859999]\n",
    "\n",
    "\n",
    "CharSeqPipeline.main(forwardreadfile, reversereadfile, blastdatabase, aligndatabase, altreadfile1, altreadfile2, steps, rnalen, dnalen, rnamaxlen, REsequence, windowsize, contactcutoff, MQ, sn, hisat2_args, genomefile, PCRDupRemoval, annot_file, zoomscaffname, zoomwinsize, scaffcoordmin, scaffcoordmax, features)\n"
   ]
  },
  {
   "cell_type": "code",
   "execution_count": 1,
   "metadata": {},
   "outputs": [
    {
     "name": "stdout",
     "output_type": "stream",
     "text": [
      "2020-06-08 13:20:05.287738\n"
     ]
    }
   ],
   "source": [
    "%load_ext autoreload\n",
    "%autoreload 2\n",
    "import datetime\n",
    "import os\n",
    "print(datetime.datetime.now())\n",
    "\n",
    "from pygentoolbox import TrimFileToNumberLines\n",
    "from pygentoolbox import CharSeqPipeline\n",
    "# from pygentoolbox.Tools import read_interleaved_fasta_as_noninterleaved\n",
    "# from pygentoolbox.Tools import make_circos_karyotype_file\n",
    "#dir(pygentoolbox.Tools)\n",
    "%matplotlib inline\n",
    "import matplotlib.pyplot as plt"
   ]
  },
  {
   "cell_type": "code",
   "execution_count": 11,
   "metadata": {},
   "outputs": [
    {
     "name": "stdout",
     "output_type": "stream",
     "text": [
      "On line: 50000000\n",
      "On line: 100000000\n",
      "On line: 150000000\n",
      "On line: 200000000\n",
      "Finished\n",
      "On line: 5000000\n",
      "On line: 10000000\n",
      "On line: 15000000\n",
      "On line: 20000000\n",
      "Finished\n"
     ]
    }
   ],
   "source": [
    "# first lets trim the assembled PEAR reads to 50 million reads\n",
    "f = '/media/sf_LinuxShare/Projects/Lyna/CharSeqPipe/EV_L_50MilReads/pear/WT_L_L1_R1R2.trim.assembled.fastq'\n",
    "limit = 200000000\n",
    "\n",
    "TrimFileToNumberLines.main(f,limit)\n",
    "# i then compressed this file with gzip before running the next cell\n"
   ]
  },
  {
   "cell_type": "code",
   "execution_count": null,
   "metadata": {},
   "outputs": [],
   "source": [
    "# skipping BLAST, running fastq2fasta for gzip decompression of dnafile and rnafile after charbridge\n",
    "\n",
    "\n",
    "# char_bridge_tools.py requires python2 i'm running python 2.7.17\n",
    "# pip install Python-Levenshtein\n",
    "# pip install biopython\n",
    "# RecordRNADNAContacts.py uses python3 i'm running python 3.7 anaconda\n",
    "# pip install natsort\n",
    "# forwardreadfile='/media/sf_LinuxShare/Projects/Lyna/CharSeqPipe/EV_E_50MilReads/WT_E_L1_R1.fastq.gz'\n",
    "forwardreadfile='/media/sf_LinuxShare/Projects/Lyna/CharSeqPipe/EV_L_50MilReads/WT_L_L1_R1.fastq.gz'\n",
    "reversereadfile='/media/sf_LinuxShare/Projects/Lyna/CharSeqPipe/EV_L_50MilReads/WT_L_L1_R2.fastq.gz'\n",
    "blastdatabase='/media/sf_LinuxShare/Humans/Genome/Seqs/GRCh38_top_level.fa'\n",
    "aligndatabase='/media/sf_LinuxShare/Ciliates/Genomes/Hisat2_Indexes/Pt_51_Mac'\n",
    "# altreadfile='/path/to/altreads.fastq'\n",
    "altreadfile1='/media/sf_LinuxShare/Projects/Lyna/CharSeqPipe/EV_L_50MilReads/pear/WT_L_L1_R1R2.trim.assembled.lines200000000.fastq.gz'\n",
    "altreadfile2='/media/sf_LinuxShare/Projects/Lyna/CharSeqPipe/EV_L_50MilReads/pear/NotUsed.fastq.gz'\n",
    "\n",
    "# steps=['fastp', 'fastqc', 'pear', 'mergefiles', 'charbridge', 'fastq2fasta', 'blast', 'hisat2', 'samtools', 'rnadnacontacts', 'normalize']\n",
    "steps=['charbridge', 'fastq2fasta', 'hisat2', 'samtools', 'rnadnacontacts', 'normalize']\n",
    "rnalen=20\n",
    "dnalen=20\n",
    "REsequence='GATC'\n",
    "windowsize=300\n",
    "contactcutoff=2\n",
    "MQ=10\n",
    "sn='Paramecium tetraurelia'\n",
    "\n",
    "\n",
    "CharSeqPipeline.main(forwardreadfile, reversereadfile, blastdatabase, aligndatabase, altreadfile1, altreadfile2, steps, rnalen, dnalen, REsequence, windowsize, contactcutoff, MQ, sn)"
   ]
  },
  {
   "cell_type": "code",
   "execution_count": 8,
   "metadata": {},
   "outputs": [
    {
     "name": "stdout",
     "output_type": "stream",
     "text": [
      "The autoreload extension is already loaded. To reload it, use:\n",
      "  %reload_ext autoreload\n",
      "2020-06-08 17:27:27.411344\n"
     ]
    }
   ],
   "source": [
    "%load_ext autoreload\n",
    "%autoreload 2\n",
    "import datetime\n",
    "import os\n",
    "print(datetime.datetime.now())\n",
    "\n",
    "from pygentoolbox import CharSeqPipeline\n",
    "from pygentoolbox import TrimFileToNumberLines\n",
    "\n",
    "# from pygentoolbox.Tools import read_interleaved_fasta_as_noninterleaved\n",
    "# from pygentoolbox.Tools import make_circos_karyotype_file\n",
    "#dir(pygentoolbox.Tools)\n",
    "%matplotlib inline\n",
    "import matplotlib.pyplot as plt"
   ]
  },
  {
   "cell_type": "code",
   "execution_count": 2,
   "metadata": {},
   "outputs": [
    {
     "name": "stdout",
     "output_type": "stream",
     "text": [
      "On line: 500000\n",
      "On line: 1000000\n",
      "On line: 1500000\n",
      "On line: 2000000\n",
      "Finished\n"
     ]
    }
   ],
   "source": [
    "\n",
    "# lets trim the RNA reads to 0.5 million reads\n",
    "# this we can try to BLAST\n",
    "f = '/media/sf_LinuxShare/Projects/Lyna/CharSeqPipe/EV_L_50MilReads/pear/WT_L_L1_R1R2.trim.assembled.lines200000000.DNA20RNA20.rna.bridgePE.fastq'\n",
    "limit = 2000000\n",
    "\n",
    "TrimFileToNumberLines.main(f,limit)\n",
    "\n",
    "# CharSeqPipeline.run_gzip_compress()\n",
    "# i then compressed this file with gzip before running the next cell\n"
   ]
  },
  {
   "cell_type": "code",
   "execution_count": 3,
   "metadata": {},
   "outputs": [
    {
     "name": "stdout",
     "output_type": "stream",
     "text": [
      "Start packing files:\n",
      "/media/sf_LinuxShare/Projects/Lyna/CharSeqPipe/EV_L_50MilReads/pear/WT_L_L1_R1R2.trim.assembled.lines200000000.DNA20RNA20.rna.bridgePE.lines2000000.fastq\n",
      "gzip -f -k /media/sf_LinuxShare/Projects/Lyna/CharSeqPipe/EV_L_50MilReads/pear/WT_L_L1_R1R2.trim.assembled.lines200000000.DNA20RNA20.rna.bridgePE.lines2000000.fastq\n",
      "Finished packing:\n",
      "/media/sf_LinuxShare/Projects/Lyna/CharSeqPipe/EV_L_50MilReads/pear/WT_L_L1_R1R2.trim.assembled.lines200000000.DNA20RNA20.rna.bridgePE.lines2000000.fastq.gz\n",
      "\n"
     ]
    },
    {
     "data": {
      "text/plain": [
       "'/media/sf_LinuxShare/Projects/Lyna/CharSeqPipe/EV_L_50MilReads/pear/WT_L_L1_R1R2.trim.assembled.lines200000000.DNA20RNA20.rna.bridgePE.lines2000000.fastq.gz'"
      ]
     },
     "execution_count": 3,
     "metadata": {},
     "output_type": "execute_result"
    }
   ],
   "source": [
    "# i then compressed this file with gzip before running the next cell\n",
    "CharSeqPipeline.run_gzip_compress('/media/sf_LinuxShare/Projects/Lyna/CharSeqPipe/EV_L_50MilReads/pear/WT_L_L1_R1R2.trim.assembled.lines200000000.DNA20RNA20.rna.bridgePE.lines2000000.fastq')\n"
   ]
  },
  {
   "cell_type": "code",
   "execution_count": 10,
   "metadata": {},
   "outputs": [
    {
     "name": "stdout",
     "output_type": "stream",
     "text": [
      "Start unpacking trimmed.gz file:\n",
      "/media/sf_LinuxShare/Projects/Lyna/CharSeqPipe/EV_L_50MilReads/pear/WT_L_L1_R1R2.trim.assembled.lines200000000.DNA20RNA20.rna.bridgePE.fastq.gz\n",
      "gzip -f -d -k /media/sf_LinuxShare/Projects/Lyna/CharSeqPipe/EV_L_50MilReads/pear/WT_L_L1_R1R2.trim.assembled.lines200000000.DNA20RNA20.rna.bridgePE.fastq.gz\n",
      "Finished unpacking:\n",
      "/media/sf_LinuxShare/Projects/Lyna/CharSeqPipe/EV_L_50MilReads/pear/WT_L_L1_R1R2.trim.assembled.lines200000000.DNA20RNA20.rna.bridgePE.fastq\n",
      "\n",
      "Start unpacking trimmed.gz file:\n",
      "/media/sf_LinuxShare/Projects/Lyna/CharSeqPipe/EV_L_50MilReads/pear/WT_L_L1_R1R2.trim.assembled.lines200000000.DNA20RNA20.dna.bridgePE.fastq.gz\n",
      "gzip -f -d -k /media/sf_LinuxShare/Projects/Lyna/CharSeqPipe/EV_L_50MilReads/pear/WT_L_L1_R1R2.trim.assembled.lines200000000.DNA20RNA20.dna.bridgePE.fastq.gz\n",
      "Finished unpacking:\n",
      "/media/sf_LinuxShare/Projects/Lyna/CharSeqPipe/EV_L_50MilReads/pear/WT_L_L1_R1R2.trim.assembled.lines200000000.DNA20RNA20.dna.bridgePE.fastq\n",
      "\n",
      "converting fastq to fasta\n",
      "Converted fastq to fasta:\n",
      "/media/sf_LinuxShare/Projects/Lyna/CharSeqPipe/EV_L_50MilReads/pear/WT_L_L1_R1R2.trim.assembled.lines200000000.DNA20RNA20.rna.bridgePE.fastq\n",
      "/media/sf_LinuxShare/Projects/Lyna/CharSeqPipe/EV_L_50MilReads/pear/WT_L_L1_R1R2.trim.assembled.lines200000000.DNA20RNA20.rna.bridgePE.fa\n",
      "\n",
      "Start calculations of percent free-floating human RNA contamination\n",
      "Expected percent of human-spiked-in of total RNA is 1 percent\n",
      "Start BLASTn on file:\n",
      "/media/sf_LinuxShare/Projects/Lyna/CharSeqPipe/EV_L_50MilReads/pear/WT_L_L1_R1R2.trim.assembled.lines200000000.DNA20RNA20.rna.bridgePE.fa\n",
      "To Database:\n",
      "/media/sf_LinuxShare/Humans/Genome/Seqs/GRCh38_top_level.fa\n",
      "\n",
      "Directory  /media/sf_LinuxShare/Projects/Lyna/CharSeqPipe/EV_L_50MilReads/blastn  already exists\n",
      "Pipe step 1.1\n",
      "blastn -query /media/sf_LinuxShare/Projects/Lyna/CharSeqPipe/EV_L_50MilReads/pear/WT_L_L1_R1R2.trim.assembled.lines200000000.DNA20RNA20.rna.bridgePE.fa -db /media/sf_LinuxShare/Humans/Genome/Seqs/GRCh38_top_level.fa -outfmt 6\n",
      "Pipe step 1.2\n",
      "Pipe step 1.3\n",
      "Pipe step 2.1\n",
      "Pipe step 2.2\n",
      "Pipe step 2.3\n",
      "Pipe step 3.1\n",
      "Pipe step 3.2\n",
      "Pipe step 3.3\n",
      "Finished BLASTn, output results to:\n",
      "/media/sf_LinuxShare/Projects/Lyna/CharSeqPipe/EV_L_50MilReads/blastn/best_bit_score_per_query.blastn.RNA.tsv\n",
      "/media/sf_LinuxShare/Projects/Lyna/CharSeqPipe/EV_L_50MilReads/blastn/human.rna.freefloating.tsv\n",
      "\n",
      "Measured percent of free-floating human RNA results: 0.049788\n",
      "Expected percent of free-floating RNA from Paramecium tetraurelia \"contaminating\" results: 4.978803\n",
      "##########\n",
      "    Fin\n",
      "##########\n"
     ]
    }
   ],
   "source": [
    "# char_bridge_tools.py requires python2 i'm running python 2.7.17\n",
    "# pip install Python-Levenshtein\n",
    "# pip install biopython\n",
    "# RecordRNADNAContacts.py uses python3 i'm running python 3.7 anaconda\n",
    "# pip install natsort\n",
    "# forwardreadfile='/media/sf_LinuxShare/Projects/Lyna/CharSeqPipe/EV_E_50MilReads/WT_E_L1_R1.fastq.gz'\n",
    "forwardreadfile='/media/sf_LinuxShare/Projects/Lyna/CharSeqPipe/EV_E_50MilReads/WT_L_L1_R1.fastq.gz'\n",
    "reversereadfile='/media/sf_LinuxShare/Projects/Lyna/CharSeqPipe/EV_E_50MilReads/WT_L_L1_R2.fastq.gz'\n",
    "blastdatabase='/media/sf_LinuxShare/Humans/Genome/Seqs/GRCh38_top_level.fa'\n",
    "aligndatabase='/media/sf_LinuxShare/Ciliates/Genomes/Hisat2_Indexes/Pt_51_Mac'\n",
    "# altreadfile='/path/to/altreads.fastq'\n",
    "altreadfile1='/media/sf_LinuxShare/Projects/Lyna/CharSeqPipe/EV_L_50MilReads/pear/WT_L_L1_R1R2.trim.assembled.lines200000000.DNA20RNA20.dna.bridgePE.fastq.gz'\n",
    "altreadfile2='/media/sf_LinuxShare/Projects/Lyna/CharSeqPipe/EV_L_50MilReads/pear/WT_L_L1_R1R2.trim.assembled.lines200000000.DNA20RNA20.rna.bridgePE.fastq.gz'\n",
    "# altreadfile2='/media/sf_LinuxShare/Projects/Lyna/CharSeqPipe/EV_L_50MilReads/pear/WT_L_L1_R1R2.trim.assembled.lines200000000.DNA20RNA20.rna.bridgePE.lines2000000.fastq.gz'\n",
    "# steps=['fastp', 'fastqc', 'pear', 'mergefiles', 'charbridge', 'fastq2fasta', 'blast', 'hisat2', 'samtools', 'rnadnacontacts', 'normalize']\n",
    "steps=['fastq2fasta', 'blast']\n",
    "rnalen=20\n",
    "dnalen=20\n",
    "REsequence='GATC'\n",
    "windowsize=300\n",
    "contactcutoff=2\n",
    "MQ=10\n",
    "sn='Paramecium tetraurelia'\n",
    "\n",
    "\n",
    "CharSeqPipeline.main(forwardreadfile, reversereadfile, blastdatabase, aligndatabase, altreadfile1, altreadfile2, steps, rnalen, dnalen, REsequence, windowsize, contactcutoff, MQ, sn)"
   ]
  },
  {
   "cell_type": "code",
   "execution_count": 1,
   "metadata": {},
   "outputs": [
    {
     "name": "stdout",
     "output_type": "stream",
     "text": [
      "2020-06-09 18:28:35.686306\n"
     ]
    }
   ],
   "source": [
    "%load_ext autoreload\n",
    "%autoreload 2\n",
    "import datetime\n",
    "import os\n",
    "print(datetime.datetime.now())\n",
    "\n",
    "from pygentoolbox.SeqsPerFeatureAndFeatureTypeAndGOTerms import main\n",
    "#dir(pygentoolbox.Tools)\n",
    "%matplotlib inline\n",
    "import matplotlib.pyplot as plt"
   ]
  },
  {
   "cell_type": "code",
   "execution_count": null,
   "metadata": {},
   "outputs": [],
   "source": [
    "#GOfile only has GO terms for genes and therefore we must limit the Gff3file to only genes\n",
    "\n",
    "Gff3file = '/media/sf_LinuxShare/Ciliates/Genomes/Annotations/ptetraurelia_mac_51_annotation_v2.0.gff3'\n",
    "samfilelist = ['/media/sf_LinuxShare/Projects/Lyna/CharSeqPipe/EV_L_50MilReads/hisat2/WT_L_L1_R1R2.trim.assembled.lines200000000.DNA20RNA20.dna.bridgePE.sort.sam', '/media/sf_LinuxShare/Projects/Lyna/CharSeqPipe/EV_L_50MilReads/hisat2/WT_L_L1_R1R2.trim.assembled.lines200000000.DNA20RNA20.rna.bridgePE.sort.sam']\n",
    "GOfile = '/media/sf_LinuxShare/Ciliates/Genomes/Annotations/Ptetraurelia51_GOTerms.tsv'\n",
    "\n",
    "# count number of reads per feature\n",
    "# count number of reads per feature type (exon, mRNA, 5' UTR, etc.) and sort so counts are decreasing\n",
    "\n",
    "main(Gff3file, samfilelist, GOfile)"
   ]
  },
  {
   "cell_type": "code",
   "execution_count": 1,
   "metadata": {},
   "outputs": [
    {
     "name": "stdout",
     "output_type": "stream",
     "text": [
      "2020-06-11 08:08:09.614334\n"
     ]
    }
   ],
   "source": [
    "%load_ext autoreload\n",
    "%autoreload 2\n",
    "import datetime\n",
    "import os\n",
    "print(datetime.datetime.now())\n",
    "\n",
    "from pygentoolbox.SeqsPerFeatureAndFeatureTypeFixed import main\n",
    "#dir(pygentoolbox.Tools)\n",
    "%matplotlib inline\n",
    "import matplotlib.pyplot as plt"
   ]
  },
  {
   "cell_type": "code",
   "execution_count": 2,
   "metadata": {},
   "outputs": [
    {
     "name": "stdout",
     "output_type": "stream",
     "text": [
      "Reading Gff3 file: /media/sf_LinuxShare/Ciliates/Genomes/Annotations/ptetraurelia_mac_51_annotation_v2.0.tRNAFam.gff3\n",
      "Number of scaffolds: 234\n",
      "Reading sam file: /media/sf_LinuxShare/Projects/Lyna/CharSeqPipe/EV_L_50MilReads/hisat2/WT_L_L1_R1R2.trim.assembled.lines200000000.DNA20RNA20.rna.bridgePE.sort.sam\n",
      "Number of scaffolds (in header): 697\n",
      "Total number of lines in sam file (excluding header): 9072103\n",
      "Mapped reads, so calculating seqs per feature and feature type\n",
      "Counting reads for all feature and Count reads per feature type (ex: exon, gene, CDS, etc.)\n",
      "Writing out file: /media/sf_LinuxShare/Projects/Lyna/CharSeqPipe/EV_L_50MilReads/hisat2/WT_L_L1_R1R2.trim.assembled.lines200000000.DNA20RNA20.rna.bridgePE.sort.allfeatures.fixed.tsv\n",
      "Writing out file: /media/sf_LinuxShare/Projects/Lyna/CharSeqPipe/EV_L_50MilReads/hisat2/WT_L_L1_R1R2.trim.assembled.lines200000000.DNA20RNA20.rna.bridgePE.sort.allfeatures.sorted.fixed.tsv\n",
      "Writing out file: /media/sf_LinuxShare/Projects/Lyna/CharSeqPipe/EV_L_50MilReads/hisat2/WT_L_L1_R1R2.trim.assembled.lines200000000.DNA20RNA20.rna.bridgePE.sort.featuretypes.fixed.tsv\n"
     ]
    }
   ],
   "source": [
    "#GOfile only has GO terms for genes and therefore we must limit the Gff3file to only genes\n",
    "\n",
    "#Gff3file = '/media/sf_LinuxShare/Ciliates/Genomes/Annotations/ptetraurelia_mac_51_annotation_v2.0.gff3'\n",
    "Gff3file = '/media/sf_LinuxShare/Ciliates/Genomes/Annotations/ptetraurelia_mac_51_annotation_v2.0.tRNAFam.gff3'\n",
    "samfilelist = ['/media/sf_LinuxShare/Projects/Lyna/CharSeqPipe/EV_L_50MilReads/hisat2/WT_L_L1_R1R2.trim.assembled.lines200000000.DNA20RNA20.rna.bridgePE.sort.sam']\n",
    "#GOfile = '/media/sf_LinuxShare/Ciliates/Genomes/Annotations/Ptetraurelia51_GOTerms.tsv'\n",
    "\n",
    "# count number of reads per feature\n",
    "# count number of reads per feature type (exon, mRNA, 5' UTR, etc.) and sort so counts are decreasing\n",
    "\n",
    "main(Gff3file, samfilelist)"
   ]
  },
  {
   "cell_type": "code",
   "execution_count": 2,
   "metadata": {},
   "outputs": [
    {
     "name": "stdout",
     "output_type": "stream",
     "text": [
      "2020-06-09 19:37:23.221568\n"
     ]
    }
   ],
   "source": [
    "%load_ext autoreload\n",
    "%autoreload 2\n",
    "import datetime\n",
    "import os\n",
    "print(datetime.datetime.now())\n",
    "\n",
    "from pygentoolbox import CharSeqPipeline\n",
    "from pygentoolbox import TrimFileToNumberLines\n",
    "\n",
    "# from pygentoolbox.Tools import read_interleaved_fasta_as_noninterleaved\n",
    "# from pygentoolbox.Tools import make_circos_karyotype_file\n",
    "#dir(pygentoolbox.Tools)\n",
    "%matplotlib inline\n",
    "import matplotlib.pyplot as plt"
   ]
  },
  {
   "cell_type": "code",
   "execution_count": 10,
   "metadata": {},
   "outputs": [
    {
     "name": "stdout",
     "output_type": "stream",
     "text": [
      "Start unpacking trimmed.gz file:\n",
      "/media/sf_LinuxShare/Projects/Lyna/CharSeqPipe/EV_L_50MilReads/pear/WT_L_L1_R1R2.trim.assembled.lines200000000.DNA20RNA20.rna.bridgePE.fastq.gz\n",
      "gzip -f -d -k /media/sf_LinuxShare/Projects/Lyna/CharSeqPipe/EV_L_50MilReads/pear/WT_L_L1_R1R2.trim.assembled.lines200000000.DNA20RNA20.rna.bridgePE.fastq.gz\n",
      "Finished unpacking:\n",
      "/media/sf_LinuxShare/Projects/Lyna/CharSeqPipe/EV_L_50MilReads/pear/WT_L_L1_R1R2.trim.assembled.lines200000000.DNA20RNA20.rna.bridgePE.fastq\n",
      "\n",
      "Start unpacking trimmed.gz file:\n",
      "/media/sf_LinuxShare/Projects/Lyna/CharSeqPipe/EV_L_50MilReads/pear/WT_L_L1_R1R2.trim.assembled.lines200000000.DNA20RNA20.dna.bridgePE.fastq.gz\n",
      "gzip -f -d -k /media/sf_LinuxShare/Projects/Lyna/CharSeqPipe/EV_L_50MilReads/pear/WT_L_L1_R1R2.trim.assembled.lines200000000.DNA20RNA20.dna.bridgePE.fastq.gz\n",
      "Finished unpacking:\n",
      "/media/sf_LinuxShare/Projects/Lyna/CharSeqPipe/EV_L_50MilReads/pear/WT_L_L1_R1R2.trim.assembled.lines200000000.DNA20RNA20.dna.bridgePE.fastq\n",
      "\n",
      "converting fastq to fasta\n",
      "Converted fastq to fasta:\n",
      "/media/sf_LinuxShare/Projects/Lyna/CharSeqPipe/EV_L_50MilReads/pear/WT_L_L1_R1R2.trim.assembled.lines200000000.DNA20RNA20.rna.bridgePE.fastq\n",
      "/media/sf_LinuxShare/Projects/Lyna/CharSeqPipe/EV_L_50MilReads/pear/WT_L_L1_R1R2.trim.assembled.lines200000000.DNA20RNA20.rna.bridgePE.fa\n",
      "\n",
      "Start calculations of percent free-floating human RNA contamination\n",
      "Expected percent of human-spiked-in of total RNA is 1 percent\n",
      "Start BLASTn on file:\n",
      "/media/sf_LinuxShare/Projects/Lyna/CharSeqPipe/EV_L_50MilReads/pear/WT_L_L1_R1R2.trim.assembled.lines200000000.DNA20RNA20.rna.bridgePE.fa\n",
      "To Database:\n",
      "/media/sf_LinuxShare/Humans/Genome/Seqs/GRCh38_top_level.fa\n",
      "\n",
      "Directory  /media/sf_LinuxShare/Projects/Lyna/CharSeqPipe/EV_L_50MilReads/blastn  already exists\n",
      "Pipe step 1.1\n",
      "blastn -query /media/sf_LinuxShare/Projects/Lyna/CharSeqPipe/EV_L_50MilReads/pear/WT_L_L1_R1R2.trim.assembled.lines200000000.DNA20RNA20.rna.bridgePE.fa -db /media/sf_LinuxShare/Humans/Genome/Seqs/GRCh38_top_level.fa -outfmt 6\n",
      "Pipe step 1.2\n",
      "Pipe step 1.3\n",
      "Pipe step 2.1\n",
      "Pipe step 2.2\n",
      "Pipe step 2.3\n",
      "Pipe step 3.1\n",
      "Pipe step 3.2\n",
      "Pipe step 3.3\n",
      "Finished BLASTn, output results to:\n",
      "/media/sf_LinuxShare/Projects/Lyna/CharSeqPipe/EV_L_50MilReads/blastn/best_bit_score_per_query.blastn.RNA.tsv\n",
      "/media/sf_LinuxShare/Projects/Lyna/CharSeqPipe/EV_L_50MilReads/blastn/human.rna.freefloating.tsv\n",
      "\n",
      "Measured percent of free-floating human RNA results: 0.049788\n",
      "Expected percent of free-floating RNA from Paramecium tetraurelia \"contaminating\" results: 4.978803\n",
      "##########\n",
      "    Fin\n",
      "##########\n"
     ]
    }
   ],
   "source": [
    "# char_bridge_tools.py requires python2 i'm running python 2.7.17\n",
    "# pip install Python-Levenshtein\n",
    "# pip install biopython\n",
    "# RecordRNADNAContacts.py uses python3 i'm running python 3.7 anaconda\n",
    "# pip install natsort\n",
    "# forwardreadfile='/media/sf_LinuxShare/Projects/Lyna/CharSeqPipe/EV_E_50MilReads/WT_E_L1_R1.fastq.gz'\n",
    "forwardreadfile='/media/sf_LinuxShare/Projects/Lyna/CharSeqPipe/EV_E_50MilReads/WT_L_L1_R1.fastq.gz'\n",
    "reversereadfile='/media/sf_LinuxShare/Projects/Lyna/CharSeqPipe/EV_E_50MilReads/WT_L_L1_R2.fastq.gz'\n",
    "blastdatabase='/media/sf_LinuxShare/Humans/Genome/Seqs/GRCh38_top_level.fa'\n",
    "aligndatabase='/media/sf_LinuxShare/Ciliates/Genomes/Hisat2_Indexes/Pt_51_Mac'\n",
    "# altreadfile='/path/to/altreads.fastq'\n",
    "altreadfile1='/media/sf_LinuxShare/Projects/Lyna/CharSeqPipe/EV_L_50MilReads/pear/WT_L_L1_R1R2.trim.assembled.lines200000000.DNA20RNA20.dna.bridgePE.fastq.gz'\n",
    "altreadfile2='/media/sf_LinuxShare/Projects/Lyna/CharSeqPipe/EV_L_50MilReads/pear/WT_L_L1_R1R2.trim.assembled.lines200000000.DNA20RNA20.rna.bridgePE.fastq.gz'\n",
    "# altreadfile2='/media/sf_LinuxShare/Projects/Lyna/CharSeqPipe/EV_L_50MilReads/pear/WT_L_L1_R1R2.trim.assembled.lines200000000.DNA20RNA20.rna.bridgePE.lines2000000.fastq.gz'\n",
    "# steps=['fastp', 'fastqc', 'pear', 'mergefiles', 'charbridge', 'fastq2fasta', 'blast', 'hisat2', 'samtools', 'rnadnacontacts', 'normalize']\n",
    "steps=['hisat2', 'samtools', 'rnadnacontacts', 'normalize']\n",
    "rnalen=20\n",
    "dnalen=20\n",
    "REsequence='GATC'\n",
    "windowsize=300\n",
    "contactcutoff=2\n",
    "MQ=10\n",
    "sn='Paramecium tetraurelia'\n",
    "\n",
    "\n",
    "CharSeqPipeline.main(forwardreadfile, reversereadfile, blastdatabase, aligndatabase, altreadfile1, altreadfile2, steps, rnalen, dnalen, REsequence, windowsize, contactcutoff, MQ, sn)"
   ]
  },
  {
   "cell_type": "code",
   "execution_count": null,
   "metadata": {},
   "outputs": [],
   "source": []
  }
 ],
 "metadata": {
  "kernelspec": {
   "display_name": "Python 3",
   "language": "python",
   "name": "python3"
  },
  "language_info": {
   "codemirror_mode": {
    "name": "ipython",
    "version": 3
   },
   "file_extension": ".py",
   "mimetype": "text/x-python",
   "name": "python",
   "nbconvert_exporter": "python",
   "pygments_lexer": "ipython3",
   "version": "3.7.4"
  }
 },
 "nbformat": 4,
 "nbformat_minor": 4
}
