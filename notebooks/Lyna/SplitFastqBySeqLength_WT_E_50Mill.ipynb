{
 "cells": [
  {
   "cell_type": "code",
   "execution_count": 18,
   "metadata": {},
   "outputs": [
    {
     "name": "stdout",
     "output_type": "stream",
     "text": [
      "The autoreload extension is already loaded. To reload it, use:\n",
      "  %reload_ext autoreload\n",
      "2020-07-31 09:54:15.220646\n"
     ]
    }
   ],
   "source": [
    "%load_ext autoreload\n",
    "%autoreload 2\n",
    "import datetime\n",
    "import os\n",
    "print(datetime.datetime.now())\n",
    "\n",
    "from pygentoolbox import SplitFastqFileBySeqLength\n",
    "# from pygentoolbox.Tools import read_interleaved_fasta_as_noninterleaved\n",
    "# from pygentoolbox.Tools import make_circos_karyotype_file\n",
    "#dir(pygentoolbox.Tools)\n",
    "%matplotlib inline\n",
    "import matplotlib.pyplot as plt"
   ]
  },
  {
   "cell_type": "code",
   "execution_count": 19,
   "metadata": {},
   "outputs": [
    {
     "name": "stdout",
     "output_type": "stream",
     "text": [
      "On sequence: 0\n",
      "On sequence: 100000\n",
      "On sequence: 200000\n",
      "On sequence: 300000\n",
      "On sequence: 400000\n",
      "On sequence: 500000\n",
      "On sequence: 600000\n",
      "On sequence: 700000\n",
      "On sequence: 800000\n",
      "On sequence: 900000\n",
      "On sequence: 1000000\n",
      "On sequence: 1100000\n",
      "On sequence: 1200000\n",
      "Made one fastq file for each sequence length:\n",
      "Input file: D:\\LinuxShare\\Projects\\Lyna\\CharSeqPipe\\EV_E_50MilReads\\hisat2\\Pt_51_MacAndIES\\WT_E_L1_R1R2.trim.Ass50Million.DNA20RNA20.rna.F4.sort.RNAReadsConnectedDNAOver300winExtIES.fastq\n",
      "Example output filename: D:\\LinuxShare\\Projects\\Lyna\\CharSeqPipe\\EV_E_50MilReads\\hisat2\\Pt_51_MacAndIES\\WT_E_L1_R1R2.trim.Ass50Million.DNA20RNA20.rna.F4.sort.RNAReadsConnectedDNAOver300winExtIES92bp.fastq\n",
      "Number of lines in input file: 5076872\n"
     ]
    }
   ],
   "source": [
    "# f is full path to fastq file\n",
    "f = 'D:\\\\LinuxShare\\\\Projects\\\\Lyna\\\\CharSeqPipe\\\\EV_E_50MilReads\\\\hisat2\\\\Pt_51_MacAndIES\\\\WT_E_L1_R1R2.trim.Ass50Million.DNA20RNA20.rna.F4.sort.RNAReadsConnectedDNAOver300winExtIES.fastq'\n",
    "#f = 'D:\\\\LinuxShare\\\\Projects\\\\Lyna\\\\CharSeqPipe\\\\EV_E_50MilReads\\\\hisat2\\\\Pt_51_MacAndIES\\\\WT_E_L1_R1R2.trim.Ass50Million.DNA20RNA20.rna.F260.sort.IESOnly.fastq'\n",
    "#f = 'D:\\\\LinuxShare\\\\Projects\\\\Lyna\\\\CharSeqPipe\\\\EV_E_50MilReads\\\\pear\\\\WT_E_L1_R1R2.trim.Ass50Million.DNA20RNA20.rna.bridgePE.fastq'\n",
    "\n",
    "SplitFastqFileBySeqLength.main(f)"
   ]
  },
  {
   "cell_type": "code",
   "execution_count": 20,
   "metadata": {},
   "outputs": [
    {
     "name": "stdout",
     "output_type": "stream",
     "text": [
      "The autoreload extension is already loaded. To reload it, use:\n",
      "  %reload_ext autoreload\n",
      "2020-07-31 10:06:24.707129\n"
     ]
    }
   ],
   "source": [
    "%load_ext autoreload\n",
    "%autoreload 2\n",
    "import datetime\n",
    "import os\n",
    "print(datetime.datetime.now())\n",
    "\n",
    "from pygentoolbox import FindScanRNAInFastq\n",
    "# from pygentoolbox.Tools import read_interleaved_fasta_as_noninterleaved\n",
    "# from pygentoolbox.Tools import make_circos_karyotype_file\n",
    "#dir(pygentoolbox.Tools)\n",
    "%matplotlib inline\n",
    "import matplotlib.pyplot as plt"
   ]
  },
  {
   "cell_type": "code",
   "execution_count": 21,
   "metadata": {},
   "outputs": [
    {
     "name": "stdout",
     "output_type": "stream",
     "text": [
      "On sequence: 0\n",
      "Made one fastq file for each sequence length:\n",
      "Input file: D:\\LinuxShare\\Projects\\Lyna\\CharSeqPipe\\EV_E_50MilReads\\hisat2\\Pt_51_MacAndIES\\WT_E_L1_R1R2.trim.Ass50Million.DNA20RNA20.rna.F4.sort.RNAReadsConnectedDNAOver300winExtIES25bp.fastq\n",
      "Example output filename: D:\\LinuxShare\\Projects\\Lyna\\CharSeqPipe\\EV_E_50MilReads\\hisat2\\Pt_51_MacAndIES\\WT_E_L1_R1R2.trim.Ass50Million.DNA20RNA20.rna.F4.sort.RNAReadsConnectedDNAOver300winExtIES25bp.scnRNA.fastq\n",
      "Number of sequences in input file: 2509\n",
      "Number of sequences in output file: 164\n",
      "On sequence: 0\n",
      "Made one fastq file for each sequence length:\n",
      "Input file: D:\\LinuxShare\\Projects\\Lyna\\CharSeqPipe\\EV_E_50MilReads\\hisat2\\Pt_51_MacAndIES\\WT_E_L1_R1R2.trim.Ass50Million.DNA20RNA20.rna.F4.sort.RNAReadsConnectedDNAOver300winExtIES150bp.fastq\n",
      "Example output filename: No scnRNA found\n",
      "Number of sequences in input file: 5157\n",
      "Number of sequences in output file: 0\n"
     ]
    }
   ],
   "source": [
    "# f is full path to fastq file\n",
    "f = 'D:\\\\LinuxShare\\\\Projects\\\\Lyna\\\\CharSeqPipe\\\\EV_E_50MilReads\\\\hisat2\\\\Pt_51_MacAndIES\\\\WT_E_L1_R1R2.trim.Ass50Million.DNA20RNA20.rna.F4.sort.RNAReadsConnectedDNAOver300winExtIES25bp.fastq'\n",
    "#f = 'D:\\\\LinuxShare\\\\Projects\\\\Lyna\\\\CharSeqPipe\\\\EV_E_50MilReads\\\\pear\\\\WT_E_L1_R1R2.trim.Ass50Million.DNA20RNA20.rna.bridgePE25bp.fastq'\n",
    "\n",
    "# currently script assumes UNG signature is at the 5' end of the read\n",
    "FindScanRNAInFastq.main(f)\n",
    "\n",
    "f = 'D:\\\\LinuxShare\\\\Projects\\\\Lyna\\\\CharSeqPipe\\\\EV_E_50MilReads\\\\hisat2\\\\Pt_51_MacAndIES\\\\WT_E_L1_R1R2.trim.Ass50Million.DNA20RNA20.rna.F4.sort.RNAReadsConnectedDNAOver300winExtIES150bp.fastq'\n",
    "#f = 'D:\\\\LinuxShare\\\\Projects\\\\Lyna\\\\CharSeqPipe\\\\EV_E_50MilReads\\\\pear\\\\WT_E_L1_R1R2.trim.Ass50Million.DNA20RNA20.rna.bridgePE25bp.fastq'\n",
    "\n",
    "# currently script assumes UNG signature is at the 5' end of the read\n",
    "FindScanRNAInFastq.main(f)"
   ]
  },
  {
   "cell_type": "code",
   "execution_count": 6,
   "metadata": {},
   "outputs": [
    {
     "name": "stdout",
     "output_type": "stream",
     "text": [
      "On sequence: 0\n",
      "Made one fastq file for each sequence length:\n",
      "Input file: D:\\LinuxShare\\Projects\\Lyna\\CharSeqPipe\\EV_E_50MilReads\\hisat2\\Pt_51_MacAndIES\\WT_E_L1_R1R2.trim.Ass50Million.DNA20RNA20.rna.F260.sort.IESOnly26bp.fastq\n",
      "Example output filename: No scnRNA found\n",
      "Number of sequences in input file: 37\n",
      "Number of sequences in output file: 0\n"
     ]
    }
   ],
   "source": [
    "# f is full path to fastq file\n",
    "f = 'D:\\\\LinuxShare\\\\Projects\\\\Lyna\\\\CharSeqPipe\\\\EV_E_50MilReads\\\\hisat2\\\\Pt_51_MacAndIES\\\\WT_E_L1_R1R2.trim.Ass50Million.DNA20RNA20.rna.F260.sort.IESOnly26bp.fastq'\n",
    "#f = 'D:\\\\LinuxShare\\\\Projects\\\\Lyna\\\\CharSeqPipe\\\\EV_E_50MilReads\\\\pear\\\\WT_E_L1_R1R2.trim.Ass50Million.DNA20RNA20.rna.bridgePE25bp.fastq'\n",
    "\n",
    "# currently script assumes UNG signature is at the 5' end of the read\n",
    "FindScanRNAInFastq.main(f)"
   ]
  },
  {
   "cell_type": "code",
   "execution_count": 10,
   "metadata": {},
   "outputs": [
    {
     "name": "stdout",
     "output_type": "stream",
     "text": [
      "The autoreload extension is already loaded. To reload it, use:\n",
      "  %reload_ext autoreload\n",
      "2020-07-31 08:16:07.285598\n"
     ]
    }
   ],
   "source": [
    "%load_ext autoreload\n",
    "%autoreload 2\n",
    "import datetime\n",
    "import os\n",
    "print(datetime.datetime.now())\n",
    "\n",
    "from pygentoolbox import SplitFastqFileBySeqLength\n",
    "# from pygentoolbox.Tools import read_interleaved_fasta_as_noninterleaved\n",
    "# from pygentoolbox.Tools import make_circos_karyotype_file\n",
    "#dir(pygentoolbox.Tools)\n",
    "%matplotlib inline\n",
    "import matplotlib.pyplot as plt"
   ]
  },
  {
   "cell_type": "code",
   "execution_count": 11,
   "metadata": {},
   "outputs": [
    {
     "name": "stdout",
     "output_type": "stream",
     "text": [
      "On sequence: 0\n",
      "On sequence: 100000\n",
      "On sequence: 200000\n",
      "On sequence: 300000\n",
      "Made one fastq file for each sequence length:\n",
      "Input file: D:\\LinuxShare\\Projects\\Lyna\\CharSeqPipe\\EV_E_50MilReads\\hisat2\\Pt_51_MacAndIES\\WT_E_L1_R1R2.trim.Ass50Million.DNA20RNA20.rna.F4.sort.IESOnly.fastq\n",
      "Example output filename: D:\\LinuxShare\\Projects\\Lyna\\CharSeqPipe\\EV_E_50MilReads\\hisat2\\Pt_51_MacAndIES\\WT_E_L1_R1R2.trim.Ass50Million.DNA20RNA20.rna.F4.sort.IESOnly100bp.fastq\n",
      "Number of lines in input file: 1257876\n"
     ]
    }
   ],
   "source": [
    "# f is full path to fastq file\n",
    "f = 'D:\\\\LinuxShare\\\\Projects\\\\Lyna\\\\CharSeqPipe\\\\EV_E_50MilReads\\\\hisat2\\\\Pt_51_MacAndIES\\\\WT_E_L1_R1R2.trim.Ass50Million.DNA20RNA20.rna.F4.sort.IESOnly.fastq'\n",
    "#f = 'D:\\\\LinuxShare\\\\Projects\\\\Lyna\\\\CharSeqPipe\\\\EV_E_50MilReads\\\\pear\\\\WT_E_L1_R1R2.trim.Ass50Million.DNA20RNA20.rna.bridgePE.fastq'\n",
    "\n",
    "SplitFastqFileBySeqLength.main(f)"
   ]
  },
  {
   "cell_type": "code",
   "execution_count": 12,
   "metadata": {},
   "outputs": [
    {
     "name": "stdout",
     "output_type": "stream",
     "text": [
      "The autoreload extension is already loaded. To reload it, use:\n",
      "  %reload_ext autoreload\n",
      "2020-07-31 08:18:07.672019\n"
     ]
    }
   ],
   "source": [
    "%load_ext autoreload\n",
    "%autoreload 2\n",
    "import datetime\n",
    "import os\n",
    "print(datetime.datetime.now())\n",
    "\n",
    "from pygentoolbox import FindScanRNAInFastq\n",
    "# from pygentoolbox.Tools import read_interleaved_fasta_as_noninterleaved\n",
    "# from pygentoolbox.Tools import make_circos_karyotype_file\n",
    "#dir(pygentoolbox.Tools)\n",
    "%matplotlib inline\n",
    "import matplotlib.pyplot as plt"
   ]
  },
  {
   "cell_type": "code",
   "execution_count": 13,
   "metadata": {},
   "outputs": [
    {
     "name": "stdout",
     "output_type": "stream",
     "text": [
      "On sequence: 0\n",
      "Made one fastq file for each sequence length:\n",
      "Input file: D:\\LinuxShare\\Projects\\Lyna\\CharSeqPipe\\EV_E_50MilReads\\hisat2\\Pt_51_MacAndIES\\WT_E_L1_R1R2.trim.Ass50Million.DNA20RNA20.rna.F4.sort.IESOnly25bp.fastq\n",
      "Example output filename: No scnRNA found\n",
      "Number of sequences in input file: 39\n",
      "Number of sequences in output file: 0\n"
     ]
    }
   ],
   "source": [
    "# f is full path to fastq file\n",
    "f = 'D:\\\\LinuxShare\\\\Projects\\\\Lyna\\\\CharSeqPipe\\\\EV_E_50MilReads\\\\hisat2\\\\Pt_51_MacAndIES\\\\WT_E_L1_R1R2.trim.Ass50Million.DNA20RNA20.rna.F4.sort.IESOnly25bp.fastq'\n",
    "#f = 'D:\\\\LinuxShare\\\\Projects\\\\Lyna\\\\CharSeqPipe\\\\EV_E_50MilReads\\\\pear\\\\WT_E_L1_R1R2.trim.Ass50Million.DNA20RNA20.rna.bridgePE25bp.fastq'\n",
    "\n",
    "# currently script assumes UNG signature is at the 5' end of the read\n",
    "FindScanRNAInFastq.main(f)"
   ]
  },
  {
   "cell_type": "code",
   "execution_count": null,
   "metadata": {},
   "outputs": [],
   "source": []
  }
 ],
 "metadata": {
  "kernelspec": {
   "display_name": "Python 3",
   "language": "python",
   "name": "python3"
  },
  "language_info": {
   "codemirror_mode": {
    "name": "ipython",
    "version": 3
   },
   "file_extension": ".py",
   "mimetype": "text/x-python",
   "name": "python",
   "nbconvert_exporter": "python",
   "pygments_lexer": "ipython3",
   "version": "3.7.3"
  }
 },
 "nbformat": 4,
 "nbformat_minor": 2
}
