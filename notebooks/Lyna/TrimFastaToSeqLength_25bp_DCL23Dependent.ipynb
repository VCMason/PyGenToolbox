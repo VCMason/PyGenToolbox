{
 "cells": [
  {
   "cell_type": "code",
   "execution_count": 4,
   "metadata": {},
   "outputs": [
    {
     "name": "stdout",
     "output_type": "stream",
     "text": [
      "The autoreload extension is already loaded. To reload it, use:\n",
      "  %reload_ext autoreload\n",
      "2021-12-14 16:54:28.564051\n"
     ]
    }
   ],
   "source": [
    "%load_ext autoreload\n",
    "%autoreload 2\n",
    "import datetime\n",
    "print(datetime.datetime.now())\n",
    "\n",
    "from pygentoolbox import TrimFastaToSeqLength\n",
    "#dir(pygentoolbox.Tools)\n",
    "%matplotlib inline\n",
    "import matplotlib.pyplot as plt"
   ]
  },
  {
   "cell_type": "code",
   "execution_count": 5,
   "metadata": {},
   "outputs": [
    {
     "name": "stdout",
     "output_type": "stream",
     "text": [
      "Output file: /media/sf_LinuxShare/Projects/Lyna/KMC/scnRNA/internal_eliminated_sequence_PGM_ParTIES.pt_51_with_ies.trim.DCL2_3.0.1.up.25bp.fa\n"
     ]
    }
   ],
   "source": [
    "fastafile = '/media/sf_LinuxShare/Projects/Lyna/KMC/scnRNA/internal_eliminated_sequence_PGM_ParTIES.pt_51_with_ies.trim.DCL2_3.0.1.up.fa'\n",
    "outfile = '/media/sf_LinuxShare/Projects/Lyna/KMC/scnRNA/internal_eliminated_sequence_PGM_ParTIES.pt_51_with_ies.trim.DCL2_3.0.1.up.25bp.fa'\n",
    "seqlength = 25\n",
    "\n",
    "TrimFastaToSeqLength.main(fastafile, outfile, seqlength)"
   ]
  },
  {
   "cell_type": "code",
   "execution_count": null,
   "metadata": {},
   "outputs": [],
   "source": []
  }
 ],
 "metadata": {
  "kernelspec": {
   "display_name": "Python 3",
   "language": "python",
   "name": "python3"
  },
  "language_info": {
   "codemirror_mode": {
    "name": "ipython",
    "version": 3
   },
   "file_extension": ".py",
   "mimetype": "text/x-python",
   "name": "python",
   "nbconvert_exporter": "python",
   "pygments_lexer": "ipython3",
   "version": "3.7.4"
  }
 },
 "nbformat": 4,
 "nbformat_minor": 4
}
