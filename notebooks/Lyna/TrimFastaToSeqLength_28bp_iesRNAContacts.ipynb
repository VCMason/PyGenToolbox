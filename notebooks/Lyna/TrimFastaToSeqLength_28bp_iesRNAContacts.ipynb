{
 "cells": [
  {
   "cell_type": "code",
   "execution_count": 1,
   "metadata": {},
   "outputs": [
    {
     "name": "stdout",
     "output_type": "stream",
     "text": [
      "2022-03-19 10:00:19.848307\n"
     ]
    }
   ],
   "source": [
    "%load_ext autoreload\n",
    "%autoreload 2\n",
    "import datetime\n",
    "print(datetime.datetime.now())\n",
    "\n",
    "from pygentoolbox import TrimFastaToSeqLength\n",
    "#dir(pygentoolbox.Tools)\n",
    "%matplotlib inline\n",
    "import matplotlib.pyplot as plt"
   ]
  },
  {
   "cell_type": "code",
   "execution_count": 2,
   "metadata": {},
   "outputs": [
    {
     "name": "stdout",
     "output_type": "stream",
     "text": [
      "Output file: /media/sf_LinuxShare/Projects/Lyna/CharSeqPipe/EV_E/pear/MacAndIESDNABuffer2000RNABuffer15/ContactsInMDSs/WT_E_L1_R1R2.trim.AssUnFUnR.RNAs.ContactsNearIES.dnabuffer0.rnabuffer0.Short.28bp.fa\n",
      "Output file: /media/sf_LinuxShare/Projects/Lyna/CharSeqPipe/EV_E/pear/MacAndIESDNABuffer2000RNABuffer15/ContactsInIESs/WT_E_L1_R1R2.trim.AssUnFUnR.RNAs.ContactsNearIES.dnabuffer2000.rnabuffer15.Short.28bp.fa\n",
      "Output file: /media/sf_LinuxShare/Projects/Lyna/CharSeqPipe/EV_L/pear/MacAndIESDNABuffer2000RNABuffer15/ContactsInMDSs/WT_L_L1_R1R2.trim.AssUnFUnR.RNAs.ContactsNearIES.dnabuffer0.rnabuffer0.Short.28bp.fa\n",
      "Output file: /media/sf_LinuxShare/Projects/Lyna/CharSeqPipe/EV_L/pear/MacAndIESDNABuffer2000RNABuffer15/ContactsInIESs/WT_L_L1_R1R2.trim.AssUnFUnR.RNAs.ContactsNearIES.dnabuffer2000.rnabuffer15.Short.28bp.fa\n",
      "Output file: /media/sf_LinuxShare/Projects/Lyna/CharSeqPipe/PGM_L/pear/MacAndIESDNABuffer2000RNABuffer15/ContactsInMDSs/PGM_L_S2_L002_R1_R1R2.trim.AssUnFUnR.RNAs.ContactsNearIES.dnabuffer0.rnabuffer0.Short.28bp.fa\n",
      "Output file: /media/sf_LinuxShare/Projects/Lyna/CharSeqPipe/PGM_L/pear/MacAndIESDNABuffer2000RNABuffer15/ContactsInIESs/PGM_L_S2_L002_R1_R1R2.trim.AssUnFUnR.RNAs.ContactsNearIES.dnabuffer2000.rnabuffer15.Short.28bp.fa\n",
      "Output file: /media/sf_LinuxShare/Projects/Lyna/CharSeqPipe/Nowa1_E/pear/MacAndIESDNABuffer2000RNABuffer15/ContactsInMDSs/NOWA_E_S1_L002_R1_R1R2.trim.AssUnFUnR.RNAs.ContactsNearIES.dnabuffer0.rnabuffer0.Short.28bp.fa\n",
      "Output file: /media/sf_LinuxShare/Projects/Lyna/CharSeqPipe/Nowa1_E/pear/MacAndIESDNABuffer2000RNABuffer15/ContactsInIESs/NOWA_E_S1_L002_R1_R1R2.trim.AssUnFUnR.RNAs.ContactsNearIES.dnabuffer2000.rnabuffer15.Short.28bp.fa\n"
     ]
    }
   ],
   "source": [
    "\n",
    "fastafile = '/media/sf_LinuxShare/Projects/Lyna/CharSeqPipe/EV_E/pear/MacAndIESDNABuffer2000RNABuffer15/ContactsInMDSs/WT_E_L1_R1R2.trim.AssUnFUnR.RNAs.ContactsNearIES.dnabuffer0.rnabuffer0.Short.fa'\n",
    "outfile = fastafile[:-len('.fa')] + '.28bp.fa'\n",
    "#outfile = '/media/sf_LinuxShare/Projects/Lyna/KMC/scnRNA/internal_eliminated_sequence_PGM_ParTIES.pt_51_with_ies.trim.DCL2_3.0.1.up.25bp.fa'\n",
    "seqlength = 28\n",
    "\n",
    "TrimFastaToSeqLength.main(fastafile, outfile, seqlength)\n",
    "\n",
    "fastafile = '/media/sf_LinuxShare/Projects/Lyna/CharSeqPipe/EV_E/pear/MacAndIESDNABuffer2000RNABuffer15/ContactsInIESs/WT_E_L1_R1R2.trim.AssUnFUnR.RNAs.ContactsNearIES.dnabuffer2000.rnabuffer15.Short.fa'\n",
    "outfile = fastafile[:-len('.fa')] + '.28bp.fa'\n",
    "#outfile = '/media/sf_LinuxShare/Projects/Lyna/KMC/scnRNA/internal_eliminated_sequence_PGM_ParTIES.pt_51_with_ies.trim.DCL2_3.0.1.up.25bp.fa'\n",
    "seqlength = 28\n",
    "\n",
    "TrimFastaToSeqLength.main(fastafile, outfile, seqlength)\n",
    "\n",
    "fastafile = '/media/sf_LinuxShare/Projects/Lyna/CharSeqPipe/EV_L/pear/MacAndIESDNABuffer2000RNABuffer15/ContactsInMDSs/WT_L_L1_R1R2.trim.AssUnFUnR.RNAs.ContactsNearIES.dnabuffer0.rnabuffer0.Short.fa'\n",
    "outfile = fastafile[:-len('.fa')] + '.28bp.fa'\n",
    "#outfile = '/media/sf_LinuxShare/Projects/Lyna/KMC/scnRNA/internal_eliminated_sequence_PGM_ParTIES.pt_51_with_ies.trim.DCL2_3.0.1.up.25bp.fa'\n",
    "seqlength = 28\n",
    "\n",
    "TrimFastaToSeqLength.main(fastafile, outfile, seqlength)\n",
    "\n",
    "fastafile = '/media/sf_LinuxShare/Projects/Lyna/CharSeqPipe/EV_L/pear/MacAndIESDNABuffer2000RNABuffer15/ContactsInIESs/WT_L_L1_R1R2.trim.AssUnFUnR.RNAs.ContactsNearIES.dnabuffer2000.rnabuffer15.Short.fa'\n",
    "outfile = fastafile[:-len('.fa')] + '.28bp.fa'\n",
    "#outfile = '/media/sf_LinuxShare/Projects/Lyna/KMC/scnRNA/internal_eliminated_sequence_PGM_ParTIES.pt_51_with_ies.trim.DCL2_3.0.1.up.25bp.fa'\n",
    "seqlength = 28\n",
    "\n",
    "TrimFastaToSeqLength.main(fastafile, outfile, seqlength)\n",
    "\n",
    "fastafile = '/media/sf_LinuxShare/Projects/Lyna/CharSeqPipe/PGM_L/pear/MacAndIESDNABuffer2000RNABuffer15/ContactsInMDSs/PGM_L_S2_L002_R1_R1R2.trim.AssUnFUnR.RNAs.ContactsNearIES.dnabuffer0.rnabuffer0.Short.fa'\n",
    "outfile = fastafile[:-len('.fa')] + '.28bp.fa'\n",
    "#outfile = '/media/sf_LinuxShare/Projects/Lyna/KMC/scnRNA/internal_eliminated_sequence_PGM_ParTIES.pt_51_with_ies.trim.DCL2_3.0.1.up.25bp.fa'\n",
    "seqlength = 28\n",
    "\n",
    "TrimFastaToSeqLength.main(fastafile, outfile, seqlength)\n",
    "\n",
    "fastafile = '/media/sf_LinuxShare/Projects/Lyna/CharSeqPipe/PGM_L/pear/MacAndIESDNABuffer2000RNABuffer15/ContactsInIESs/PGM_L_S2_L002_R1_R1R2.trim.AssUnFUnR.RNAs.ContactsNearIES.dnabuffer2000.rnabuffer15.Short.fa'\n",
    "outfile = fastafile[:-len('.fa')] + '.28bp.fa'\n",
    "#outfile = '/media/sf_LinuxShare/Projects/Lyna/KMC/scnRNA/internal_eliminated_sequence_PGM_ParTIES.pt_51_with_ies.trim.DCL2_3.0.1.up.25bp.fa'\n",
    "seqlength = 28\n",
    "\n",
    "TrimFastaToSeqLength.main(fastafile, outfile, seqlength)\n",
    "\n",
    "fastafile = '/media/sf_LinuxShare/Projects/Lyna/CharSeqPipe/Nowa1_E/pear/MacAndIESDNABuffer2000RNABuffer15/ContactsInMDSs/NOWA_E_S1_L002_R1_R1R2.trim.AssUnFUnR.RNAs.ContactsNearIES.dnabuffer0.rnabuffer0.Short.fa'\n",
    "outfile = fastafile[:-len('.fa')] + '.28bp.fa'\n",
    "#outfile = '/media/sf_LinuxShare/Projects/Lyna/KMC/scnRNA/internal_eliminated_sequence_PGM_ParTIES.pt_51_with_ies.trim.DCL2_3.0.1.up.25bp.fa'\n",
    "seqlength = 28\n",
    "\n",
    "TrimFastaToSeqLength.main(fastafile, outfile, seqlength)\n",
    "\n",
    "fastafile = '/media/sf_LinuxShare/Projects/Lyna/CharSeqPipe/Nowa1_E/pear/MacAndIESDNABuffer2000RNABuffer15/ContactsInIESs/NOWA_E_S1_L002_R1_R1R2.trim.AssUnFUnR.RNAs.ContactsNearIES.dnabuffer2000.rnabuffer15.Short.fa'\n",
    "outfile = fastafile[:-len('.fa')] + '.28bp.fa'\n",
    "#outfile = '/media/sf_LinuxShare/Projects/Lyna/KMC/scnRNA/internal_eliminated_sequence_PGM_ParTIES.pt_51_with_ies.trim.DCL2_3.0.1.up.25bp.fa'\n",
    "seqlength = 28\n",
    "\n",
    "TrimFastaToSeqLength.main(fastafile, outfile, seqlength)"
   ]
  },
  {
   "cell_type": "code",
   "execution_count": null,
   "metadata": {},
   "outputs": [],
   "source": []
  }
 ],
 "metadata": {
  "kernelspec": {
   "display_name": "Python 3",
   "language": "python",
   "name": "python3"
  },
  "language_info": {
   "codemirror_mode": {
    "name": "ipython",
    "version": 3
   },
   "file_extension": ".py",
   "mimetype": "text/x-python",
   "name": "python",
   "nbconvert_exporter": "python",
   "pygments_lexer": "ipython3",
   "version": "3.7.4"
  }
 },
 "nbformat": 4,
 "nbformat_minor": 4
}
