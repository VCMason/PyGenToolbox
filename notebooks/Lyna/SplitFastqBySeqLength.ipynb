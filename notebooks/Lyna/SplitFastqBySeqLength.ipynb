{
 "cells": [
  {
   "cell_type": "code",
   "execution_count": 2,
   "metadata": {},
   "outputs": [
    {
     "name": "stdout",
     "output_type": "stream",
     "text": [
      "The autoreload extension is already loaded. To reload it, use:\n",
      "  %reload_ext autoreload\n",
      "2020-07-30 23:14:45.390091\n"
     ]
    }
   ],
   "source": [
    "%load_ext autoreload\n",
    "%autoreload 2\n",
    "import datetime\n",
    "import os\n",
    "print(datetime.datetime.now())\n",
    "\n",
    "from pygentoolbox import SplitFastqFileBySeqLength\n",
    "# from pygentoolbox.Tools import read_interleaved_fasta_as_noninterleaved\n",
    "# from pygentoolbox.Tools import make_circos_karyotype_file\n",
    "#dir(pygentoolbox.Tools)\n",
    "%matplotlib inline\n",
    "import matplotlib.pyplot as plt"
   ]
  },
  {
   "cell_type": "code",
   "execution_count": 3,
   "metadata": {},
   "outputs": [
    {
     "name": "stdout",
     "output_type": "stream",
     "text": [
      "On sequence: 0\n",
      "On sequence: 100000\n",
      "On sequence: 200000\n",
      "On sequence: 300000\n",
      "Made one fastq file for each sequence length:\n",
      "Input file: D:\\LinuxShare\\Projects\\Lyna\\CharSeqPipe\\EV_L_50MilReads\\hisat2\\Pt_51_MacAndIES\\WT_L_L1_R1R2.trim.assembled.lines200000000.DNA20RNA20.rna.F260.sort.IESOnly.fastq\n",
      "Example output filename: D:\\LinuxShare\\Projects\\Lyna\\CharSeqPipe\\EV_L_50MilReads\\hisat2\\Pt_51_MacAndIES\\WT_L_L1_R1R2.trim.assembled.lines200000000.DNA20RNA20.rna.F260.sort.IESOnly162bp.fastq\n",
      "Number of lines in input file: 1282092\n"
     ]
    }
   ],
   "source": [
    "# f is full path to fastq file\n",
    "f = 'D:\\\\LinuxShare\\\\Projects\\\\Lyna\\\\CharSeqPipe\\\\EV_L_50MilReads\\\\hisat2\\\\Pt_51_MacAndIES\\\\WT_L_L1_R1R2.trim.assembled.lines200000000.DNA20RNA20.rna.F260.sort.IESOnly.fastq'\n",
    "#f = 'D:\\\\LinuxShare\\\\Projects\\\\Lyna\\\\CharSeqPipe\\\\EV_E_50MilReads\\\\pear\\\\WT_E_L1_R1R2.trim.Ass50Million.DNA20RNA20.rna.bridgePE.fastq'\n",
    "\n",
    "SplitFastqFileBySeqLength.main(f)"
   ]
  },
  {
   "cell_type": "code",
   "execution_count": 5,
   "metadata": {},
   "outputs": [
    {
     "name": "stdout",
     "output_type": "stream",
     "text": [
      "The autoreload extension is already loaded. To reload it, use:\n",
      "  %reload_ext autoreload\n",
      "2020-07-30 23:17:51.042217\n"
     ]
    }
   ],
   "source": [
    "%load_ext autoreload\n",
    "%autoreload 2\n",
    "import datetime\n",
    "import os\n",
    "print(datetime.datetime.now())\n",
    "\n",
    "from pygentoolbox import FindScanRNAInFastq\n",
    "# from pygentoolbox.Tools import read_interleaved_fasta_as_noninterleaved\n",
    "# from pygentoolbox.Tools import make_circos_karyotype_file\n",
    "#dir(pygentoolbox.Tools)\n",
    "%matplotlib inline\n",
    "import matplotlib.pyplot as plt"
   ]
  },
  {
   "cell_type": "code",
   "execution_count": 6,
   "metadata": {},
   "outputs": [
    {
     "name": "stdout",
     "output_type": "stream",
     "text": [
      "On sequence: 0\n",
      "Made one fastq file for each sequence length:\n",
      "Input file: D:\\LinuxShare\\Projects\\Lyna\\CharSeqPipe\\EV_L_50MilReads\\hisat2\\Pt_51_MacAndIES\\WT_L_L1_R1R2.trim.assembled.lines200000000.DNA20RNA20.rna.F260.sort.IESOnly25bp.fastq\n",
      "Example output filename: D:\\LinuxShare\\Projects\\Lyna\\CharSeqPipe\\EV_L_50MilReads\\hisat2\\Pt_51_MacAndIES\\WT_L_L1_R1R2.trim.assembled.lines200000000.DNA20RNA20.rna.F260.sort.IESOnly25bp.scnRNA.fastq\n",
      "Number of sequences in input file: 59\n",
      "Number of sequences in output file: 3\n"
     ]
    }
   ],
   "source": [
    "# f is full path to fastq file\n",
    "f = 'D:\\\\LinuxShare\\\\Projects\\\\Lyna\\\\CharSeqPipe\\\\EV_L_50MilReads\\\\hisat2\\\\Pt_51_MacAndIES\\\\WT_L_L1_R1R2.trim.assembled.lines200000000.DNA20RNA20.rna.F260.sort.IESOnly25bp.fastq'\n",
    "#f = 'D:\\\\LinuxShare\\\\Projects\\\\Lyna\\\\CharSeqPipe\\\\EV_E_50MilReads\\\\pear\\\\WT_E_L1_R1R2.trim.Ass50Million.DNA20RNA20.rna.bridgePE25bp.fastq'\n",
    "\n",
    "# currently script assumes UNG signature is at the 5' end of the read\n",
    "FindScanRNAInFastq.main(f)"
   ]
  },
  {
   "cell_type": "code",
   "execution_count": 7,
   "metadata": {},
   "outputs": [
    {
     "name": "stdout",
     "output_type": "stream",
     "text": [
      "On sequence: 0\n",
      "Made one fastq file for each sequence length:\n",
      "Input file: D:\\LinuxShare\\Projects\\Lyna\\CharSeqPipe\\EV_L_50MilReads\\hisat2\\Pt_51_MacAndIES\\WT_L_L1_R1R2.trim.assembled.lines200000000.DNA20RNA20.rna.F260.sort.IESOnly26bp.fastq\n",
      "Example output filename: No scnRNA found\n",
      "Number of sequences in input file: 70\n",
      "Number of sequences in output file: 0\n"
     ]
    }
   ],
   "source": [
    "# f is full path to fastq file\n",
    "f = 'D:\\\\LinuxShare\\\\Projects\\\\Lyna\\\\CharSeqPipe\\\\EV_L_50MilReads\\\\hisat2\\\\Pt_51_MacAndIES\\\\WT_L_L1_R1R2.trim.assembled.lines200000000.DNA20RNA20.rna.F260.sort.IESOnly26bp.fastq'\n",
    "#f = 'D:\\\\LinuxShare\\\\Projects\\\\Lyna\\\\CharSeqPipe\\\\EV_E_50MilReads\\\\pear\\\\WT_E_L1_R1R2.trim.Ass50Million.DNA20RNA20.rna.bridgePE25bp.fastq'\n",
    "\n",
    "# currently script assumes UNG signature is at the 5' end of the read\n",
    "FindScanRNAInFastq.main(f)"
   ]
  },
  {
   "cell_type": "code",
   "execution_count": null,
   "metadata": {},
   "outputs": [],
   "source": []
  }
 ],
 "metadata": {
  "kernelspec": {
   "display_name": "Python 3",
   "language": "python",
   "name": "python3"
  },
  "language_info": {
   "codemirror_mode": {
    "name": "ipython",
    "version": 3
   },
   "file_extension": ".py",
   "mimetype": "text/x-python",
   "name": "python",
   "nbconvert_exporter": "python",
   "pygments_lexer": "ipython3",
   "version": "3.7.4"
  }
 },
 "nbformat": 4,
 "nbformat_minor": 4
}
