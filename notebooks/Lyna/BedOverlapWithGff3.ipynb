{
 "cells": [
  {
   "cell_type": "code",
   "execution_count": 1,
   "metadata": {},
   "outputs": [
    {
     "name": "stdout",
     "output_type": "stream",
     "text": [
      "2022-03-19 16:20:39.634819\n"
     ]
    }
   ],
   "source": [
    "%load_ext autoreload\n",
    "%autoreload 2\n",
    "import datetime\n",
    "print(datetime.datetime.now())\n",
    "\n",
    "import pygentoolbox.BedOverlapWithGff3\n",
    "# from pygentoolbox.BedOverlapWithGff3 import main\n",
    "#dir(pygentoolbox.Tools)\n",
    "%matplotlib inline\n",
    "import matplotlib.pyplot as plt"
   ]
  },
  {
   "cell_type": "code",
   "execution_count": 4,
   "metadata": {},
   "outputs": [
    {
     "name": "stdout",
     "output_type": "stream",
     "text": [
      "Input files:\n",
      "/media/sf_LinuxShare/Projects/Lyna/lnc1/lnc1_Connections.bed\n",
      "/media/sf_LinuxShare/Ciliates/Genomes/Annotations/ptetraurelia_mac_51_annotation_v2.0.gene.gff3\n",
      "Output file:\n",
      "/media/sf_LinuxShare/Projects/Lyna/lnc1/lnc1_Connections.BedOverlapGff3\n"
     ]
    }
   ],
   "source": [
    "fbed = '/media/sf_LinuxShare/Projects/Lyna/lnc1/lnc1_Connections.bed'\n",
    "fgff3 = '/media/sf_LinuxShare/Ciliates/Genomes/Annotations/ptetraurelia_mac_51_annotation_v2.0.gene.gff3'\n",
    "outfile = '/media/sf_LinuxShare/Projects/Lyna/lnc1/lnc1_Connections.BedOverlapGff3'\n",
    "\n",
    "pygentoolbox.BedOverlapWithGff3.main(fbed, fgff3, outfile)"
   ]
  },
  {
   "cell_type": "code",
   "execution_count": 8,
   "metadata": {},
   "outputs": [
    {
     "name": "stdout",
     "output_type": "stream",
     "text": [
      "The autoreload extension is already loaded. To reload it, use:\n",
      "  %reload_ext autoreload\n",
      "2021-10-14 16:43:43.304765\n"
     ]
    }
   ],
   "source": [
    "%load_ext autoreload\n",
    "%autoreload 2\n",
    "import datetime\n",
    "print(datetime.datetime.now())\n",
    "\n",
    "import pygentoolbox.CombineTwoTablesByReferenceColumn\n",
    "# from pygentoolbox.BedOverlapWithGff3 import main\n",
    "#dir(pygentoolbox.Tools)\n",
    "%matplotlib inline\n",
    "import matplotlib.pyplot as plt"
   ]
  },
  {
   "cell_type": "code",
   "execution_count": 9,
   "metadata": {},
   "outputs": [
    {
     "name": "stdout",
     "output_type": "stream",
     "text": [
      "Number of columns in file2: 4\n"
     ]
    }
   ],
   "source": [
    "# assumes files tab delimited with extension .tsv, all paths to file must be full paths\n",
    "# f1 is the base file that will have f2 added to the end of each row with matching first column\n",
    "# f1 names in reference column column must be a subset of names in file f2\n",
    "f1 = '/media/sf_LinuxShare/Projects/Lyna/lnc1/lnc1_Connections.BedOverlapGff3'\n",
    "# column numbers start counting at 0\n",
    "refcol1 = 2\n",
    "# f2 is the additional file that will be added to the end of rows of f1\n",
    "f2 = '/media/sf_LinuxShare/Ciliates/Genomes/Annotations/Ptetraurelia51_GOTerms.NoHeader.tsv'\n",
    "refcol2 = 0\n",
    "# outfile is the output filename\n",
    "refcol1\n",
    "\n",
    "pygentoolbox.CombineTwoTablesByReferenceColumn.combine_two_tables_by_first_column_id(f1, f2, refcol1, refcol2)"
   ]
  },
  {
   "cell_type": "code",
   "execution_count": 74,
   "metadata": {},
   "outputs": [
    {
     "name": "stdout",
     "output_type": "stream",
     "text": [
      "Number of columns in file2: 9\n"
     ]
    }
   ],
   "source": [
    "# assumes files tab delimited with extension .tsv, all paths to file must be full paths\n",
    "# f1 is the base file that will have f2 added to the end of each row with matching first column\n",
    "# f1 names in reference column column must be a subset of names in file f2\n",
    "f1 = 'D:\\\\LinuxShare\\\\Projects\\\\Theresa\\\\Hisat2\\\\FlagHA_Pt08\\\\Pt_51_Mac\\\\52_Late.sort.collapsedwindows.w100.d500.GenesOnly.BedOverlapGff3.Combined.tsv'\n",
    "# column numbers start counting at 0\n",
    "refcol1 = 2\n",
    "# f2 is the additional file that will be added to the end of rows of f1\n",
    "f2 = 'D:\\\\LinuxShare\\\\Projects\\\\Theresa\\\\Limma\\\\EBayes\\\\mRNA_EVL12_vs_Pt08OE1\\\\VoomEBayes.fit.DiffExpRes.TopTable.EVL12_vs_Pt08OE1.headerfix.tsv'\n",
    "refcol2 = 0\n",
    "# outfile is the output filename\n",
    "refcol1\n",
    "\n",
    "pygentoolbox.CombineTwoTablesByReferenceColumn.combine_two_tables_by_first_column_id(f1, f2, refcol1, refcol2)"
   ]
  },
  {
   "cell_type": "code",
   "execution_count": 75,
   "metadata": {},
   "outputs": [
    {
     "name": "stdout",
     "output_type": "stream",
     "text": [
      "Number of columns in file2: 25\n"
     ]
    }
   ],
   "source": [
    "# assumes files tab delimited with extension .tsv, all paths to file must be full paths\n",
    "# f1 is the base file that will have f2 added to the end of each row with matching first column\n",
    "# f1 names in reference column column must be a subset of names in file f2\n",
    "f1 = 'D:\\\\LinuxShare\\\\Projects\\\\Theresa\\\\Hisat2\\\\FlagHA_Pt08\\\\Pt_51_Mac\\\\52_Late.sort.collapsedwindows.w100.d500.GenesOnly.BedOverlapGff3.Combined.Combined.tsv'\n",
    "# column numbers start counting at 0\n",
    "refcol1 = 2\n",
    "# f2 is the additional file that will be added to the end of rows of f1\n",
    "#f2 = 'D:\\\\LinuxShare\\\\Projects\\\\Theresa\\\\Limma\\\\EBayes\\\\mRNA_EVL12_vs_Pt08OE1\\\\VoomEBayes.fit.DiffExpRes.TopTable.EVL12_vs_Pt08OE1.Combined.tsv'\n",
    "f2 = 'D:\\\\LinuxShare\\\\Ciliates\\\\Genomes\\\\Annotations\\\\Ptetraurelia51_GeneNames.GOTerms.AutogamyExpression.tsv'\n",
    "refcol2 = 0\n",
    "# outfile is the output filename\n",
    "refcol1\n",
    "\n",
    "pygentoolbox.CombineTwoTablesByReferenceColumn.combine_two_tables_by_first_column_id(f1, f2, refcol1, refcol2)"
   ]
  },
  {
   "cell_type": "code",
   "execution_count": null,
   "metadata": {},
   "outputs": [],
   "source": []
  }
 ],
 "metadata": {
  "kernelspec": {
   "display_name": "Python 3",
   "language": "python",
   "name": "python3"
  },
  "language_info": {
   "codemirror_mode": {
    "name": "ipython",
    "version": 3
   },
   "file_extension": ".py",
   "mimetype": "text/x-python",
   "name": "python",
   "nbconvert_exporter": "python",
   "pygments_lexer": "ipython3",
   "version": "3.7.4"
  }
 },
 "nbformat": 4,
 "nbformat_minor": 4
}
