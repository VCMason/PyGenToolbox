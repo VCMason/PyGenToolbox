{
 "cells": [
  {
   "cell_type": "code",
   "execution_count": 13,
   "metadata": {},
   "outputs": [
    {
     "name": "stdout",
     "output_type": "stream",
     "text": [
      "The autoreload extension is already loaded. To reload it, use:\n",
      "  %reload_ext autoreload\n",
      "2019-12-18 14:45:55.794477\n"
     ]
    }
   ],
   "source": [
    "%load_ext autoreload\n",
    "%autoreload 2\n",
    "import datetime\n",
    "import os\n",
    "print(datetime.datetime.now())\n",
    "\n",
    "from pygentoolbox.Tools import read_interleaved_fasta_as_noninterleaved\n",
    "from pygentoolbox.Tools import make_circos_karyotype_file\n",
    "#dir(pygentoolbox.Tools)\n",
    "%matplotlib inline\n",
    "import matplotlib.pyplot as plt"
   ]
  },
  {
   "cell_type": "code",
   "execution_count": 14,
   "metadata": {},
   "outputs": [
    {
     "name": "stdout",
     "output_type": "stream",
     "text": [
      "Counting total lines\n",
      "Number of lines in genome file: 1202753\n",
      "Reading in interleaved fasta as noninterleaved fasta dictionary\n",
      "Finished reading in interleaved fasta as non-interleaved\n",
      "begin formatting for karyotype file\n",
      "Species: Paramecium tetraurelia\n",
      "output karyotype file to: D:\\LinuxShare\\Ciliates\\Genomes\\Seqs\\ptetraurelia_mac_51.karyotype.txt\n"
     ]
    }
   ],
   "source": [
    "#sn = Species name\n",
    "sn = 'Paramecium tetraurelia'\n",
    "#f is fasta file non-interleaved\n",
    "f = 'D:\\\\LinuxShare\\\\Ciliates\\\\Genomes\\\\Seqs\\\\ptetraurelia_mac_51.fa'\n",
    "# full output path for Circos karyotype file\n",
    "outpath = 'D:\\\\LinuxShare\\\\Ciliates\\\\Genomes\\\\Seqs\\\\ptetraurelia_mac_51.karyotype.txt'\n",
    "\n",
    "names, d = read_interleaved_fasta_as_noninterleaved(f)\n",
    "make_circos_karyotype_file(d, outpath, sn)\n"
   ]
  },
  {
   "cell_type": "code",
   "execution_count": null,
   "metadata": {},
   "outputs": [],
   "source": []
  }
 ],
 "metadata": {
  "kernelspec": {
   "display_name": "Python 3",
   "language": "python",
   "name": "python3"
  },
  "language_info": {
   "codemirror_mode": {
    "name": "ipython",
    "version": 3
   },
   "file_extension": ".py",
   "mimetype": "text/x-python",
   "name": "python",
   "nbconvert_exporter": "python",
   "pygments_lexer": "ipython3",
   "version": "3.7.3"
  }
 },
 "nbformat": 4,
 "nbformat_minor": 4
}
