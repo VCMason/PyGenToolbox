{
 "cells": [
  {
   "cell_type": "code",
   "execution_count": 1,
   "metadata": {},
   "outputs": [
    {
     "name": "stdout",
     "output_type": "stream",
     "text": [
      "2020-02-07 09:16:19.995969\n"
     ]
    }
   ],
   "source": [
    "%load_ext autoreload\n",
    "%autoreload 2\n",
    "import datetime\n",
    "print(datetime.datetime.now())\n",
    "\n",
    "from pygentoolbox.Tools import fastq_to_fasta\n",
    "#dir(pygentoolbox.Tools)\n",
    "%matplotlib inline\n",
    "import matplotlib.pyplot as plt"
   ]
  },
  {
   "cell_type": "code",
   "execution_count": 4,
   "metadata": {},
   "outputs": [
    {
     "name": "stdout",
     "output_type": "stream",
     "text": [
      "Converted fastq to fasta:\n",
      "D:/LinuxShare/Projects/Lyna/flypipe/500_R1R2.trim.AssUnFUnR.DefaultBridge.DNA15RNA15.CodeMod.rna.bridgePE.fastq\n",
      "D:/LinuxShare/Projects/Lyna/flypipe\\500_R1R2.trim.AssUnFUnR.DefaultBridge.DNA15RNA15.CodeMod.rna.bridgePE.fa\n"
     ]
    }
   ],
   "source": [
    "fullpath = 'D:/LinuxShare/Projects/Lyna/flypipe/500_R1R2.trim.AssUnFUnR.DefaultBridge.DNA15RNA15.CodeMod.rna.bridgePE.fastq'\n",
    "\n",
    "fastq_to_fasta(fullpath)"
   ]
  },
  {
   "cell_type": "code",
   "execution_count": null,
   "metadata": {},
   "outputs": [],
   "source": []
  }
 ],
 "metadata": {
  "kernelspec": {
   "display_name": "Python 3",
   "language": "python",
   "name": "python3"
  },
  "language_info": {
   "codemirror_mode": {
    "name": "ipython",
    "version": 3
   },
   "file_extension": ".py",
   "mimetype": "text/x-python",
   "name": "python",
   "nbconvert_exporter": "python",
   "pygments_lexer": "ipython3",
   "version": "3.7.3"
  }
 },
 "nbformat": 4,
 "nbformat_minor": 2
}
