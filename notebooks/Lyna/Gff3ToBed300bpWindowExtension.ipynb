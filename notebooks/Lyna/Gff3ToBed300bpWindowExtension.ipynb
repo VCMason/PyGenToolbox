{
 "cells": [
  {
   "cell_type": "code",
   "execution_count": 6,
   "metadata": {},
   "outputs": [
    {
     "name": "stdout",
     "output_type": "stream",
     "text": [
      "The autoreload extension is already loaded. To reload it, use:\n",
      "  %reload_ext autoreload\n",
      "2020-07-31 09:08:30.648380\n"
     ]
    }
   ],
   "source": [
    "%load_ext autoreload\n",
    "%autoreload 2\n",
    "import datetime\n",
    "import os\n",
    "import pandas as pd\n",
    "print(datetime.datetime.now())\n",
    "\n",
    "#dir(pygentoolbox.Tools)\n",
    "%matplotlib inline\n",
    "import matplotlib.pyplot as plt\n",
    "from pygentoolbox.Gff3ToBedExtendFeatures import main"
   ]
  },
  {
   "cell_type": "code",
   "execution_count": 7,
   "metadata": {},
   "outputs": [
    {
     "name": "stdout",
     "output_type": "stream",
     "text": [
      "Reading input: D:\\LinuxShare\\Ciliates\\Genomes\\Annotations\\internal_eliminated_sequence_PGM_ParTIES.pt_51_with_ies.gff3\n",
      "output file: D:\\LinuxShare\\Ciliates\\Genomes\\Annotations\\internal_eliminated_sequence_PGM_ParTIES.pt_51_with_ies.300win.bed\n",
      "finished converting gff3 to bed file\n"
     ]
    }
   ],
   "source": [
    "gff3file = 'D:\\\\LinuxShare\\\\Ciliates\\\\Genomes\\\\Annotations\\\\internal_eliminated_sequence_PGM_ParTIES.pt_51_with_ies.gff3'\n",
    "window = 300\n",
    "\n",
    "main(gff3file, window)"
   ]
  },
  {
   "cell_type": "code",
   "execution_count": null,
   "metadata": {},
   "outputs": [],
   "source": []
  }
 ],
 "metadata": {
  "kernelspec": {
   "display_name": "Python 3",
   "language": "python",
   "name": "python3"
  },
  "language_info": {
   "codemirror_mode": {
    "name": "ipython",
    "version": 3
   },
   "file_extension": ".py",
   "mimetype": "text/x-python",
   "name": "python",
   "nbconvert_exporter": "python",
   "pygments_lexer": "ipython3",
   "version": "3.7.3"
  }
 },
 "nbformat": 4,
 "nbformat_minor": 2
}
