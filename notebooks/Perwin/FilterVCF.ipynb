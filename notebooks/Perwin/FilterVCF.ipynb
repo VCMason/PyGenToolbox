{
 "cells": [
  {
   "cell_type": "code",
   "execution_count": 1,
   "metadata": {},
   "outputs": [
    {
     "name": "stdout",
     "output_type": "stream",
     "text": [
      "2020-06-05 10:37:27.054108\n"
     ]
    }
   ],
   "source": [
    "%load_ext autoreload\n",
    "%autoreload 2\n",
    "import os\n",
    "import datetime\n",
    "import gzip\n",
    "print(datetime.datetime.now())\n",
    "\n",
    "from pygentoolbox import FilterVCF\n",
    "\n",
    "# need pygentoolbox.Tools also\n",
    "#dir(pygentoolbox.Tools)\n",
    "%matplotlib inline\n",
    "import matplotlib.pyplot as plt"
   ]
  },
  {
   "cell_type": "code",
   "execution_count": 17,
   "metadata": {},
   "outputs": [
    {
     "name": "stdout",
     "output_type": "stream",
     "text": [
      "Working on file /media/sf_LinuxShare/Projects/Perwin/DNA_SEQ/Mutants/Rie1/bwa/Rie1_R1R2_calls.varonly.vcf.gz: \n",
      "This program requires variants to be: \n",
      "homozygous non-reference (1/1)\n",
      "overall depth of >= 5 (DP & IDV)\n",
      "MQ >= 30\n",
      "\n",
      "output file: /media/sf_LinuxShare/Projects/Perwin/DNA_SEQ/Mutants/Rie1/bwa/Rie1_R1R2_calls.varonly.vcf.filtered.gz\n",
      "Working on file /media/sf_LinuxShare/Projects/Perwin/DNA_SEQ/Mutants/Rie2/bwa/Rie2_R1R2_calls.varonly.vcf.gz: \n",
      "This program requires variants to be: \n",
      "homozygous non-reference (1/1)\n",
      "overall depth of >= 5 (DP & IDV)\n",
      "MQ >= 30\n",
      "\n",
      "output file: /media/sf_LinuxShare/Projects/Perwin/DNA_SEQ/Mutants/Rie2/bwa/Rie2_R1R2_calls.varonly.vcf.filtered.gz\n"
     ]
    }
   ],
   "source": [
    "vcffile = '/media/sf_LinuxShare/Projects/Perwin/DNA_SEQ/Mutants/Rie1/bwa/Rie1_R1R2_calls.varonly.vcf.gz'\n",
    "FilterVCF.main(vcffile)\n",
    "\n",
    "vcffile = '/media/sf_LinuxShare/Projects/Perwin/DNA_SEQ/Mutants/Rie2/bwa/Rie2_R1R2_calls.varonly.vcf.gz'\n",
    "FilterVCF.main(vcffile)"
   ]
  },
  {
   "cell_type": "code",
   "execution_count": 2,
   "metadata": {},
   "outputs": [
    {
     "name": "stdout",
     "output_type": "stream",
     "text": [
      "Working on file /media/sf_LinuxShare/Projects/Perwin/DNA_SEQ/Mutants/Rie1/d42_Ensembl/bwa/Rie1_R1R2_calls.varonly.vcf.gz: \n",
      "This program requires variants to be: \n",
      "homozygous non-reference (1/1)\n",
      "overall depth of >= 5 (DP & IDV)\n",
      "MQ >= 30\n",
      "\n",
      "output file: /media/sf_LinuxShare/Projects/Perwin/DNA_SEQ/Mutants/Rie1/d42_Ensembl/bwa/Rie1_R1R2_calls.varonly.vcf.filtered.gz\n",
      "Working on file /media/sf_LinuxShare/Projects/Perwin/DNA_SEQ/Mutants/Rie2/d42_Ensembl/bwa/Rie2_R1R2_calls.varonly.vcf.gz: \n",
      "This program requires variants to be: \n",
      "homozygous non-reference (1/1)\n",
      "overall depth of >= 5 (DP & IDV)\n",
      "MQ >= 30\n",
      "\n",
      "output file: /media/sf_LinuxShare/Projects/Perwin/DNA_SEQ/Mutants/Rie2/d42_Ensembl/bwa/Rie2_R1R2_calls.varonly.vcf.filtered.gz\n"
     ]
    }
   ],
   "source": [
    "vcffile = '/media/sf_LinuxShare/Projects/Perwin/DNA_SEQ/Mutants/Rie1/d42_Ensembl/bwa/Rie1_R1R2_calls.varonly.vcf.gz'\n",
    "FilterVCF.main(vcffile)\n",
    "\n",
    "vcffile = '/media/sf_LinuxShare/Projects/Perwin/DNA_SEQ/Mutants/Rie2/d42_Ensembl/bwa/Rie2_R1R2_calls.varonly.vcf.gz'\n",
    "FilterVCF.main(vcffile)"
   ]
  },
  {
   "cell_type": "code",
   "execution_count": null,
   "metadata": {},
   "outputs": [],
   "source": []
  }
 ],
 "metadata": {
  "kernelspec": {
   "display_name": "Python 3",
   "language": "python",
   "name": "python3"
  },
  "language_info": {
   "codemirror_mode": {
    "name": "ipython",
    "version": 3
   },
   "file_extension": ".py",
   "mimetype": "text/x-python",
   "name": "python",
   "nbconvert_exporter": "python",
   "pygments_lexer": "ipython3",
   "version": "3.7.4"
  }
 },
 "nbformat": 4,
 "nbformat_minor": 4
}
