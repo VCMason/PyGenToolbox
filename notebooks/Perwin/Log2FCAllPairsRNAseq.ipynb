{
 "cells": [
  {
   "cell_type": "code",
   "execution_count": 16,
   "metadata": {},
   "outputs": [
    {
     "name": "stdout",
     "output_type": "stream",
     "text": [
      "The autoreload extension is already loaded. To reload it, use:\n",
      "  %reload_ext autoreload\n",
      "2019-07-01 15:40:18.985098\n"
     ]
    }
   ],
   "source": [
    "%load_ext autoreload\n",
    "%autoreload 2\n",
    "import datetime\n",
    "print(datetime.datetime.now())\n",
    "\n",
    "import pygentoolbox.Tools\n",
    "#dir(pygentoolbox.Tools)\n",
    "import pandas as pd\n",
    "import itertools\n",
    "import os\n",
    "import math\n",
    "\n",
    "# TP2 = 0\n",
    "# TP10 = 1\n",
    "# TP16 = 2\n",
    "# TP25 = 3"
   ]
  },
  {
   "cell_type": "code",
   "execution_count": 18,
   "metadata": {},
   "outputs": [
    {
     "name": "stdout",
     "output_type": "stream",
     "text": [
      "['Protein' 'TP2' 'TP10' 'TP16' 'TP25' 'TP10-2 Log10' 'TP10-10 Log10'\n",
      " 'TP10-16 Log10' 'TP10-25 log10' 'Support']\n",
      "                    TP2  TP10  TP16   TP25\n",
      "PTET.51.1.P0040185  471   415  1517  24278\n",
      "PTET.51.1.P0660182  316   262    10    425\n",
      "PTET.51.1.P1540009   98    18    20    388\n",
      "PTET.51.1.P1360125   20   379   247    132\n",
      "PTET.51.1.P1320083  538   554    31    911\n",
      "(34552, 4)\n",
      "(23360, 4)\n",
      "[(0, 1), (0, 2), (0, 3), (1, 2), (1, 3), (2, 3)]\n",
      "0 1\n",
      "0 2\n",
      "0 3\n",
      "1 2\n",
      "1 3\n",
      "2 3\n",
      "                    Log2FC_0VS1  Log2FC_0VS2  Log2FC_0VS3  Log2FC_1VS2  \\\n",
      "PTET.51.1.P0040185     0.182616    -1.687422    -5.687779    -1.870038   \n",
      "PTET.51.1.P0660182     0.270358     4.981853    -0.427538     4.711495   \n",
      "PTET.51.1.P1540009     2.444785     2.292782    -1.985203    -0.152003   \n",
      "PTET.51.1.P1360125    -4.244126    -3.626439    -2.722466     0.617687   \n",
      "PTET.51.1.P1320083    -0.042280     4.117266    -0.759845     4.159546   \n",
      "\n",
      "                    Log2FC_1VS3  Log2FC_2VS3  \n",
      "PTET.51.1.P0040185    -5.870394    -4.000357  \n",
      "PTET.51.1.P0660182    -0.697896    -5.409391  \n",
      "PTET.51.1.P1540009    -4.429988    -4.277985  \n",
      "PTET.51.1.P1360125     1.521660     0.903973  \n",
      "PTET.51.1.P1320083    -0.717565    -4.877111  \n",
      "(23360, 6)\n",
      "Output File: D:\\LinuxShare\\Projects\\Perwin\\RNA_SEQ\\Log2FC_RNAseq_AllPairs_Cut10.tsv\n"
     ]
    }
   ],
   "source": [
    "f = 'D:\\\\LinuxShare\\\\Projects\\\\Perwin\\\\RNA_SEQ\\\\Asexual_Maturation_Xy.txt'\n",
    "cutoff = 10  # minimum read count\n",
    "# f = input('Path to count matrix file please:')\n",
    "#PATH: 'D:\\\\LinuxShare\\\\Projects\\\\Perwin\\\\RNA_SEQ\\\\Asexual_Maturation_Xy.txt'\n",
    "\n",
    "df = pd.read_csv(f, sep='\\t')\n",
    "print(df.columns.values)\n",
    "df.index = list(df.iloc[:, 0])  # set first column as row indeces\n",
    "\n",
    "dftrim = df.loc[:, ['TP2', 'TP10', 'TP16', 'TP25']]\n",
    "print(dftrim.head())\n",
    "print(dftrim.shape)\n",
    "\n",
    "# remove 0 or negative numbers\n",
    "dftrim = dftrim[(dftrim >= cutoff).all(1)]  # all values in each row need to be > 0 to be kept\n",
    "# dftrim[(dftrim > 0).any(1)]  # if one value in each row is > 0 keep it\n",
    "print(dftrim.shape)\n",
    "\n",
    "# d = {df.columns.values[0] : list(dftrim.index)}\n",
    "dfout = pd.DataFrame(index=dftrim.index) # use indexes from dftrim as index for output\n",
    "combs = list(itertools.combinations(list(range(dftrim.shape[1])), 2))\n",
    "print(combs)\n",
    "for t in combs:\n",
    "    print(t[0], t[1])\n",
    "    fc = pygentoolbox.Tools.log2_fold_change(dftrim, t[0], t[1])  # pandas df\n",
    "    # div = dftrim.iloc[:, t[0]] / dftrim.iloc[:, t[1]]\n",
    "    # log2FCseries = div.apply(math.log2)\n",
    "    dfout['Log2FC_%dVS%d' % (t[0], t[1])] = fc\n",
    "\n",
    "print(dfout.head())\n",
    "print(dfout.shape)\n",
    "\n",
    "path, file = os.path.split(f)\n",
    "\n",
    "pygentoolbox.Tools.pandas_output_to_matrix(path, 'Log2FC_RNAseq_AllPairs_Cut%d.tsv' % (cutoff), dfout, '\\t')"
   ]
  },
  {
   "cell_type": "code",
   "execution_count": null,
   "metadata": {},
   "outputs": [],
   "source": []
  }
 ],
 "metadata": {
  "kernelspec": {
   "display_name": "Python 3",
   "language": "python",
   "name": "python3"
  },
  "language_info": {
   "codemirror_mode": {
    "name": "ipython",
    "version": 3
   },
   "file_extension": ".py",
   "mimetype": "text/x-python",
   "name": "python",
   "nbconvert_exporter": "python",
   "pygments_lexer": "ipython3",
   "version": "3.7.3"
  }
 },
 "nbformat": 4,
 "nbformat_minor": 2
}
