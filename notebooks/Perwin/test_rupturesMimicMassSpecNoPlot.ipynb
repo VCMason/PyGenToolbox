{
 "cells": [
  {
   "cell_type": "code",
   "execution_count": 1,
   "metadata": {},
   "outputs": [],
   "source": [
    "%load_ext autoreload\n",
    "%autoreload 2\n",
    "%matplotlib inline"
   ]
  },
  {
   "cell_type": "code",
   "execution_count": null,
   "metadata": {},
   "outputs": [
    {
     "name": "stdout",
     "output_type": "stream",
     "text": [
      "Keep the number of genes < 100 for plotting. Note: time points are rows in the data matrix but columns in the plot. genes are columns in data matrix but rows in plot\n",
      "\n"
     ]
    },
    {
     "name": "stdin",
     "output_type": "stream",
     "text": [
      "How many time points would you like to generate in the data matrix? (ex: 15) :  14\n",
      "How many genes would you like to generate in the data matrix? (ex: 50) :  150\n",
      "Do you want the plot? (y/n):  y\n"
     ]
    }
   ],
   "source": [
    "import pygentoolbox.test_rupturesMimicMassSpec"
   ]
  },
  {
   "cell_type": "code",
   "execution_count": null,
   "metadata": {},
   "outputs": [],
   "source": []
  }
 ],
 "metadata": {
  "kernelspec": {
   "display_name": "Python 3",
   "language": "python",
   "name": "python3"
  },
  "language_info": {
   "codemirror_mode": {
    "name": "ipython",
    "version": 3
   },
   "file_extension": ".py",
   "mimetype": "text/x-python",
   "name": "python",
   "nbconvert_exporter": "python",
   "pygments_lexer": "ipython3",
   "version": "3.7.3"
  }
 },
 "nbformat": 4,
 "nbformat_minor": 2
}
