{
 "cells": [
  {
   "cell_type": "code",
   "execution_count": 1,
   "metadata": {},
   "outputs": [],
   "source": [
    "%load_ext autoreload\n",
    "%autoreload 2\n",
    "%matplotlib inline"
   ]
  },
  {
   "cell_type": "code",
   "execution_count": 2,
   "metadata": {},
   "outputs": [
    {
     "name": "stdout",
     "output_type": "stream",
     "text": [
      "Keep the number of genes < 100 for plotting. Note: time points are rows in the data matrix but columns in the plot. genes are columns in data matrix but rows in plot\n",
      "\n"
     ]
    },
    {
     "name": "stdin",
     "output_type": "stream",
     "text": [
      "Do you want the plot? (y/n):  n\n",
      "Which Model : l1, l2, or rbf ? :  l1\n",
      "penalty for model? ex: (integers 1-10) :  50\n",
      "Enter all expected breakpoints (according to your hypothesis) (ex: 3,7,20) 7\n",
      "Enter full path to gene expression matrix:  D:\\\\LinuxShare\\\\Projects\\\\Perwin\\\\MASS_SPEC\\\\LFQMatrix.t.tsv\n"
     ]
    },
    {
     "name": "stdout",
     "output_type": "stream",
     "text": [
      "rows: 14 columns: 3069\n",
      "Input data format:\n",
      "[[ 5.11013e-01  7.58860e-01  2.55898e-01 ...  3.05192e-01  7.30238e-01\n",
      "   4.10205e-01]\n",
      " [ 6.77297e-01  7.08484e-01  1.74791e+02 ...  1.27947e+02  5.04344e-01\n",
      "  -2.26934e-01]\n",
      " [-1.26775e+02 -1.29268e+02 -3.94978e-01 ...  5.11745e-01  1.33140e+01\n",
      "   1.26903e+02]\n",
      " ...\n",
      " [-2.72202e-01 -1.29268e+02  2.65220e-01 ... -5.61846e-01 -5.60571e-01\n",
      "   3.36672e-01]\n",
      " [-3.23343e-01  7.24049e-01  4.63068e-01 ... -1.08718e+02 -5.78250e-01\n",
      "  -3.36972e-01]\n",
      " [-2.25387e-01  7.00149e-01  4.21117e-01 ... -6.92711e-01 -3.03377e-02\n",
      "  -6.94113e-01]]\n",
      "Expected Break Points\n",
      "[7, 14]\n",
      "Result, i.e. predicted break points:\n",
      "[5, 10, 14]\n"
     ]
    }
   ],
   "source": [
    "import pygentoolbox.RunRuptures"
   ]
  },
  {
   "cell_type": "code",
   "execution_count": null,
   "metadata": {},
   "outputs": [],
   "source": []
  }
 ],
 "metadata": {
  "kernelspec": {
   "display_name": "Python 3",
   "language": "python",
   "name": "python3"
  },
  "language_info": {
   "codemirror_mode": {
    "name": "ipython",
    "version": 3
   },
   "file_extension": ".py",
   "mimetype": "text/x-python",
   "name": "python",
   "nbconvert_exporter": "python",
   "pygments_lexer": "ipython3",
   "version": "3.7.3"
  }
 },
 "nbformat": 4,
 "nbformat_minor": 2
}
