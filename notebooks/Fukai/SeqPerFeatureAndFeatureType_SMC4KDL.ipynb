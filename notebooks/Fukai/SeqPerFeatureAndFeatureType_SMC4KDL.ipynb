{
 "cells": [
  {
   "cell_type": "code",
   "execution_count": 1,
   "metadata": {},
   "outputs": [
    {
     "name": "stdout",
     "output_type": "stream",
     "text": [
      "2021-05-14 11:55:16.529044\n"
     ]
    }
   ],
   "source": [
    "%load_ext autoreload\n",
    "%autoreload 2\n",
    "import datetime\n",
    "import os\n",
    "print(datetime.datetime.now())\n",
    "\n",
    "from pygentoolbox.SeqsPerFeatureAndFeatureTypeFixed import main\n",
    "#dir(pygentoolbox.Tools)\n",
    "%matplotlib inline\n",
    "import matplotlib.pyplot as plt"
   ]
  },
  {
   "cell_type": "code",
   "execution_count": null,
   "metadata": {},
   "outputs": [
    {
     "name": "stdout",
     "output_type": "stream",
     "text": [
      "Reading Gff3 file: /media/sf_LinuxShare/Ciliates/Genomes/Annotations/ptetraurelia_mac_51_annotation_v2.0.gff3\n",
      "Number of scaffolds: 539\n",
      "Reading sam file: /media/sf_LinuxShare/Projects/Fukai/Hisat2/SMC4_2_KD_Late/Pt_51_Mac/fastp/hisat2/SMC4_2_L12_Late_KD_R1.trim.Pt_51_Mac.sort.F4.sam\n"
     ]
    }
   ],
   "source": [
    "Gff3file = '/media/sf_LinuxShare/Ciliates/Genomes/Annotations/ptetraurelia_mac_51_annotation_v2.0.gff3'\n",
    "samfilelist = ['/media/sf_LinuxShare/Projects/Fukai/Hisat2/SMC4_2_KD_Late/Pt_51_Mac/fastp/hisat2/SMC4_2_L12_Late_KD_R1.trim.Pt_51_Mac.sort.F4.sam']\n",
    "# count number of reads per feature\n",
    "# count number of reads per feature type (exon, mRNA, 5' UTR, etc.) and sort so counts are decreasing\n",
    "\n",
    "main(Gff3file, samfilelist)"
   ]
  },
  {
   "cell_type": "code",
   "execution_count": null,
   "metadata": {},
   "outputs": [],
   "source": []
  }
 ],
 "metadata": {
  "kernelspec": {
   "display_name": "Python 3",
   "language": "python",
   "name": "python3"
  },
  "language_info": {
   "codemirror_mode": {
    "name": "ipython",
    "version": 3
   },
   "file_extension": ".py",
   "mimetype": "text/x-python",
   "name": "python",
   "nbconvert_exporter": "python",
   "pygments_lexer": "ipython3",
   "version": "3.7.4"
  }
 },
 "nbformat": 4,
 "nbformat_minor": 4
}
