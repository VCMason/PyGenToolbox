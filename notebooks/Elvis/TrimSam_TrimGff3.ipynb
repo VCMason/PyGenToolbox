{
 "cells": [
  {
   "cell_type": "code",
   "execution_count": 3,
   "metadata": {},
   "outputs": [
    {
     "name": "stdout",
     "output_type": "stream",
     "text": [
      "The autoreload extension is already loaded. To reload it, use:\n",
      "  %reload_ext autoreload\n",
      "2019-09-23 11:04:53.407465\n"
     ]
    }
   ],
   "source": [
    "%load_ext autoreload\n",
    "%autoreload 2\n",
    "import datetime\n",
    "import os\n",
    "import pandas as pd\n",
    "print(datetime.datetime.now())\n",
    "\n",
    "#dir(pygentoolbox.Tools)\n",
    "%matplotlib inline\n",
    "import matplotlib.pyplot as plt\n",
    "from pygentoolbox.TrimSamToScaffolds import trim_sam\n",
    "from pygentoolbox.TrimGff3ToScaffolds import trim_gff3\n"
   ]
  },
  {
   "cell_type": "code",
   "execution_count": 4,
   "metadata": {},
   "outputs": [
    {
     "name": "stdout",
     "output_type": "stream",
     "text": [
      "Number of lines output = 588\n",
      "Output file: D:\\LinuxShare\\Ciliates\\Genomes\\Annotations\\internal_eliminated_sequence_PGM_ParTIES.pt_51_with_ies.TrimScaffolds.gff3\n",
      "Number of lines output = 1029507\n",
      "Output file: D:\\LinuxShare\\Projects\\Sarah\\BWA\\DCL_SCG\\MacAndIES\\D23_1_R1R2.trim.sort.TrimScaffolds.sam\n",
      "Number of lines output = 1008727\n",
      "Output file: D:\\LinuxShare\\Projects\\Sarah\\BWA\\DCL_SCG\\Mac\\D23_1_R1R2.trim.TrimScaffolds.sam\n"
     ]
    }
   ],
   "source": [
    "gff3file = 'D:\\\\LinuxShare\\\\Ciliates\\\\Genomes\\\\Annotations\\\\internal_eliminated_sequence_PGM_ParTIES.pt_51_with_ies.gff3'\n",
    "samfile_mac = 'D:\\\\LinuxShare\\\\Projects\\\\Sarah\\\\BWA\\\\DCL_SCG\\\\Mac\\\\D23_1_R1R2.trim.sam'\n",
    "samfile_mac_ies = 'D:\\\\LinuxShare\\\\Projects\\\\Sarah\\\\BWA\\\\DCL_SCG\\\\MacAndIES\\\\D23_1_R1R2.trim.sort.sam'\n",
    "\n",
    "scaffold_list = ['scaffold51_1_with_IES']\n",
    "trim_gff3(gff3file, scaffold_list)\n",
    "trim_sam(samfile_mac_ies, scaffold_list)\n",
    "\n",
    "scaffold_list = ['scaffold51_1']\n",
    "trim_sam(samfile_mac, scaffold_list)\n"
   ]
  },
  {
   "cell_type": "code",
   "execution_count": null,
   "metadata": {},
   "outputs": [],
   "source": []
  }
 ],
 "metadata": {
  "kernelspec": {
   "display_name": "Python 3",
   "language": "python",
   "name": "python3"
  },
  "language_info": {
   "codemirror_mode": {
    "name": "ipython",
    "version": 3
   },
   "file_extension": ".py",
   "mimetype": "text/x-python",
   "name": "python",
   "nbconvert_exporter": "python",
   "pygments_lexer": "ipython3",
   "version": "3.7.3"
  }
 },
 "nbformat": 4,
 "nbformat_minor": 2
}
