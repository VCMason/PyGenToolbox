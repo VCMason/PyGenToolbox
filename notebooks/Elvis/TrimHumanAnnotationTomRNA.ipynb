{
 "cells": [
  {
   "cell_type": "code",
   "execution_count": 31,
   "metadata": {},
   "outputs": [
    {
     "name": "stdout",
     "output_type": "stream",
     "text": [
      "The autoreload extension is already loaded. To reload it, use:\n",
      "  %reload_ext autoreload\n",
      "2021-03-08 18:09:17.271252\n"
     ]
    }
   ],
   "source": [
    "%load_ext autoreload\n",
    "%autoreload 2\n",
    "import datetime\n",
    "import os\n",
    "import pandas as pd\n",
    "print(datetime.datetime.now())\n",
    "\n",
    "from pygentoolbox.TrimAnnotationByFeature import main\n",
    "#dir(pygentoolbox.Tools)\n",
    "%matplotlib inline\n",
    "import matplotlib.pyplot as plt"
   ]
  },
  {
   "cell_type": "code",
   "execution_count": 10,
   "metadata": {},
   "outputs": [
    {
     "name": "stdout",
     "output_type": "stream",
     "text": [
      "Output file: D:\\LinuxShare\\Humans\\Genome\\Annotations\\ref_GRCh38.p12_top_level.mRNA.gff3\n"
     ]
    }
   ],
   "source": [
    "humanannotation = 'D:\\\\LinuxShare\\\\Humans\\\\Genome\\\\Annotations\\\\ref_GRCh38.p12_top_level.gff3'\n",
    "\n",
    "main(humanannotation, feature='mRNA')"
   ]
  },
  {
   "cell_type": "code",
   "execution_count": 13,
   "metadata": {},
   "outputs": [
    {
     "name": "stdout",
     "output_type": "stream",
     "text": [
      "Output file: D:\\LinuxShare\\Humans\\Genome\\Annotations\\ref_GRCh38.p12_top_level.mRNA.onestop.gff3\n"
     ]
    }
   ],
   "source": [
    "from pygentoolbox.TrimAnnotationByFeature import keep_one_mRNA_with_same_stop_codon_position\n",
    "\n",
    "f = 'D:\\\\LinuxShare\\\\Humans\\\\Genome\\\\Annotations\\\\ref_GRCh38.p12_top_level.mRNA.gff3'\n",
    "\n",
    "keep_one_mRNA_with_same_stop_codon_position(f)"
   ]
  },
  {
   "cell_type": "code",
   "execution_count": 14,
   "metadata": {},
   "outputs": [
    {
     "name": "stdout",
     "output_type": "stream",
     "text": [
      "Output file: D:\\LinuxShare\\Humans\\Genome\\Annotations\\ref_GRCh38.p12_top_level.mRNA.wProtID.gff3\n"
     ]
    }
   ],
   "source": [
    "humanannotation = 'D:\\\\LinuxShare\\\\Humans\\\\Genome\\\\Annotations\\\\ref_GRCh38.p12_top_level.gff3'\n",
    "\n",
    "from pygentoolbox.TrimAnnotationByFeature import trim_to_mRNA_and_add_protein_id\n",
    "\n",
    "trim_to_mRNA_and_add_protein_id(humanannotation)"
   ]
  },
  {
   "cell_type": "code",
   "execution_count": null,
   "metadata": {},
   "outputs": [],
   "source": []
  },
  {
   "cell_type": "code",
   "execution_count": null,
   "metadata": {},
   "outputs": [],
   "source": []
  },
  {
   "cell_type": "code",
   "execution_count": 32,
   "metadata": {},
   "outputs": [
    {
     "name": "stdout",
     "output_type": "stream",
     "text": [
      "Output file: /media/sf_LinuxShare/Humans/Genome/Annotations/Ensembl/Homo_sapiens.GRCh38.103.chr.three_prime_utr.all.gtf\n",
      "Output file: /media/sf_LinuxShare/Humans/Genome/Annotations/Ensembl/Homo_sapiens.GRCh38.103.chr.three_prime_utr.longest.gtf\n"
     ]
    }
   ],
   "source": [
    "from pygentoolbox.TrimAnnotationByFeature import trim_ensembl_gtf_to_3utrs_of_target_genes\n",
    "\n",
    "f = '/media/sf_LinuxShare/Humans/Genome/Annotations/Ensembl/Homo_sapiens.GRCh38.103.chr.gtf'\n",
    "feature='three_prime_utr'\n",
    "targetgenenames = ['H4C1', 'H4C2', 'H4C3', 'H4C4', 'H4C5', 'H4C6', 'H4C8', 'H4C9', 'H4C11', 'H4C12', 'H4C13', 'H4C14', 'H4C15', 'H4-16', 'H2BC15', 'TOP2A', 'H1-3', 'HNRNPU', 'HSPA1A', 'PARP1', 'HNRNPA2B1', 'HNRNPM', 'KRT1', 'DHX9', 'HNRNPC', 'HNRNPA3', 'VIM', 'KRT9', 'DDX21', 'RBMX', 'MACROH2A1', 'MATR3']\n",
    "\n",
    "trim_ensembl_gtf_to_3utrs_of_target_genes(f, feature, targetgenenames)"
   ]
  },
  {
   "cell_type": "code",
   "execution_count": null,
   "metadata": {},
   "outputs": [],
   "source": []
  }
 ],
 "metadata": {
  "kernelspec": {
   "display_name": "Python 3",
   "language": "python",
   "name": "python3"
  },
  "language_info": {
   "codemirror_mode": {
    "name": "ipython",
    "version": 3
   },
   "file_extension": ".py",
   "mimetype": "text/x-python",
   "name": "python",
   "nbconvert_exporter": "python",
   "pygments_lexer": "ipython3",
   "version": "3.7.4"
  }
 },
 "nbformat": 4,
 "nbformat_minor": 4
}
