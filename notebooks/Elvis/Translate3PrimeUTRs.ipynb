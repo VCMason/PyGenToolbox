{
 "cells": [
  {
   "cell_type": "code",
   "execution_count": 1,
   "metadata": {},
   "outputs": [
    {
     "name": "stdout",
     "output_type": "stream",
     "text": [
      "2021-03-10 13:55:00.946297\n"
     ]
    }
   ],
   "source": [
    "%load_ext autoreload\n",
    "%autoreload 2\n",
    "import datetime\n",
    "import os\n",
    "import pandas as pd\n",
    "print(datetime.datetime.now())\n",
    "\n",
    "from pygentoolbox.TrimAnnotationByFeature import main\n",
    "#dir(pygentoolbox.Tools)\n",
    "%matplotlib inline\n",
    "import matplotlib.pyplot as plt"
   ]
  },
  {
   "cell_type": "code",
   "execution_count": 2,
   "metadata": {},
   "outputs": [
    {
     "name": "stdout",
     "output_type": "stream",
     "text": [
      "The autoreload extension is already loaded. To reload it, use:\n",
      "  %reload_ext autoreload\n",
      "2021-03-10 13:55:02.397092\n"
     ]
    }
   ],
   "source": [
    "%load_ext autoreload\n",
    "%autoreload 2\n",
    "import datetime\n",
    "import os\n",
    "import pandas as pd\n",
    "print(datetime.datetime.now())\n",
    "\n",
    "from pygentoolbox.Tools import read_interleaved_fasta_as_noninterleaved\n",
    "from pygentoolbox.Tools import read_interleaved_fasta_as_noninterleaved_human_proteins\n",
    "from pygentoolbox.Tools import reverse_complement_to_dna\n",
    "from pygentoolbox.Tools import translate_AA_from_dna_human\n",
    "from pygentoolbox.Tools import translate_AA_from_dna_human_terminate_at_stop\n",
    "#dir(pygentoolbox.Tools)\n",
    "%matplotlib inline\n",
    "import matplotlib.pyplot as plt"
   ]
  },
  {
   "cell_type": "code",
   "execution_count": 3,
   "metadata": {},
   "outputs": [
    {
     "name": "stdout",
     "output_type": "stream",
     "text": [
      "Number of gene names entered and searched for 271\n",
      "Number of genes with a transcript in output: 262\n",
      "Genes with a transcript in output: {'VIM', 'HNRNPA1', 'HMGN2', 'ADAR', 'TUBA3E', 'H3C14', 'BOP1', 'SRRM2', 'EIF4A3', 'H3C7', 'ATP5F1B', 'H4C9', 'STAU1', 'MYBBP1A', 'NUP133', 'HNRNPU', 'H2AC18', 'MDC1', 'SSBP1', 'H2BC15', 'NPM1', 'HNRNPF', 'UBA52', 'H3C11', 'HNRNPM', 'H3C15', 'IGF2BP3', 'PARP1', 'SMC2', 'H3C13', 'CKB', 'DHX30', 'HSPA1A', 'H4C12', 'NONO', 'H2AC19', 'H4C2', 'TAF15', 'PTBP1', 'LMNB2', 'H3C3', 'HSPA5', 'RALY', 'KRT2', 'ILF3', 'PWP2', 'SUGP2', 'HNRNPL', 'RAD21', 'RPS14', 'H4C11', 'BAZ1B', 'SMC3', 'H2AC7', 'TRA2B', 'HSPA9', 'ZNF512', 'H1-10', 'H1-0', 'DDX27', 'SF3B1', 'HSPA2', 'GTPBP4', 'SRSF10', 'RPL13', 'SF3B2', 'H3-3B', 'RPL10A', 'EIF4A2', 'NOL11', 'FBL', 'RBM14', 'PPIA', 'TOP2B', 'HMGA1', 'SUPT16H', 'WDR3', 'HNRNPA2B1', 'CBX5', 'IGF2BP1', 'MATR3', 'UTP18', 'SAFB', 'KRT10', 'RUVBL2', 'TUBA1A', 'H2AZ2', 'KRT9', 'DDX17', 'RPL3', 'TOP1', 'RPL11', 'SRSF3', 'TBL3', 'H4-16', 'ACTA2', 'ELAVL1', 'SRSF6', 'SMARCA5', 'EEF2', 'WDR36', 'DDX3X', 'H3C10', 'ACTBL2', 'HSP90AA1', 'PHIP', 'YBX1', 'RSL1D1', 'H2AC4', 'CENPV', 'LMNB1', 'RPL6', 'CDC5L', 'RPL7A', 'EFTUD2', 'DHX15', 'HP1BP3', 'MCM3', 'HNRNPR', 'WDR43', 'RPL4', 'SMC4', 'TUBB2B', 'RPL23', 'H3C12', 'NOC4L', 'HMGA2', 'H4C1', 'KPNA2', 'G3BP1', 'NUMA1', 'NOP56', 'KRT31', 'IGF2BP2', 'POLR2B', 'HMGN1', 'CBX3', 'H4C5', 'RPS8', 'TUBB4B', 'HNRNPD', 'H2AC8', 'HNRNPAB', 'RPL5', 'HNRNPK', 'NUP205', 'RNPS1', 'RPS4X', 'RPL9', 'SRSF9', 'TRIM28', 'POLR2H', 'SF3A1', 'RBM39', 'NCL', 'DDX21', 'RAN', 'H4C4', 'XRCC5', 'IRS4', 'EIF4A1', 'DNTTIP2', 'MACROH2A2', 'FTSJ3', 'GAPDH', 'PPAN', 'RPS3', 'CBX1', 'SYNCRIP', 'HSP90AB1', 'H1-3', 'XRCC6', 'H4C6', 'RBMX', 'RPS3A', 'PSIP1', 'NOP58', 'BMS1', 'ATAD3B', 'HMGN3', 'UTP14A', 'PDCD11', 'SNRNP70', 'ATAD3A', 'ILF2', 'HNRNPA3', 'HNRNPC', 'HNRNPDL', 'H3C2', 'TFAM', 'NUP93', 'RPL14', 'PABPC1', 'SNW1', 'RPS5', 'PNN', 'MKI67', 'UTP6', 'SNRNP200', 'H1-4', 'RBM28', 'HNRNPA0', 'RPL19', 'YBX3', 'HNRNPA1L2', 'RPS2', 'SRSF1', 'PRPF19', 'H4C13', 'SRSF7', 'HSPA8', 'RACK1', 'HNRNPH1', 'H3C8', 'H1-2', 'MYH10', 'HNRNPUL2', 'RPL18A', 'H4C8', 'RUVBL1', 'ALYREF', 'NIFK', 'ZNF326', 'SF3B3', 'RPRD1A', 'SNRPD3', 'H1-1', 'PRPF8', 'TUBB', 'CEBPZ', 'RSF1', 'NOP2', 'H3C6', 'DDX50', 'H2AX', 'H3C1', 'KRT1', 'NAT10', 'INCENP', 'RRS1', 'SF3A3', 'SMC1A', 'RPS7', 'ERH', 'H4C14', 'DDX5', 'ALB', 'H3C4', 'SUPT6H', 'H3-3A', 'UTP4', 'DDX18', 'ACTB', 'TOP2A', 'HSPD1', 'H4C3', 'HNRNPH3', 'DHX9', 'H4C15', 'AURKB', 'ATP5F1A', 'MACROH2A1'}\n",
      "Output file: D:\\LinuxShare\\Humans\\Genome\\Annotations\\Ensembl\\Homo_sapiens.GRCh38.103.chr.three_prime_utr.all.gtf\n",
      "Output file: D:\\LinuxShare\\Humans\\Genome\\Annotations\\Ensembl\\Homo_sapiens.GRCh38.103.chr.three_prime_utr.longest.gtf\n"
     ]
    }
   ],
   "source": [
    "from pygentoolbox.TrimAnnotationByFeature import trim_ensembl_gtf_to_3utrs_of_target_genes\n",
    "\n",
    "f = 'D:\\\\LinuxShare\\\\Humans\\\\Genome\\\\Annotations\\\\Ensembl\\\\Homo_sapiens.GRCh38.103.chr.gtf'\n",
    "feature='three_prime_utr'\n",
    "targetgenenames = ['H4C1', 'H4C2', 'H4C3', 'H4C4', 'H4C5', 'H4C6', 'H4C8', 'H4C9', 'H4C11', 'H4C12', 'H4C13', 'H4C14', 'H4C15', 'H4-16', 'H2BC15', 'TOP2A', 'H1-3', 'HNRNPU', 'HSPA1A', 'PARP1', 'HNRNPA2B1', 'HNRNPM', 'KRT1', 'DHX9', 'HNRNPC', 'HNRNPA3', 'VIM', 'KRT9', 'DDX21', 'RBMX', 'MACROH2A1', 'MATR3', 'HNRNPA1', 'HNRNPA1L2', 'UBA52', 'H2AC7', 'ILF3', 'H2AC4', 'H2AC8', 'TUBB2B', 'HNRNPD', 'H1-2', 'HNRNPR', 'SMARCA5', 'BAZ1B', 'H1-4', 'IGF2BP1', 'EEF1A1P5', 'SYNCRIP', 'H2AX', 'KRT10', 'MACROH2A2', 'HNRNPK', 'RPL4', 'TOP2B', 'NCL', 'MDC1', 'ACTB', 'SMC1A', 'SMC3', 'ELAVL1', 'XRCC6', 'HMGN2', 'HNRNPH1', 'RSL1D1', 'FBL', 'LMNB1', 'DDX5', 'HNRNPDL', 'HNRNPAB', 'HNRNPL', 'CBX1', 'POLR2B', 'NOP58', 'NOP56', 'NPM1', 'HMGA1', 'PTBP1', 'TUBA3E', 'KRT2', 'H3-3A', 'H3-3B', 'H2BC20P', 'ILF2', 'KPNA2', 'HNRNPA0', 'SNRNP200', 'ALB', 'H1-0', 'ZNF326', 'HNRNPH3', 'HNRNPUL2', 'PRPF8', 'NUMA1', 'DDX17', 'HSP90AB1', 'H1-10', 'MKI67', 'DDX3X', 'HSP90AA1', 'SRSF9', 'RPL7A', 'GAPDH', 'HSPD1', 'H2AZ2', 'ADAR', 'PABPC1', 'TOP1', 'ZNF512', 'PSIP1', 'FTSJ3', 'NOP2', 'EFTUD2', 'CENPV', 'RPS3A', 'HNRNPF', 'PDCD11', 'SRRM2', 'POLR2A', 'SF3B2', 'RPS8', 'IGF2BP3', 'ACTA2', 'HMGA2', 'EEF2', 'SRSF3', 'TUBB4B', 'SAFB', 'SRSF1', 'CBX3', 'SF3B3', 'SMC2', 'TUBB', 'HSPA9', 'H1-1', 'WDR36', 'RUVBL1', 'RSF1', 'RPL3', 'PNN', 'RPL6', 'CBX5', 'NONO', 'XRCC5', 'ALYREF', 'SMC4', 'RPL13', 'EIF4A3', 'HP1BP3', 'MYBBP1A', 'YBX1', 'YBX3', 'INCENP', 'LMNB2', 'SUPT6H', 'GTPBP4', 'RBM39', 'BMS1', 'BOP1', 'ACTBL2', 'RPS5', 'CKB', 'DNTTIP2', 'RPRD1A', 'SF3B1', 'DHX15', 'SUPT16H', 'HMGN1', 'TFAM', 'SUGP2', 'PRPF19', 'HSP90AB2P', 'ATAD3A', 'SNRPD3', 'TRA2B', 'RPS14', 'MYH10', 'DDX27', 'RPL14', 'RPL23', 'TRIM28', 'HSPA8', 'RUVBL2', 'RALY', 'NOL11', 'IRS4', 'RPS3', 'CDC5L', 'RPL5', 'RNPS1', 'SNW1', 'RRS1', 'ATAD3B', 'HSPA2', 'PPIA', 'RPS4X', 'CEBPZ', 'RPL11', 'EIF4A1', 'NUP133', 'RPL10A', 'ERH', 'RBM14', 'AURKB', 'DHX30', 'HMGN3', 'UTP4', 'RAN', 'H3C1', 'H3C2', 'H3C3', 'H3C4', 'H3C6', 'H3C7', 'H3C8', 'H3C10', 'H3C11', 'H3C12', 'SRSF7', 'EIF4A2', 'ATP5F1B', 'RBM28', 'UTP18', 'UTP14A', 'RPL19', 'NUP93', 'WDR43', 'DDX18', 'NOC4L', 'WDR3', 'IGF2BP2', 'TAF15', 'RPL9', 'RPL9P7', 'RPL9P8', 'RPL9P9', 'RAD21', 'PWP2', 'SNRNP70', 'H2AC18', 'H2AC19', 'UTP6', 'KRT31', 'TBL3', 'NIFK', 'HSPA5', 'PHIP', 'SRSF6', 'ATP5F1A', 'RPL18A', 'SRSF10', 'SF3A1', 'MCM3', 'HNRNPDL', 'SF3A3', 'RACK1', 'HNRNPC', 'STAU1', 'H3C15', 'H3C14', 'H3C13', 'SSBP1', 'G3BP1', 'PPAN', 'TUBA1A', 'RPS7', 'NUP205', 'NAT10', 'RPS2', 'DDX50', 'POLR2H']\n",
    "\n",
    "trim_ensembl_gtf_to_3utrs_of_target_genes(f, feature, targetgenenames)"
   ]
  },
  {
   "cell_type": "code",
   "execution_count": 4,
   "metadata": {},
   "outputs": [
    {
     "name": "stdout",
     "output_type": "stream",
     "text": [
      "Reading in annotation: D:\\LinuxShare\\Humans\\Genome\\Annotations\\Ensembl\\Homo_sapiens.GRCh38.103.chr.three_prime_utr.longest.gtf\n",
      "Finished reading in annotation\n",
      "Reading in genome: D:\\LinuxShare\\Humans\\Genome\\Seqs\\Ensembl\\Homo_sapiens.GRCh38.dna.primary_assembly.fa\n",
      "Counting total lines\n",
      "Number of lines in genome file: 51662809\n",
      "Reading in interleaved fasta as noninterleaved fasta dictionary\n",
      "Current line: 5000000\n",
      "Current line: 10000000\n",
      "Current line: 15000000\n",
      "Current line: 20000000\n",
      "Current line: 25000000\n",
      "Current line: 30000000\n",
      "Current line: 35000000\n",
      "Current line: 40000000\n",
      "Current line: 45000000\n",
      "Current line: 50000000\n",
      "Finished reading in interleaved fasta as non-interleaved\n",
      "Finished reading in genome\n",
      "2021-03-10 13:58:27.129677\n"
     ]
    }
   ],
   "source": [
    "\n",
    "################################\n",
    "annotationfile = 'D:\\\\LinuxShare\\\\Humans\\\\Genome\\\\Annotations\\\\Ensembl\\\\Homo_sapiens.GRCh38.103.chr.three_prime_utr.longest.gtf'\n",
    "annotation = []\n",
    "print('Reading in annotation: %s' % annotationfile)\n",
    "with open(annotationfile, 'r') as FILE:\n",
    "    annotation = [line.strip().split('\\t') for line in FILE if line[0] != '#']  # skip header\n",
    "print('Finished reading in annotation')\n",
    "\n",
    "scaffolds = [s[0] for s in annotation]  # collect ordered scaffold names\n",
    "\n",
    "\n",
    "################################\n",
    "genomefile = 'D:\\\\LinuxShare\\\\Humans\\\\Genome\\\\Seqs\\\\Ensembl\\\\Homo_sapiens.GRCh38.dna.primary_assembly.fa'\n",
    "print('Reading in genome: %s' % genomefile)\n",
    "names, dgenome = read_interleaved_fasta_as_noninterleaved(genomefile)\n",
    "print('Finished reading in genome')\n",
    "\n",
    "print(datetime.datetime.now())"
   ]
  },
  {
   "cell_type": "code",
   "execution_count": 5,
   "metadata": {},
   "outputs": [
    {
     "name": "stdout",
     "output_type": "stream",
     "text": [
      "Extracting DNA sequences and translating\n",
      "Output 3' UTR AA annotation and peptides to file: D:\\LinuxShare\\Humans\\Genome\\Annotations\\Ensembl\\3PrimeUTR_Peptides.Frame0.tsv\n",
      "Output 3' UTR AA peptides to file: D:\\LinuxShare\\Humans\\Genome\\Seqs\\Ensembl\\3PrimeUTR_Peptides.Frame0.fa\n",
      "2021-03-10 13:58:51.022490\n"
     ]
    }
   ],
   "source": [
    "print('Extracting DNA sequences and translating')\n",
    "minpeplength = 6\n",
    "frame = 0  # 0, 1, or 2\n",
    "output = []\n",
    "outputAAseqs = []\n",
    "\n",
    "## stop codon is before 3' UTR\n",
    "for a in annotation:\n",
    "    if a[6] == '+':\n",
    "        start, end = int(a[3]), int(a[4])\n",
    "        start = start + frame\n",
    "        while (end - start + 1) % 3 != 0:  # this makes sure the length of sequence is a multiple of 3\n",
    "            end -= 1\n",
    "        utrAAseq = translate_AA_from_dna_human_terminate_at_stop(dgenome[a[0]][start-1:end])  # end-2:end+1+peplength-3\n",
    "        utrdnaseq = dgenome[a[0]][start-1:end]  # with ends trimmed to be a multiple of 3\n",
    "        stopcodon = dgenome[a[0]][start-4:start-1]\n",
    "        metadata = a[8].split('\"; ')\n",
    "        for meta in metadata:\n",
    "            if meta[:len('gene_name \"')] == 'gene_name \"':\n",
    "                genename = meta[len('gene_name \"'):]\n",
    "        name = '.'.join([genename, a[0], a[3], a[4], str(frame)])       \n",
    "    elif a[6] == '-':\n",
    "        end, start = int(a[3]), int(a[4])  # the end coordinate is column three for reverse reads\n",
    "        start = start - frame\n",
    "        while (start - end + 1) % 3 != 0:  # this makes sure the length of sequence is a multiple of 3\n",
    "            end += 1\n",
    "        revcomp, rev = reverse_complement_to_dna(dgenome[a[0]][end-1:start])  # long form # [end-2-peplength+3:end+1\n",
    "        utrAAseq = translate_AA_from_dna_human_terminate_at_stop(revcomp)\n",
    "        utrdnaseq = revcomp\n",
    "        stopcodon, revstop = reverse_complement_to_dna(dgenome[a[0]][start:start+3])\n",
    "        metadata = a[8].split('\"; ')\n",
    "        for meta in metadata:\n",
    "            if meta[:len('gene_name \"')] == 'gene_name \"':\n",
    "                genename = meta[len('gene_name \"'):]\n",
    "        name = '.'.join([genename, a[0], a[3], a[4], str(frame)])\n",
    "    else:\n",
    "        print('no orientation information... a problem')\n",
    "    if len(utrAAseq) >= minpeplength:\n",
    "        output.append('\\t'.join(a + [stopcodon, utrdnaseq, utrAAseq]))\n",
    "        outputAAseqs.append(f'>{name}\\n{utrAAseq}')\n",
    "\n",
    "#    protID = a[-1].split(';')[-1]  # isolating the protein ID from the annotation\n",
    "#    outputPlusOneAAOnly.append('>%s\\n%s' % (protID, PlusOneAAseq))\n",
    "#    outputProteinAndPlusOneAA.append('>%s\\n%s' % (protID, dproteins[protID] + PlusOneAAseq))\n",
    "#    if len(PlusOneAAseq) > minPeptideLength:\n",
    "#        outputPlusOneAAOnlyCutoff.append('>%s\\n%s' % (protID, PlusOneAAseq))\n",
    "#        outputProteinAndPlusOneAACutoff.append('>%s\\n%s' % (protID, dproteins[protID] + PlusOneAAseq))\n",
    "    \n",
    "    \n",
    "outfile = f'D:\\\\LinuxShare\\\\Humans\\\\Genome\\\\Annotations\\\\Ensembl\\\\3PrimeUTR_Peptides.Frame{frame}.tsv'\n",
    "with open(outfile, 'w') as OUT:\n",
    "    OUT.write('\\n'.join(output))\n",
    "print('Output 3\\' UTR AA annotation and peptides to file: %s' % (outfile))\n",
    "\n",
    "outfile = f'D:\\\\LinuxShare\\\\Humans\\\\Genome\\\\Seqs\\\\Ensembl\\\\3PrimeUTR_Peptides.Frame{frame}.fa'\n",
    "with open(outfile, 'w') as OUT:\n",
    "    OUT.write('\\n'.join(outputAAseqs))\n",
    "print('Output 3\\' UTR AA peptides to file: %s' % (outfile))\n",
    "\n",
    "\n",
    "print(datetime.datetime.now())\n"
   ]
  },
  {
   "cell_type": "code",
   "execution_count": 6,
   "metadata": {},
   "outputs": [
    {
     "name": "stdout",
     "output_type": "stream",
     "text": [
      "Extracting DNA sequences and translating\n",
      "Output 3' UTR AA annotation and peptides to file: D:\\LinuxShare\\Humans\\Genome\\Annotations\\Ensembl\\3PrimeUTR_Peptides.Frame1.tsv\n",
      "Output 3' UTR AA peptides to file: D:\\LinuxShare\\Humans\\Genome\\Seqs\\Ensembl\\3PrimeUTR_Peptides.Frame1.fa\n",
      "2021-03-10 13:59:06.083308\n"
     ]
    }
   ],
   "source": [
    "print('Extracting DNA sequences and translating')\n",
    "minpeplength = 6\n",
    "frame = 1  # 0, 1, or 2\n",
    "output = []\n",
    "outputAAseqs = []\n",
    "\n",
    "## stop codon is before 3' UTR\n",
    "for a in annotation:\n",
    "    if a[6] == '+':\n",
    "        start, end = int(a[3]), int(a[4])\n",
    "        start = start + frame\n",
    "        while (end - start + 1) % 3 != 0:  # this makes sure the length of sequence is a multiple of 3\n",
    "            end -= 1\n",
    "        utrAAseq = translate_AA_from_dna_human_terminate_at_stop(dgenome[a[0]][start-1:end])  # end-2:end+1+peplength-3\n",
    "        utrdnaseq = dgenome[a[0]][start-1:end]  # with ends trimmed to be a multiple of 3\n",
    "        stopcodon = dgenome[a[0]][start-4:start-1]\n",
    "        metadata = a[8].split('\"; ')\n",
    "        for meta in metadata:\n",
    "            if meta[:len('gene_name \"')] == 'gene_name \"':\n",
    "                genename = meta[len('gene_name \"'):]\n",
    "        name = '.'.join([genename, a[0], a[3], a[4], str(frame)])       \n",
    "    elif a[6] == '-':\n",
    "        end, start = int(a[3]), int(a[4])  # the end coordinate is column three for reverse reads\n",
    "        start = start - frame\n",
    "        while (start - end + 1) % 3 != 0:  # this makes sure the length of sequence is a multiple of 3\n",
    "            end += 1\n",
    "        revcomp, rev = reverse_complement_to_dna(dgenome[a[0]][end-1:start])  # long form # [end-2-peplength+3:end+1\n",
    "        utrAAseq = translate_AA_from_dna_human_terminate_at_stop(revcomp)\n",
    "        utrdnaseq = revcomp\n",
    "        stopcodon, revstop = reverse_complement_to_dna(dgenome[a[0]][start:start+3])\n",
    "        metadata = a[8].split('\"; ')\n",
    "        for meta in metadata:\n",
    "            if meta[:len('gene_name \"')] == 'gene_name \"':\n",
    "                genename = meta[len('gene_name \"'):]\n",
    "        name = '.'.join([genename, a[0], a[3], a[4], str(frame)])\n",
    "    else:\n",
    "        print('no orientation information... a problem')\n",
    "    if len(utrAAseq) >= minpeplength:\n",
    "        output.append('\\t'.join(a + [stopcodon, utrdnaseq, utrAAseq]))\n",
    "        outputAAseqs.append(f'>{name}\\n{utrAAseq}')\n",
    "\n",
    "#    protID = a[-1].split(';')[-1]  # isolating the protein ID from the annotation\n",
    "#    outputPlusOneAAOnly.append('>%s\\n%s' % (protID, PlusOneAAseq))\n",
    "#    outputProteinAndPlusOneAA.append('>%s\\n%s' % (protID, dproteins[protID] + PlusOneAAseq))\n",
    "#    if len(PlusOneAAseq) > minPeptideLength:\n",
    "#        outputPlusOneAAOnlyCutoff.append('>%s\\n%s' % (protID, PlusOneAAseq))\n",
    "#        outputProteinAndPlusOneAACutoff.append('>%s\\n%s' % (protID, dproteins[protID] + PlusOneAAseq))\n",
    "    \n",
    "    \n",
    "outfile = f'D:\\\\LinuxShare\\\\Humans\\\\Genome\\\\Annotations\\\\Ensembl\\\\3PrimeUTR_Peptides.Frame{frame}.tsv'\n",
    "with open(outfile, 'w') as OUT:\n",
    "    OUT.write('\\n'.join(output))\n",
    "print('Output 3\\' UTR AA annotation and peptides to file: %s' % (outfile))\n",
    "\n",
    "outfile = f'D:\\\\LinuxShare\\\\Humans\\\\Genome\\\\Seqs\\\\Ensembl\\\\3PrimeUTR_Peptides.Frame{frame}.fa'\n",
    "with open(outfile, 'w') as OUT:\n",
    "    OUT.write('\\n'.join(outputAAseqs))\n",
    "print('Output 3\\' UTR AA peptides to file: %s' % (outfile))\n",
    "\n",
    "\n",
    "print(datetime.datetime.now())\n"
   ]
  },
  {
   "cell_type": "code",
   "execution_count": 7,
   "metadata": {},
   "outputs": [
    {
     "name": "stdout",
     "output_type": "stream",
     "text": [
      "Extracting DNA sequences and translating\n",
      "Output 3' UTR AA annotation and peptides to file: D:\\LinuxShare\\Humans\\Genome\\Annotations\\Ensembl\\3PrimeUTR_Peptides.Frame2.tsv\n",
      "Output 3' UTR AA peptides to file: D:\\LinuxShare\\Humans\\Genome\\Seqs\\Ensembl\\3PrimeUTR_Peptides.Frame2.fa\n",
      "2021-03-10 13:59:16.196488\n"
     ]
    }
   ],
   "source": [
    "print('Extracting DNA sequences and translating')\n",
    "minpeplength = 6\n",
    "frame = 2  # 0, 1, or 2\n",
    "output = []\n",
    "outputAAseqs = []\n",
    "\n",
    "## stop codon is before 3' UTR\n",
    "for a in annotation:\n",
    "    if a[6] == '+':\n",
    "        start, end = int(a[3]), int(a[4])\n",
    "        start = start + frame\n",
    "        while (end - start + 1) % 3 != 0:  # this makes sure the length of sequence is a multiple of 3\n",
    "            end -= 1\n",
    "        utrAAseq = translate_AA_from_dna_human_terminate_at_stop(dgenome[a[0]][start-1:end])  # end-2:end+1+peplength-3\n",
    "        utrdnaseq = dgenome[a[0]][start-1:end]  # with ends trimmed to be a multiple of 3\n",
    "        stopcodon = dgenome[a[0]][start-4:start-1]\n",
    "        metadata = a[8].split('\"; ')\n",
    "        for meta in metadata:\n",
    "            if meta[:len('gene_name \"')] == 'gene_name \"':\n",
    "                genename = meta[len('gene_name \"'):]\n",
    "        name = '.'.join([genename, a[0], a[3], a[4], str(frame)])       \n",
    "    elif a[6] == '-':\n",
    "        end, start = int(a[3]), int(a[4])  # the end coordinate is column three for reverse reads\n",
    "        start = start - frame\n",
    "        while (start - end + 1) % 3 != 0:  # this makes sure the length of sequence is a multiple of 3\n",
    "            end += 1\n",
    "        revcomp, rev = reverse_complement_to_dna(dgenome[a[0]][end-1:start])  # long form # [end-2-peplength+3:end+1\n",
    "        utrAAseq = translate_AA_from_dna_human_terminate_at_stop(revcomp)\n",
    "        utrdnaseq = revcomp\n",
    "        stopcodon, revstop = reverse_complement_to_dna(dgenome[a[0]][start:start+3])\n",
    "        metadata = a[8].split('\"; ')\n",
    "        for meta in metadata:\n",
    "            if meta[:len('gene_name \"')] == 'gene_name \"':\n",
    "                genename = meta[len('gene_name \"'):]\n",
    "        name = '.'.join([genename, a[0], a[3], a[4], str(frame)])\n",
    "    else:\n",
    "        print('no orientation information... a problem')\n",
    "    if len(utrAAseq) >= minpeplength:\n",
    "        output.append('\\t'.join(a + [stopcodon, utrdnaseq, utrAAseq]))\n",
    "        outputAAseqs.append(f'>{name}\\n{utrAAseq}')\n",
    "\n",
    "#    protID = a[-1].split(';')[-1]  # isolating the protein ID from the annotation\n",
    "#    outputPlusOneAAOnly.append('>%s\\n%s' % (protID, PlusOneAAseq))\n",
    "#    outputProteinAndPlusOneAA.append('>%s\\n%s' % (protID, dproteins[protID] + PlusOneAAseq))\n",
    "#    if len(PlusOneAAseq) > minPeptideLength:\n",
    "#        outputPlusOneAAOnlyCutoff.append('>%s\\n%s' % (protID, PlusOneAAseq))\n",
    "#        outputProteinAndPlusOneAACutoff.append('>%s\\n%s' % (protID, dproteins[protID] + PlusOneAAseq))\n",
    "    \n",
    "    \n",
    "outfile = f'D:\\\\LinuxShare\\\\Humans\\\\Genome\\\\Annotations\\\\Ensembl\\\\3PrimeUTR_Peptides.Frame{frame}.tsv'\n",
    "with open(outfile, 'w') as OUT:\n",
    "    OUT.write('\\n'.join(output))\n",
    "print('Output 3\\' UTR AA annotation and peptides to file: %s' % (outfile))\n",
    "\n",
    "outfile = f'D:\\\\LinuxShare\\\\Humans\\\\Genome\\\\Seqs\\\\Ensembl\\\\3PrimeUTR_Peptides.Frame{frame}.fa'\n",
    "with open(outfile, 'w') as OUT:\n",
    "    OUT.write('\\n'.join(outputAAseqs))\n",
    "print('Output 3\\' UTR AA peptides to file: %s' % (outfile))\n",
    "\n",
    "\n",
    "print(datetime.datetime.now())\n"
   ]
  },
  {
   "cell_type": "code",
   "execution_count": null,
   "metadata": {},
   "outputs": [],
   "source": []
  }
 ],
 "metadata": {
  "kernelspec": {
   "display_name": "Python 3",
   "language": "python",
   "name": "python3"
  },
  "language_info": {
   "codemirror_mode": {
    "name": "ipython",
    "version": 3
   },
   "file_extension": ".py",
   "mimetype": "text/x-python",
   "name": "python",
   "nbconvert_exporter": "python",
   "pygments_lexer": "ipython3",
   "version": "3.7.3"
  }
 },
 "nbformat": 4,
 "nbformat_minor": 4
}
